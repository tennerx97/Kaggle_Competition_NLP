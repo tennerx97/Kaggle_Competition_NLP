{
  "nbformat": 4,
  "nbformat_minor": 0,
  "metadata": {
    "accelerator": "GPU",
    "colab": {
      "provenance": [],
      "toc_visible": true,
      "include_colab_link": true
    },
    "kernelspec": {
      "display_name": "Python 3",
      "name": "python3"
    },
    "language_info": {
      "name": "python"
    },
    "widgets": {
      "application/vnd.jupyter.widget-state+json": {
        "2cb2b3c6d0fc4c9db8e2ec6fd706e917": {
          "model_module": "@jupyter-widgets/controls",
          "model_name": "HBoxModel",
          "model_module_version": "1.5.0",
          "state": {
            "_view_name": "HBoxView",
            "_dom_classes": [],
            "_model_name": "HBoxModel",
            "_view_module": "@jupyter-widgets/controls",
            "_model_module_version": "1.5.0",
            "_view_count": null,
            "_view_module_version": "1.5.0",
            "box_style": "",
            "layout": "IPY_MODEL_381fb6baabb545e485d9029f5573711c",
            "_model_module": "@jupyter-widgets/controls",
            "children": [
              "IPY_MODEL_368019baaf9945ae93c65466880b269e",
              "IPY_MODEL_284d70c7cc204b058108215cc01ce358",
              "IPY_MODEL_ac4c5442470f45bcb5459c367d9f40cd"
            ]
          }
        },
        "381fb6baabb545e485d9029f5573711c": {
          "model_module": "@jupyter-widgets/base",
          "model_name": "LayoutModel",
          "model_module_version": "1.2.0",
          "state": {
            "_view_name": "LayoutView",
            "grid_template_rows": null,
            "right": null,
            "justify_content": null,
            "_view_module": "@jupyter-widgets/base",
            "overflow": null,
            "_model_module_version": "1.2.0",
            "_view_count": null,
            "flex_flow": null,
            "width": null,
            "min_width": null,
            "border": null,
            "align_items": null,
            "bottom": null,
            "_model_module": "@jupyter-widgets/base",
            "top": null,
            "grid_column": null,
            "overflow_y": null,
            "overflow_x": null,
            "grid_auto_flow": null,
            "grid_area": null,
            "grid_template_columns": null,
            "flex": null,
            "_model_name": "LayoutModel",
            "justify_items": null,
            "grid_row": null,
            "max_height": null,
            "align_content": null,
            "visibility": null,
            "align_self": null,
            "height": null,
            "min_height": null,
            "padding": null,
            "grid_auto_rows": null,
            "grid_gap": null,
            "max_width": null,
            "order": null,
            "_view_module_version": "1.2.0",
            "grid_template_areas": null,
            "object_position": null,
            "object_fit": null,
            "grid_auto_columns": null,
            "margin": null,
            "display": null,
            "left": null
          }
        },
        "368019baaf9945ae93c65466880b269e": {
          "model_module": "@jupyter-widgets/controls",
          "model_name": "HTMLModel",
          "model_module_version": "1.5.0",
          "state": {
            "_view_name": "HTMLView",
            "style": "IPY_MODEL_048516f5a603441b90b9df7e2e400893",
            "_dom_classes": [],
            "description": "",
            "_model_name": "HTMLModel",
            "placeholder": "​",
            "_view_module": "@jupyter-widgets/controls",
            "_model_module_version": "1.5.0",
            "value": "Downloading: 100%",
            "_view_count": null,
            "_view_module_version": "1.5.0",
            "description_tooltip": null,
            "_model_module": "@jupyter-widgets/controls",
            "layout": "IPY_MODEL_b4e713093ae547dbbb06acc7547d850d"
          }
        },
        "284d70c7cc204b058108215cc01ce358": {
          "model_module": "@jupyter-widgets/controls",
          "model_name": "FloatProgressModel",
          "model_module_version": "1.5.0",
          "state": {
            "_view_name": "ProgressView",
            "style": "IPY_MODEL_4cdb7bd855844927ae352e7484fee06b",
            "_dom_classes": [],
            "description": "",
            "_model_name": "FloatProgressModel",
            "bar_style": "success",
            "max": 231508,
            "_view_module": "@jupyter-widgets/controls",
            "_model_module_version": "1.5.0",
            "value": 231508,
            "_view_count": null,
            "_view_module_version": "1.5.0",
            "orientation": "horizontal",
            "min": 0,
            "description_tooltip": null,
            "_model_module": "@jupyter-widgets/controls",
            "layout": "IPY_MODEL_c624997a55f342ca9a3c17cd66339c9b"
          }
        },
        "ac4c5442470f45bcb5459c367d9f40cd": {
          "model_module": "@jupyter-widgets/controls",
          "model_name": "HTMLModel",
          "model_module_version": "1.5.0",
          "state": {
            "_view_name": "HTMLView",
            "style": "IPY_MODEL_519ed90ad93d455683979f81c728cb88",
            "_dom_classes": [],
            "description": "",
            "_model_name": "HTMLModel",
            "placeholder": "​",
            "_view_module": "@jupyter-widgets/controls",
            "_model_module_version": "1.5.0",
            "value": " 232k/232k [00:00&lt;00:00, 277kB/s]",
            "_view_count": null,
            "_view_module_version": "1.5.0",
            "description_tooltip": null,
            "_model_module": "@jupyter-widgets/controls",
            "layout": "IPY_MODEL_bdb74ce7fe15449db254bc71b1ab7bc6"
          }
        },
        "048516f5a603441b90b9df7e2e400893": {
          "model_module": "@jupyter-widgets/controls",
          "model_name": "DescriptionStyleModel",
          "model_module_version": "1.5.0",
          "state": {
            "_view_name": "StyleView",
            "_model_name": "DescriptionStyleModel",
            "description_width": "",
            "_view_module": "@jupyter-widgets/base",
            "_model_module_version": "1.5.0",
            "_view_count": null,
            "_view_module_version": "1.2.0",
            "_model_module": "@jupyter-widgets/controls"
          }
        },
        "b4e713093ae547dbbb06acc7547d850d": {
          "model_module": "@jupyter-widgets/base",
          "model_name": "LayoutModel",
          "model_module_version": "1.2.0",
          "state": {
            "_view_name": "LayoutView",
            "grid_template_rows": null,
            "right": null,
            "justify_content": null,
            "_view_module": "@jupyter-widgets/base",
            "overflow": null,
            "_model_module_version": "1.2.0",
            "_view_count": null,
            "flex_flow": null,
            "width": null,
            "min_width": null,
            "border": null,
            "align_items": null,
            "bottom": null,
            "_model_module": "@jupyter-widgets/base",
            "top": null,
            "grid_column": null,
            "overflow_y": null,
            "overflow_x": null,
            "grid_auto_flow": null,
            "grid_area": null,
            "grid_template_columns": null,
            "flex": null,
            "_model_name": "LayoutModel",
            "justify_items": null,
            "grid_row": null,
            "max_height": null,
            "align_content": null,
            "visibility": null,
            "align_self": null,
            "height": null,
            "min_height": null,
            "padding": null,
            "grid_auto_rows": null,
            "grid_gap": null,
            "max_width": null,
            "order": null,
            "_view_module_version": "1.2.0",
            "grid_template_areas": null,
            "object_position": null,
            "object_fit": null,
            "grid_auto_columns": null,
            "margin": null,
            "display": null,
            "left": null
          }
        },
        "4cdb7bd855844927ae352e7484fee06b": {
          "model_module": "@jupyter-widgets/controls",
          "model_name": "ProgressStyleModel",
          "model_module_version": "1.5.0",
          "state": {
            "_view_name": "StyleView",
            "_model_name": "ProgressStyleModel",
            "description_width": "",
            "_view_module": "@jupyter-widgets/base",
            "_model_module_version": "1.5.0",
            "_view_count": null,
            "_view_module_version": "1.2.0",
            "bar_color": null,
            "_model_module": "@jupyter-widgets/controls"
          }
        },
        "c624997a55f342ca9a3c17cd66339c9b": {
          "model_module": "@jupyter-widgets/base",
          "model_name": "LayoutModel",
          "model_module_version": "1.2.0",
          "state": {
            "_view_name": "LayoutView",
            "grid_template_rows": null,
            "right": null,
            "justify_content": null,
            "_view_module": "@jupyter-widgets/base",
            "overflow": null,
            "_model_module_version": "1.2.0",
            "_view_count": null,
            "flex_flow": null,
            "width": null,
            "min_width": null,
            "border": null,
            "align_items": null,
            "bottom": null,
            "_model_module": "@jupyter-widgets/base",
            "top": null,
            "grid_column": null,
            "overflow_y": null,
            "overflow_x": null,
            "grid_auto_flow": null,
            "grid_area": null,
            "grid_template_columns": null,
            "flex": null,
            "_model_name": "LayoutModel",
            "justify_items": null,
            "grid_row": null,
            "max_height": null,
            "align_content": null,
            "visibility": null,
            "align_self": null,
            "height": null,
            "min_height": null,
            "padding": null,
            "grid_auto_rows": null,
            "grid_gap": null,
            "max_width": null,
            "order": null,
            "_view_module_version": "1.2.0",
            "grid_template_areas": null,
            "object_position": null,
            "object_fit": null,
            "grid_auto_columns": null,
            "margin": null,
            "display": null,
            "left": null
          }
        },
        "519ed90ad93d455683979f81c728cb88": {
          "model_module": "@jupyter-widgets/controls",
          "model_name": "DescriptionStyleModel",
          "model_module_version": "1.5.0",
          "state": {
            "_view_name": "StyleView",
            "_model_name": "DescriptionStyleModel",
            "description_width": "",
            "_view_module": "@jupyter-widgets/base",
            "_model_module_version": "1.5.0",
            "_view_count": null,
            "_view_module_version": "1.2.0",
            "_model_module": "@jupyter-widgets/controls"
          }
        },
        "bdb74ce7fe15449db254bc71b1ab7bc6": {
          "model_module": "@jupyter-widgets/base",
          "model_name": "LayoutModel",
          "model_module_version": "1.2.0",
          "state": {
            "_view_name": "LayoutView",
            "grid_template_rows": null,
            "right": null,
            "justify_content": null,
            "_view_module": "@jupyter-widgets/base",
            "overflow": null,
            "_model_module_version": "1.2.0",
            "_view_count": null,
            "flex_flow": null,
            "width": null,
            "min_width": null,
            "border": null,
            "align_items": null,
            "bottom": null,
            "_model_module": "@jupyter-widgets/base",
            "top": null,
            "grid_column": null,
            "overflow_y": null,
            "overflow_x": null,
            "grid_auto_flow": null,
            "grid_area": null,
            "grid_template_columns": null,
            "flex": null,
            "_model_name": "LayoutModel",
            "justify_items": null,
            "grid_row": null,
            "max_height": null,
            "align_content": null,
            "visibility": null,
            "align_self": null,
            "height": null,
            "min_height": null,
            "padding": null,
            "grid_auto_rows": null,
            "grid_gap": null,
            "max_width": null,
            "order": null,
            "_view_module_version": "1.2.0",
            "grid_template_areas": null,
            "object_position": null,
            "object_fit": null,
            "grid_auto_columns": null,
            "margin": null,
            "display": null,
            "left": null
          }
        },
        "792b6cd9d1614e67acf3042d9a59ff14": {
          "model_module": "@jupyter-widgets/controls",
          "model_name": "HBoxModel",
          "model_module_version": "1.5.0",
          "state": {
            "_view_name": "HBoxView",
            "_dom_classes": [],
            "_model_name": "HBoxModel",
            "_view_module": "@jupyter-widgets/controls",
            "_model_module_version": "1.5.0",
            "_view_count": null,
            "_view_module_version": "1.5.0",
            "box_style": "",
            "layout": "IPY_MODEL_17c3598f8fc14a0e83084ab28ab6620e",
            "_model_module": "@jupyter-widgets/controls",
            "children": [
              "IPY_MODEL_5670c5b24f0b4107a1f2d46f19160fea",
              "IPY_MODEL_428d8ef78fe642a78b3b6eec36756f9c",
              "IPY_MODEL_612ad14a3063497aa4423c44949c34e6"
            ]
          }
        },
        "17c3598f8fc14a0e83084ab28ab6620e": {
          "model_module": "@jupyter-widgets/base",
          "model_name": "LayoutModel",
          "model_module_version": "1.2.0",
          "state": {
            "_view_name": "LayoutView",
            "grid_template_rows": null,
            "right": null,
            "justify_content": null,
            "_view_module": "@jupyter-widgets/base",
            "overflow": null,
            "_model_module_version": "1.2.0",
            "_view_count": null,
            "flex_flow": null,
            "width": null,
            "min_width": null,
            "border": null,
            "align_items": null,
            "bottom": null,
            "_model_module": "@jupyter-widgets/base",
            "top": null,
            "grid_column": null,
            "overflow_y": null,
            "overflow_x": null,
            "grid_auto_flow": null,
            "grid_area": null,
            "grid_template_columns": null,
            "flex": null,
            "_model_name": "LayoutModel",
            "justify_items": null,
            "grid_row": null,
            "max_height": null,
            "align_content": null,
            "visibility": null,
            "align_self": null,
            "height": null,
            "min_height": null,
            "padding": null,
            "grid_auto_rows": null,
            "grid_gap": null,
            "max_width": null,
            "order": null,
            "_view_module_version": "1.2.0",
            "grid_template_areas": null,
            "object_position": null,
            "object_fit": null,
            "grid_auto_columns": null,
            "margin": null,
            "display": null,
            "left": null
          }
        },
        "5670c5b24f0b4107a1f2d46f19160fea": {
          "model_module": "@jupyter-widgets/controls",
          "model_name": "HTMLModel",
          "model_module_version": "1.5.0",
          "state": {
            "_view_name": "HTMLView",
            "style": "IPY_MODEL_044e0192b8b54c33a6c02e52dcc32c78",
            "_dom_classes": [],
            "description": "",
            "_model_name": "HTMLModel",
            "placeholder": "​",
            "_view_module": "@jupyter-widgets/controls",
            "_model_module_version": "1.5.0",
            "value": "Downloading: 100%",
            "_view_count": null,
            "_view_module_version": "1.5.0",
            "description_tooltip": null,
            "_model_module": "@jupyter-widgets/controls",
            "layout": "IPY_MODEL_e73ac9d6aadb4a11a7a5810593e8fba5"
          }
        },
        "428d8ef78fe642a78b3b6eec36756f9c": {
          "model_module": "@jupyter-widgets/controls",
          "model_name": "FloatProgressModel",
          "model_module_version": "1.5.0",
          "state": {
            "_view_name": "ProgressView",
            "style": "IPY_MODEL_4ac5f77361694b6da6082c1b37c80382",
            "_dom_classes": [],
            "description": "",
            "_model_name": "FloatProgressModel",
            "bar_style": "success",
            "max": 28,
            "_view_module": "@jupyter-widgets/controls",
            "_model_module_version": "1.5.0",
            "value": 28,
            "_view_count": null,
            "_view_module_version": "1.5.0",
            "orientation": "horizontal",
            "min": 0,
            "description_tooltip": null,
            "_model_module": "@jupyter-widgets/controls",
            "layout": "IPY_MODEL_f80a3a0b283d48fab8dcad51dcd1a187"
          }
        },
        "612ad14a3063497aa4423c44949c34e6": {
          "model_module": "@jupyter-widgets/controls",
          "model_name": "HTMLModel",
          "model_module_version": "1.5.0",
          "state": {
            "_view_name": "HTMLView",
            "style": "IPY_MODEL_291c1e217f1440d481361ce6e7c8dad7",
            "_dom_classes": [],
            "description": "",
            "_model_name": "HTMLModel",
            "placeholder": "​",
            "_view_module": "@jupyter-widgets/controls",
            "_model_module_version": "1.5.0",
            "value": " 28.0/28.0 [00:00&lt;00:00, 528B/s]",
            "_view_count": null,
            "_view_module_version": "1.5.0",
            "description_tooltip": null,
            "_model_module": "@jupyter-widgets/controls",
            "layout": "IPY_MODEL_6a3f1ba4651d4a9dbc7cdbcbe7527e7b"
          }
        },
        "044e0192b8b54c33a6c02e52dcc32c78": {
          "model_module": "@jupyter-widgets/controls",
          "model_name": "DescriptionStyleModel",
          "model_module_version": "1.5.0",
          "state": {
            "_view_name": "StyleView",
            "_model_name": "DescriptionStyleModel",
            "description_width": "",
            "_view_module": "@jupyter-widgets/base",
            "_model_module_version": "1.5.0",
            "_view_count": null,
            "_view_module_version": "1.2.0",
            "_model_module": "@jupyter-widgets/controls"
          }
        },
        "e73ac9d6aadb4a11a7a5810593e8fba5": {
          "model_module": "@jupyter-widgets/base",
          "model_name": "LayoutModel",
          "model_module_version": "1.2.0",
          "state": {
            "_view_name": "LayoutView",
            "grid_template_rows": null,
            "right": null,
            "justify_content": null,
            "_view_module": "@jupyter-widgets/base",
            "overflow": null,
            "_model_module_version": "1.2.0",
            "_view_count": null,
            "flex_flow": null,
            "width": null,
            "min_width": null,
            "border": null,
            "align_items": null,
            "bottom": null,
            "_model_module": "@jupyter-widgets/base",
            "top": null,
            "grid_column": null,
            "overflow_y": null,
            "overflow_x": null,
            "grid_auto_flow": null,
            "grid_area": null,
            "grid_template_columns": null,
            "flex": null,
            "_model_name": "LayoutModel",
            "justify_items": null,
            "grid_row": null,
            "max_height": null,
            "align_content": null,
            "visibility": null,
            "align_self": null,
            "height": null,
            "min_height": null,
            "padding": null,
            "grid_auto_rows": null,
            "grid_gap": null,
            "max_width": null,
            "order": null,
            "_view_module_version": "1.2.0",
            "grid_template_areas": null,
            "object_position": null,
            "object_fit": null,
            "grid_auto_columns": null,
            "margin": null,
            "display": null,
            "left": null
          }
        },
        "4ac5f77361694b6da6082c1b37c80382": {
          "model_module": "@jupyter-widgets/controls",
          "model_name": "ProgressStyleModel",
          "model_module_version": "1.5.0",
          "state": {
            "_view_name": "StyleView",
            "_model_name": "ProgressStyleModel",
            "description_width": "",
            "_view_module": "@jupyter-widgets/base",
            "_model_module_version": "1.5.0",
            "_view_count": null,
            "_view_module_version": "1.2.0",
            "bar_color": null,
            "_model_module": "@jupyter-widgets/controls"
          }
        },
        "f80a3a0b283d48fab8dcad51dcd1a187": {
          "model_module": "@jupyter-widgets/base",
          "model_name": "LayoutModel",
          "model_module_version": "1.2.0",
          "state": {
            "_view_name": "LayoutView",
            "grid_template_rows": null,
            "right": null,
            "justify_content": null,
            "_view_module": "@jupyter-widgets/base",
            "overflow": null,
            "_model_module_version": "1.2.0",
            "_view_count": null,
            "flex_flow": null,
            "width": null,
            "min_width": null,
            "border": null,
            "align_items": null,
            "bottom": null,
            "_model_module": "@jupyter-widgets/base",
            "top": null,
            "grid_column": null,
            "overflow_y": null,
            "overflow_x": null,
            "grid_auto_flow": null,
            "grid_area": null,
            "grid_template_columns": null,
            "flex": null,
            "_model_name": "LayoutModel",
            "justify_items": null,
            "grid_row": null,
            "max_height": null,
            "align_content": null,
            "visibility": null,
            "align_self": null,
            "height": null,
            "min_height": null,
            "padding": null,
            "grid_auto_rows": null,
            "grid_gap": null,
            "max_width": null,
            "order": null,
            "_view_module_version": "1.2.0",
            "grid_template_areas": null,
            "object_position": null,
            "object_fit": null,
            "grid_auto_columns": null,
            "margin": null,
            "display": null,
            "left": null
          }
        },
        "291c1e217f1440d481361ce6e7c8dad7": {
          "model_module": "@jupyter-widgets/controls",
          "model_name": "DescriptionStyleModel",
          "model_module_version": "1.5.0",
          "state": {
            "_view_name": "StyleView",
            "_model_name": "DescriptionStyleModel",
            "description_width": "",
            "_view_module": "@jupyter-widgets/base",
            "_model_module_version": "1.5.0",
            "_view_count": null,
            "_view_module_version": "1.2.0",
            "_model_module": "@jupyter-widgets/controls"
          }
        },
        "6a3f1ba4651d4a9dbc7cdbcbe7527e7b": {
          "model_module": "@jupyter-widgets/base",
          "model_name": "LayoutModel",
          "model_module_version": "1.2.0",
          "state": {
            "_view_name": "LayoutView",
            "grid_template_rows": null,
            "right": null,
            "justify_content": null,
            "_view_module": "@jupyter-widgets/base",
            "overflow": null,
            "_model_module_version": "1.2.0",
            "_view_count": null,
            "flex_flow": null,
            "width": null,
            "min_width": null,
            "border": null,
            "align_items": null,
            "bottom": null,
            "_model_module": "@jupyter-widgets/base",
            "top": null,
            "grid_column": null,
            "overflow_y": null,
            "overflow_x": null,
            "grid_auto_flow": null,
            "grid_area": null,
            "grid_template_columns": null,
            "flex": null,
            "_model_name": "LayoutModel",
            "justify_items": null,
            "grid_row": null,
            "max_height": null,
            "align_content": null,
            "visibility": null,
            "align_self": null,
            "height": null,
            "min_height": null,
            "padding": null,
            "grid_auto_rows": null,
            "grid_gap": null,
            "max_width": null,
            "order": null,
            "_view_module_version": "1.2.0",
            "grid_template_areas": null,
            "object_position": null,
            "object_fit": null,
            "grid_auto_columns": null,
            "margin": null,
            "display": null,
            "left": null
          }
        },
        "26970c8a2f01483e93a073f031331c67": {
          "model_module": "@jupyter-widgets/controls",
          "model_name": "HBoxModel",
          "model_module_version": "1.5.0",
          "state": {
            "_view_name": "HBoxView",
            "_dom_classes": [],
            "_model_name": "HBoxModel",
            "_view_module": "@jupyter-widgets/controls",
            "_model_module_version": "1.5.0",
            "_view_count": null,
            "_view_module_version": "1.5.0",
            "box_style": "",
            "layout": "IPY_MODEL_37fbcd7720524e17a843430941c49ddf",
            "_model_module": "@jupyter-widgets/controls",
            "children": [
              "IPY_MODEL_b1bbbd0d98d94365bda17d8fd5bbb0dd",
              "IPY_MODEL_d55c152d6dea46b29d0d098b7ca29f3f",
              "IPY_MODEL_e3235a628ea84e6d94791dfad41ad0da"
            ]
          }
        },
        "37fbcd7720524e17a843430941c49ddf": {
          "model_module": "@jupyter-widgets/base",
          "model_name": "LayoutModel",
          "model_module_version": "1.2.0",
          "state": {
            "_view_name": "LayoutView",
            "grid_template_rows": null,
            "right": null,
            "justify_content": null,
            "_view_module": "@jupyter-widgets/base",
            "overflow": null,
            "_model_module_version": "1.2.0",
            "_view_count": null,
            "flex_flow": null,
            "width": null,
            "min_width": null,
            "border": null,
            "align_items": null,
            "bottom": null,
            "_model_module": "@jupyter-widgets/base",
            "top": null,
            "grid_column": null,
            "overflow_y": null,
            "overflow_x": null,
            "grid_auto_flow": null,
            "grid_area": null,
            "grid_template_columns": null,
            "flex": null,
            "_model_name": "LayoutModel",
            "justify_items": null,
            "grid_row": null,
            "max_height": null,
            "align_content": null,
            "visibility": null,
            "align_self": null,
            "height": null,
            "min_height": null,
            "padding": null,
            "grid_auto_rows": null,
            "grid_gap": null,
            "max_width": null,
            "order": null,
            "_view_module_version": "1.2.0",
            "grid_template_areas": null,
            "object_position": null,
            "object_fit": null,
            "grid_auto_columns": null,
            "margin": null,
            "display": null,
            "left": null
          }
        },
        "b1bbbd0d98d94365bda17d8fd5bbb0dd": {
          "model_module": "@jupyter-widgets/controls",
          "model_name": "HTMLModel",
          "model_module_version": "1.5.0",
          "state": {
            "_view_name": "HTMLView",
            "style": "IPY_MODEL_aa7c636773094b72826c5607f7aa3b7d",
            "_dom_classes": [],
            "description": "",
            "_model_name": "HTMLModel",
            "placeholder": "​",
            "_view_module": "@jupyter-widgets/controls",
            "_model_module_version": "1.5.0",
            "value": "Downloading: 100%",
            "_view_count": null,
            "_view_module_version": "1.5.0",
            "description_tooltip": null,
            "_model_module": "@jupyter-widgets/controls",
            "layout": "IPY_MODEL_f31d822abac3409682ae54737ecc1d70"
          }
        },
        "d55c152d6dea46b29d0d098b7ca29f3f": {
          "model_module": "@jupyter-widgets/controls",
          "model_name": "FloatProgressModel",
          "model_module_version": "1.5.0",
          "state": {
            "_view_name": "ProgressView",
            "style": "IPY_MODEL_e871fce5a20a4a9e8fdc91efeea2e06d",
            "_dom_classes": [],
            "description": "",
            "_model_name": "FloatProgressModel",
            "bar_style": "success",
            "max": 466062,
            "_view_module": "@jupyter-widgets/controls",
            "_model_module_version": "1.5.0",
            "value": 466062,
            "_view_count": null,
            "_view_module_version": "1.5.0",
            "orientation": "horizontal",
            "min": 0,
            "description_tooltip": null,
            "_model_module": "@jupyter-widgets/controls",
            "layout": "IPY_MODEL_d2e1bf81c34a4566a8dfe42e52f679be"
          }
        },
        "e3235a628ea84e6d94791dfad41ad0da": {
          "model_module": "@jupyter-widgets/controls",
          "model_name": "HTMLModel",
          "model_module_version": "1.5.0",
          "state": {
            "_view_name": "HTMLView",
            "style": "IPY_MODEL_1c7a8813d61f4163959eac8661f97a5e",
            "_dom_classes": [],
            "description": "",
            "_model_name": "HTMLModel",
            "placeholder": "​",
            "_view_module": "@jupyter-widgets/controls",
            "_model_module_version": "1.5.0",
            "value": " 466k/466k [00:00&lt;00:00, 466kB/s]",
            "_view_count": null,
            "_view_module_version": "1.5.0",
            "description_tooltip": null,
            "_model_module": "@jupyter-widgets/controls",
            "layout": "IPY_MODEL_7ea0ec31f2af4ecf8bb822f943215973"
          }
        },
        "aa7c636773094b72826c5607f7aa3b7d": {
          "model_module": "@jupyter-widgets/controls",
          "model_name": "DescriptionStyleModel",
          "model_module_version": "1.5.0",
          "state": {
            "_view_name": "StyleView",
            "_model_name": "DescriptionStyleModel",
            "description_width": "",
            "_view_module": "@jupyter-widgets/base",
            "_model_module_version": "1.5.0",
            "_view_count": null,
            "_view_module_version": "1.2.0",
            "_model_module": "@jupyter-widgets/controls"
          }
        },
        "f31d822abac3409682ae54737ecc1d70": {
          "model_module": "@jupyter-widgets/base",
          "model_name": "LayoutModel",
          "model_module_version": "1.2.0",
          "state": {
            "_view_name": "LayoutView",
            "grid_template_rows": null,
            "right": null,
            "justify_content": null,
            "_view_module": "@jupyter-widgets/base",
            "overflow": null,
            "_model_module_version": "1.2.0",
            "_view_count": null,
            "flex_flow": null,
            "width": null,
            "min_width": null,
            "border": null,
            "align_items": null,
            "bottom": null,
            "_model_module": "@jupyter-widgets/base",
            "top": null,
            "grid_column": null,
            "overflow_y": null,
            "overflow_x": null,
            "grid_auto_flow": null,
            "grid_area": null,
            "grid_template_columns": null,
            "flex": null,
            "_model_name": "LayoutModel",
            "justify_items": null,
            "grid_row": null,
            "max_height": null,
            "align_content": null,
            "visibility": null,
            "align_self": null,
            "height": null,
            "min_height": null,
            "padding": null,
            "grid_auto_rows": null,
            "grid_gap": null,
            "max_width": null,
            "order": null,
            "_view_module_version": "1.2.0",
            "grid_template_areas": null,
            "object_position": null,
            "object_fit": null,
            "grid_auto_columns": null,
            "margin": null,
            "display": null,
            "left": null
          }
        },
        "e871fce5a20a4a9e8fdc91efeea2e06d": {
          "model_module": "@jupyter-widgets/controls",
          "model_name": "ProgressStyleModel",
          "model_module_version": "1.5.0",
          "state": {
            "_view_name": "StyleView",
            "_model_name": "ProgressStyleModel",
            "description_width": "",
            "_view_module": "@jupyter-widgets/base",
            "_model_module_version": "1.5.0",
            "_view_count": null,
            "_view_module_version": "1.2.0",
            "bar_color": null,
            "_model_module": "@jupyter-widgets/controls"
          }
        },
        "d2e1bf81c34a4566a8dfe42e52f679be": {
          "model_module": "@jupyter-widgets/base",
          "model_name": "LayoutModel",
          "model_module_version": "1.2.0",
          "state": {
            "_view_name": "LayoutView",
            "grid_template_rows": null,
            "right": null,
            "justify_content": null,
            "_view_module": "@jupyter-widgets/base",
            "overflow": null,
            "_model_module_version": "1.2.0",
            "_view_count": null,
            "flex_flow": null,
            "width": null,
            "min_width": null,
            "border": null,
            "align_items": null,
            "bottom": null,
            "_model_module": "@jupyter-widgets/base",
            "top": null,
            "grid_column": null,
            "overflow_y": null,
            "overflow_x": null,
            "grid_auto_flow": null,
            "grid_area": null,
            "grid_template_columns": null,
            "flex": null,
            "_model_name": "LayoutModel",
            "justify_items": null,
            "grid_row": null,
            "max_height": null,
            "align_content": null,
            "visibility": null,
            "align_self": null,
            "height": null,
            "min_height": null,
            "padding": null,
            "grid_auto_rows": null,
            "grid_gap": null,
            "max_width": null,
            "order": null,
            "_view_module_version": "1.2.0",
            "grid_template_areas": null,
            "object_position": null,
            "object_fit": null,
            "grid_auto_columns": null,
            "margin": null,
            "display": null,
            "left": null
          }
        },
        "1c7a8813d61f4163959eac8661f97a5e": {
          "model_module": "@jupyter-widgets/controls",
          "model_name": "DescriptionStyleModel",
          "model_module_version": "1.5.0",
          "state": {
            "_view_name": "StyleView",
            "_model_name": "DescriptionStyleModel",
            "description_width": "",
            "_view_module": "@jupyter-widgets/base",
            "_model_module_version": "1.5.0",
            "_view_count": null,
            "_view_module_version": "1.2.0",
            "_model_module": "@jupyter-widgets/controls"
          }
        },
        "7ea0ec31f2af4ecf8bb822f943215973": {
          "model_module": "@jupyter-widgets/base",
          "model_name": "LayoutModel",
          "model_module_version": "1.2.0",
          "state": {
            "_view_name": "LayoutView",
            "grid_template_rows": null,
            "right": null,
            "justify_content": null,
            "_view_module": "@jupyter-widgets/base",
            "overflow": null,
            "_model_module_version": "1.2.0",
            "_view_count": null,
            "flex_flow": null,
            "width": null,
            "min_width": null,
            "border": null,
            "align_items": null,
            "bottom": null,
            "_model_module": "@jupyter-widgets/base",
            "top": null,
            "grid_column": null,
            "overflow_y": null,
            "overflow_x": null,
            "grid_auto_flow": null,
            "grid_area": null,
            "grid_template_columns": null,
            "flex": null,
            "_model_name": "LayoutModel",
            "justify_items": null,
            "grid_row": null,
            "max_height": null,
            "align_content": null,
            "visibility": null,
            "align_self": null,
            "height": null,
            "min_height": null,
            "padding": null,
            "grid_auto_rows": null,
            "grid_gap": null,
            "max_width": null,
            "order": null,
            "_view_module_version": "1.2.0",
            "grid_template_areas": null,
            "object_position": null,
            "object_fit": null,
            "grid_auto_columns": null,
            "margin": null,
            "display": null,
            "left": null
          }
        },
        "c7749c5f911c477681daa34e70815574": {
          "model_module": "@jupyter-widgets/controls",
          "model_name": "HBoxModel",
          "model_module_version": "1.5.0",
          "state": {
            "_view_name": "HBoxView",
            "_dom_classes": [],
            "_model_name": "HBoxModel",
            "_view_module": "@jupyter-widgets/controls",
            "_model_module_version": "1.5.0",
            "_view_count": null,
            "_view_module_version": "1.5.0",
            "box_style": "",
            "layout": "IPY_MODEL_c74d2e2925eb49aa969462aa05b7149e",
            "_model_module": "@jupyter-widgets/controls",
            "children": [
              "IPY_MODEL_6f592102b72f43629dc3d39d2a7ac1b9",
              "IPY_MODEL_5d20aeec1b5f49779988940f227d2bce",
              "IPY_MODEL_4c15e54065354dc287b86676e6cd962d"
            ]
          }
        },
        "c74d2e2925eb49aa969462aa05b7149e": {
          "model_module": "@jupyter-widgets/base",
          "model_name": "LayoutModel",
          "model_module_version": "1.2.0",
          "state": {
            "_view_name": "LayoutView",
            "grid_template_rows": null,
            "right": null,
            "justify_content": null,
            "_view_module": "@jupyter-widgets/base",
            "overflow": null,
            "_model_module_version": "1.2.0",
            "_view_count": null,
            "flex_flow": null,
            "width": null,
            "min_width": null,
            "border": null,
            "align_items": null,
            "bottom": null,
            "_model_module": "@jupyter-widgets/base",
            "top": null,
            "grid_column": null,
            "overflow_y": null,
            "overflow_x": null,
            "grid_auto_flow": null,
            "grid_area": null,
            "grid_template_columns": null,
            "flex": null,
            "_model_name": "LayoutModel",
            "justify_items": null,
            "grid_row": null,
            "max_height": null,
            "align_content": null,
            "visibility": null,
            "align_self": null,
            "height": null,
            "min_height": null,
            "padding": null,
            "grid_auto_rows": null,
            "grid_gap": null,
            "max_width": null,
            "order": null,
            "_view_module_version": "1.2.0",
            "grid_template_areas": null,
            "object_position": null,
            "object_fit": null,
            "grid_auto_columns": null,
            "margin": null,
            "display": null,
            "left": null
          }
        },
        "6f592102b72f43629dc3d39d2a7ac1b9": {
          "model_module": "@jupyter-widgets/controls",
          "model_name": "HTMLModel",
          "model_module_version": "1.5.0",
          "state": {
            "_view_name": "HTMLView",
            "style": "IPY_MODEL_b562c24a3f8a4d87971f7132196d6fe1",
            "_dom_classes": [],
            "description": "",
            "_model_name": "HTMLModel",
            "placeholder": "​",
            "_view_module": "@jupyter-widgets/controls",
            "_model_module_version": "1.5.0",
            "value": "Downloading: 100%",
            "_view_count": null,
            "_view_module_version": "1.5.0",
            "description_tooltip": null,
            "_model_module": "@jupyter-widgets/controls",
            "layout": "IPY_MODEL_d3c34560e8f74251ae2fb7d880a8d1de"
          }
        },
        "5d20aeec1b5f49779988940f227d2bce": {
          "model_module": "@jupyter-widgets/controls",
          "model_name": "FloatProgressModel",
          "model_module_version": "1.5.0",
          "state": {
            "_view_name": "ProgressView",
            "style": "IPY_MODEL_a212f2f04321453f8f4f0e23aa055ce6",
            "_dom_classes": [],
            "description": "",
            "_model_name": "FloatProgressModel",
            "bar_style": "success",
            "max": 570,
            "_view_module": "@jupyter-widgets/controls",
            "_model_module_version": "1.5.0",
            "value": 570,
            "_view_count": null,
            "_view_module_version": "1.5.0",
            "orientation": "horizontal",
            "min": 0,
            "description_tooltip": null,
            "_model_module": "@jupyter-widgets/controls",
            "layout": "IPY_MODEL_d636424381334a72a47c32ec24185229"
          }
        },
        "4c15e54065354dc287b86676e6cd962d": {
          "model_module": "@jupyter-widgets/controls",
          "model_name": "HTMLModel",
          "model_module_version": "1.5.0",
          "state": {
            "_view_name": "HTMLView",
            "style": "IPY_MODEL_46c2977478be4504993e1520948cb385",
            "_dom_classes": [],
            "description": "",
            "_model_name": "HTMLModel",
            "placeholder": "​",
            "_view_module": "@jupyter-widgets/controls",
            "_model_module_version": "1.5.0",
            "value": " 570/570 [00:00&lt;00:00, 13.7kB/s]",
            "_view_count": null,
            "_view_module_version": "1.5.0",
            "description_tooltip": null,
            "_model_module": "@jupyter-widgets/controls",
            "layout": "IPY_MODEL_d7bfa5195d1647f1af107611f00f204a"
          }
        },
        "b562c24a3f8a4d87971f7132196d6fe1": {
          "model_module": "@jupyter-widgets/controls",
          "model_name": "DescriptionStyleModel",
          "model_module_version": "1.5.0",
          "state": {
            "_view_name": "StyleView",
            "_model_name": "DescriptionStyleModel",
            "description_width": "",
            "_view_module": "@jupyter-widgets/base",
            "_model_module_version": "1.5.0",
            "_view_count": null,
            "_view_module_version": "1.2.0",
            "_model_module": "@jupyter-widgets/controls"
          }
        },
        "d3c34560e8f74251ae2fb7d880a8d1de": {
          "model_module": "@jupyter-widgets/base",
          "model_name": "LayoutModel",
          "model_module_version": "1.2.0",
          "state": {
            "_view_name": "LayoutView",
            "grid_template_rows": null,
            "right": null,
            "justify_content": null,
            "_view_module": "@jupyter-widgets/base",
            "overflow": null,
            "_model_module_version": "1.2.0",
            "_view_count": null,
            "flex_flow": null,
            "width": null,
            "min_width": null,
            "border": null,
            "align_items": null,
            "bottom": null,
            "_model_module": "@jupyter-widgets/base",
            "top": null,
            "grid_column": null,
            "overflow_y": null,
            "overflow_x": null,
            "grid_auto_flow": null,
            "grid_area": null,
            "grid_template_columns": null,
            "flex": null,
            "_model_name": "LayoutModel",
            "justify_items": null,
            "grid_row": null,
            "max_height": null,
            "align_content": null,
            "visibility": null,
            "align_self": null,
            "height": null,
            "min_height": null,
            "padding": null,
            "grid_auto_rows": null,
            "grid_gap": null,
            "max_width": null,
            "order": null,
            "_view_module_version": "1.2.0",
            "grid_template_areas": null,
            "object_position": null,
            "object_fit": null,
            "grid_auto_columns": null,
            "margin": null,
            "display": null,
            "left": null
          }
        },
        "a212f2f04321453f8f4f0e23aa055ce6": {
          "model_module": "@jupyter-widgets/controls",
          "model_name": "ProgressStyleModel",
          "model_module_version": "1.5.0",
          "state": {
            "_view_name": "StyleView",
            "_model_name": "ProgressStyleModel",
            "description_width": "",
            "_view_module": "@jupyter-widgets/base",
            "_model_module_version": "1.5.0",
            "_view_count": null,
            "_view_module_version": "1.2.0",
            "bar_color": null,
            "_model_module": "@jupyter-widgets/controls"
          }
        },
        "d636424381334a72a47c32ec24185229": {
          "model_module": "@jupyter-widgets/base",
          "model_name": "LayoutModel",
          "model_module_version": "1.2.0",
          "state": {
            "_view_name": "LayoutView",
            "grid_template_rows": null,
            "right": null,
            "justify_content": null,
            "_view_module": "@jupyter-widgets/base",
            "overflow": null,
            "_model_module_version": "1.2.0",
            "_view_count": null,
            "flex_flow": null,
            "width": null,
            "min_width": null,
            "border": null,
            "align_items": null,
            "bottom": null,
            "_model_module": "@jupyter-widgets/base",
            "top": null,
            "grid_column": null,
            "overflow_y": null,
            "overflow_x": null,
            "grid_auto_flow": null,
            "grid_area": null,
            "grid_template_columns": null,
            "flex": null,
            "_model_name": "LayoutModel",
            "justify_items": null,
            "grid_row": null,
            "max_height": null,
            "align_content": null,
            "visibility": null,
            "align_self": null,
            "height": null,
            "min_height": null,
            "padding": null,
            "grid_auto_rows": null,
            "grid_gap": null,
            "max_width": null,
            "order": null,
            "_view_module_version": "1.2.0",
            "grid_template_areas": null,
            "object_position": null,
            "object_fit": null,
            "grid_auto_columns": null,
            "margin": null,
            "display": null,
            "left": null
          }
        },
        "46c2977478be4504993e1520948cb385": {
          "model_module": "@jupyter-widgets/controls",
          "model_name": "DescriptionStyleModel",
          "model_module_version": "1.5.0",
          "state": {
            "_view_name": "StyleView",
            "_model_name": "DescriptionStyleModel",
            "description_width": "",
            "_view_module": "@jupyter-widgets/base",
            "_model_module_version": "1.5.0",
            "_view_count": null,
            "_view_module_version": "1.2.0",
            "_model_module": "@jupyter-widgets/controls"
          }
        },
        "d7bfa5195d1647f1af107611f00f204a": {
          "model_module": "@jupyter-widgets/base",
          "model_name": "LayoutModel",
          "model_module_version": "1.2.0",
          "state": {
            "_view_name": "LayoutView",
            "grid_template_rows": null,
            "right": null,
            "justify_content": null,
            "_view_module": "@jupyter-widgets/base",
            "overflow": null,
            "_model_module_version": "1.2.0",
            "_view_count": null,
            "flex_flow": null,
            "width": null,
            "min_width": null,
            "border": null,
            "align_items": null,
            "bottom": null,
            "_model_module": "@jupyter-widgets/base",
            "top": null,
            "grid_column": null,
            "overflow_y": null,
            "overflow_x": null,
            "grid_auto_flow": null,
            "grid_area": null,
            "grid_template_columns": null,
            "flex": null,
            "_model_name": "LayoutModel",
            "justify_items": null,
            "grid_row": null,
            "max_height": null,
            "align_content": null,
            "visibility": null,
            "align_self": null,
            "height": null,
            "min_height": null,
            "padding": null,
            "grid_auto_rows": null,
            "grid_gap": null,
            "max_width": null,
            "order": null,
            "_view_module_version": "1.2.0",
            "grid_template_areas": null,
            "object_position": null,
            "object_fit": null,
            "grid_auto_columns": null,
            "margin": null,
            "display": null,
            "left": null
          }
        },
        "bdc036dec6704850bf018d7f34a4e725": {
          "model_module": "@jupyter-widgets/controls",
          "model_name": "HBoxModel",
          "model_module_version": "1.5.0",
          "state": {
            "_view_name": "HBoxView",
            "_dom_classes": [],
            "_model_name": "HBoxModel",
            "_view_module": "@jupyter-widgets/controls",
            "_model_module_version": "1.5.0",
            "_view_count": null,
            "_view_module_version": "1.5.0",
            "box_style": "",
            "layout": "IPY_MODEL_d7b7f319c6b84760b3b40c3fd89d47f8",
            "_model_module": "@jupyter-widgets/controls",
            "children": [
              "IPY_MODEL_65394173d9174e8b9b0e7ece01702de5",
              "IPY_MODEL_fd0617348450489dad5cd9dbdf8d5de3",
              "IPY_MODEL_21dcdd7317a64c00ad10df8e383580b2"
            ]
          }
        },
        "d7b7f319c6b84760b3b40c3fd89d47f8": {
          "model_module": "@jupyter-widgets/base",
          "model_name": "LayoutModel",
          "model_module_version": "1.2.0",
          "state": {
            "_view_name": "LayoutView",
            "grid_template_rows": null,
            "right": null,
            "justify_content": null,
            "_view_module": "@jupyter-widgets/base",
            "overflow": null,
            "_model_module_version": "1.2.0",
            "_view_count": null,
            "flex_flow": null,
            "width": null,
            "min_width": null,
            "border": null,
            "align_items": null,
            "bottom": null,
            "_model_module": "@jupyter-widgets/base",
            "top": null,
            "grid_column": null,
            "overflow_y": null,
            "overflow_x": null,
            "grid_auto_flow": null,
            "grid_area": null,
            "grid_template_columns": null,
            "flex": null,
            "_model_name": "LayoutModel",
            "justify_items": null,
            "grid_row": null,
            "max_height": null,
            "align_content": null,
            "visibility": null,
            "align_self": null,
            "height": null,
            "min_height": null,
            "padding": null,
            "grid_auto_rows": null,
            "grid_gap": null,
            "max_width": null,
            "order": null,
            "_view_module_version": "1.2.0",
            "grid_template_areas": null,
            "object_position": null,
            "object_fit": null,
            "grid_auto_columns": null,
            "margin": null,
            "display": null,
            "left": null
          }
        },
        "65394173d9174e8b9b0e7ece01702de5": {
          "model_module": "@jupyter-widgets/controls",
          "model_name": "HTMLModel",
          "model_module_version": "1.5.0",
          "state": {
            "_view_name": "HTMLView",
            "style": "IPY_MODEL_937d2d01b04f4ffcbad74e93d7fbfeb8",
            "_dom_classes": [],
            "description": "",
            "_model_name": "HTMLModel",
            "placeholder": "​",
            "_view_module": "@jupyter-widgets/controls",
            "_model_module_version": "1.5.0",
            "value": "Downloading: 100%",
            "_view_count": null,
            "_view_module_version": "1.5.0",
            "description_tooltip": null,
            "_model_module": "@jupyter-widgets/controls",
            "layout": "IPY_MODEL_f79c7ab4a65b4ac09fced6155dbd5240"
          }
        },
        "fd0617348450489dad5cd9dbdf8d5de3": {
          "model_module": "@jupyter-widgets/controls",
          "model_name": "FloatProgressModel",
          "model_module_version": "1.5.0",
          "state": {
            "_view_name": "ProgressView",
            "style": "IPY_MODEL_90b74c8350cb4bce9700f5a9f4563b7e",
            "_dom_classes": [],
            "description": "",
            "_model_name": "FloatProgressModel",
            "bar_style": "success",
            "max": 440473133,
            "_view_module": "@jupyter-widgets/controls",
            "_model_module_version": "1.5.0",
            "value": 440473133,
            "_view_count": null,
            "_view_module_version": "1.5.0",
            "orientation": "horizontal",
            "min": 0,
            "description_tooltip": null,
            "_model_module": "@jupyter-widgets/controls",
            "layout": "IPY_MODEL_bb6bcf7280eb4673b9a44bf29e2db983"
          }
        },
        "21dcdd7317a64c00ad10df8e383580b2": {
          "model_module": "@jupyter-widgets/controls",
          "model_name": "HTMLModel",
          "model_module_version": "1.5.0",
          "state": {
            "_view_name": "HTMLView",
            "style": "IPY_MODEL_b19265598b9e4f24a3a9ee46232a588c",
            "_dom_classes": [],
            "description": "",
            "_model_name": "HTMLModel",
            "placeholder": "​",
            "_view_module": "@jupyter-widgets/controls",
            "_model_module_version": "1.5.0",
            "value": " 440M/440M [00:16&lt;00:00, 26.8MB/s]",
            "_view_count": null,
            "_view_module_version": "1.5.0",
            "description_tooltip": null,
            "_model_module": "@jupyter-widgets/controls",
            "layout": "IPY_MODEL_fde1b3caa1c449738c0bcc7ea28c5dd2"
          }
        },
        "937d2d01b04f4ffcbad74e93d7fbfeb8": {
          "model_module": "@jupyter-widgets/controls",
          "model_name": "DescriptionStyleModel",
          "model_module_version": "1.5.0",
          "state": {
            "_view_name": "StyleView",
            "_model_name": "DescriptionStyleModel",
            "description_width": "",
            "_view_module": "@jupyter-widgets/base",
            "_model_module_version": "1.5.0",
            "_view_count": null,
            "_view_module_version": "1.2.0",
            "_model_module": "@jupyter-widgets/controls"
          }
        },
        "f79c7ab4a65b4ac09fced6155dbd5240": {
          "model_module": "@jupyter-widgets/base",
          "model_name": "LayoutModel",
          "model_module_version": "1.2.0",
          "state": {
            "_view_name": "LayoutView",
            "grid_template_rows": null,
            "right": null,
            "justify_content": null,
            "_view_module": "@jupyter-widgets/base",
            "overflow": null,
            "_model_module_version": "1.2.0",
            "_view_count": null,
            "flex_flow": null,
            "width": null,
            "min_width": null,
            "border": null,
            "align_items": null,
            "bottom": null,
            "_model_module": "@jupyter-widgets/base",
            "top": null,
            "grid_column": null,
            "overflow_y": null,
            "overflow_x": null,
            "grid_auto_flow": null,
            "grid_area": null,
            "grid_template_columns": null,
            "flex": null,
            "_model_name": "LayoutModel",
            "justify_items": null,
            "grid_row": null,
            "max_height": null,
            "align_content": null,
            "visibility": null,
            "align_self": null,
            "height": null,
            "min_height": null,
            "padding": null,
            "grid_auto_rows": null,
            "grid_gap": null,
            "max_width": null,
            "order": null,
            "_view_module_version": "1.2.0",
            "grid_template_areas": null,
            "object_position": null,
            "object_fit": null,
            "grid_auto_columns": null,
            "margin": null,
            "display": null,
            "left": null
          }
        },
        "90b74c8350cb4bce9700f5a9f4563b7e": {
          "model_module": "@jupyter-widgets/controls",
          "model_name": "ProgressStyleModel",
          "model_module_version": "1.5.0",
          "state": {
            "_view_name": "StyleView",
            "_model_name": "ProgressStyleModel",
            "description_width": "",
            "_view_module": "@jupyter-widgets/base",
            "_model_module_version": "1.5.0",
            "_view_count": null,
            "_view_module_version": "1.2.0",
            "bar_color": null,
            "_model_module": "@jupyter-widgets/controls"
          }
        },
        "bb6bcf7280eb4673b9a44bf29e2db983": {
          "model_module": "@jupyter-widgets/base",
          "model_name": "LayoutModel",
          "model_module_version": "1.2.0",
          "state": {
            "_view_name": "LayoutView",
            "grid_template_rows": null,
            "right": null,
            "justify_content": null,
            "_view_module": "@jupyter-widgets/base",
            "overflow": null,
            "_model_module_version": "1.2.0",
            "_view_count": null,
            "flex_flow": null,
            "width": null,
            "min_width": null,
            "border": null,
            "align_items": null,
            "bottom": null,
            "_model_module": "@jupyter-widgets/base",
            "top": null,
            "grid_column": null,
            "overflow_y": null,
            "overflow_x": null,
            "grid_auto_flow": null,
            "grid_area": null,
            "grid_template_columns": null,
            "flex": null,
            "_model_name": "LayoutModel",
            "justify_items": null,
            "grid_row": null,
            "max_height": null,
            "align_content": null,
            "visibility": null,
            "align_self": null,
            "height": null,
            "min_height": null,
            "padding": null,
            "grid_auto_rows": null,
            "grid_gap": null,
            "max_width": null,
            "order": null,
            "_view_module_version": "1.2.0",
            "grid_template_areas": null,
            "object_position": null,
            "object_fit": null,
            "grid_auto_columns": null,
            "margin": null,
            "display": null,
            "left": null
          }
        },
        "b19265598b9e4f24a3a9ee46232a588c": {
          "model_module": "@jupyter-widgets/controls",
          "model_name": "DescriptionStyleModel",
          "model_module_version": "1.5.0",
          "state": {
            "_view_name": "StyleView",
            "_model_name": "DescriptionStyleModel",
            "description_width": "",
            "_view_module": "@jupyter-widgets/base",
            "_model_module_version": "1.5.0",
            "_view_count": null,
            "_view_module_version": "1.2.0",
            "_model_module": "@jupyter-widgets/controls"
          }
        },
        "fde1b3caa1c449738c0bcc7ea28c5dd2": {
          "model_module": "@jupyter-widgets/base",
          "model_name": "LayoutModel",
          "model_module_version": "1.2.0",
          "state": {
            "_view_name": "LayoutView",
            "grid_template_rows": null,
            "right": null,
            "justify_content": null,
            "_view_module": "@jupyter-widgets/base",
            "overflow": null,
            "_model_module_version": "1.2.0",
            "_view_count": null,
            "flex_flow": null,
            "width": null,
            "min_width": null,
            "border": null,
            "align_items": null,
            "bottom": null,
            "_model_module": "@jupyter-widgets/base",
            "top": null,
            "grid_column": null,
            "overflow_y": null,
            "overflow_x": null,
            "grid_auto_flow": null,
            "grid_area": null,
            "grid_template_columns": null,
            "flex": null,
            "_model_name": "LayoutModel",
            "justify_items": null,
            "grid_row": null,
            "max_height": null,
            "align_content": null,
            "visibility": null,
            "align_self": null,
            "height": null,
            "min_height": null,
            "padding": null,
            "grid_auto_rows": null,
            "grid_gap": null,
            "max_width": null,
            "order": null,
            "_view_module_version": "1.2.0",
            "grid_template_areas": null,
            "object_position": null,
            "object_fit": null,
            "grid_auto_columns": null,
            "margin": null,
            "display": null,
            "left": null
          }
        }
      }
    }
  },
  "cells": [
    {
      "cell_type": "markdown",
      "metadata": {
        "id": "view-in-github",
        "colab_type": "text"
      },
      "source": [
        "<a href=\"https://colab.research.google.com/github/tennerx97/Kaggle_Competition_NLP/blob/main/Medfai%26Uberti_Natural_Language_Processing_with_Disaster_Tweets.ipynb\" target=\"_parent\"><img src=\"https://colab.research.google.com/assets/colab-badge.svg\" alt=\"Open In Colab\"/></a>"
      ]
    },
    {
      "cell_type": "markdown",
      "metadata": {
        "id": "e2wGANbEC33q"
      },
      "source": [
        "# Kaggle competition"
      ]
    },
    {
      "cell_type": "markdown",
      "metadata": {
        "id": "Jxj-L8ICBL7q"
      },
      "source": [
        "Nella competizione [Natural Language Processing with Disaster Tweets](https://www.kaggle.com/c/nlp-getting-started/overview)  andremo a lavorare con un insieme di post di Twitter. il goal è quello di predirre se un tweet riguarda un disastro oppure no.\n",
        "\n",
        "Approcceremo il problema nel seguente modo:\n",
        "1. **Exploratory data analysis:** controlleremo il dataset per poi effettuare operazioni di pulizia.\n",
        "2. **Feature engineering:** dobbiamo capire quali features ci sono.\n",
        "3. **Modelling:** scelta di un modello adatto.\n",
        "4. **Training:** allenamento del modello con il training set\n",
        "5. **Model evaluation:** si prova a predirre se un tweet riguarda un disastro oppure no, e si valuta la performance di un modello."
      ]
    },
    {
      "cell_type": "markdown",
      "metadata": {
        "id": "9fYl5oHfXeMS"
      },
      "source": [
        "# Imports"
      ]
    },
    {
      "cell_type": "code",
      "metadata": {
        "id": "pezsyU-UN-wK"
      },
      "source": [
        "import numpy as np\n",
        "import pandas as pd\n",
        "import seaborn as sns\n",
        "import string\n",
        "import matplotlib.pyplot as plt\n",
        "import plotly.express as px\n",
        "\n",
        "from sklearn.cluster import dbscan\n",
        "from sklearn.preprocessing import LabelEncoder\n",
        "from google.colab import drive\n",
        "import torch\n",
        "from torch import nn\n",
        " \n",
        "from sklearn.pipeline import Pipeline, make_pipeline, FeatureUnion\n",
        "from sklearn.feature_extraction.text import CountVectorizer\n",
        "from sklearn.base import BaseEstimator, ClassifierMixin\n",
        "from sklearn.linear_model import LogisticRegression\n",
        "from sklearn.model_selection import cross_val_score,train_test_split,GridSearchCV\n",
        "from sklearn.naive_bayes import MultinomialNB\n",
        "from sklearn.ensemble import RandomForestClassifier,BaggingClassifier,ExtraTreesClassifier\n",
        "from sklearn.tree import DecisionTreeClassifier\n",
        "\n",
        "# Constants\n",
        "RND_SEED = 11\n",
        "use_drive = True\n",
        "save_model = False"
      ],
      "execution_count": null,
      "outputs": []
    },
    {
      "cell_type": "code",
      "metadata": {
        "colab": {
          "base_uri": "https://localhost:8080/"
        },
        "id": "7wzwke0sxS6W",
        "outputId": "9b4946f9-a599-42da-a15d-a69164280003"
      },
      "source": [
        "!pip install transformers\n",
        "import transformers\n",
        "from transformers import AdamW, BertConfig, BertModel, BertTokenizer\n",
        "from torch.utils.data import DataLoader, RandomSampler, SequentialSampler, TensorDataset, random_split\n",
        "from torch.optim import lr_scheduler\n",
        "from torch import nn\n",
        "from transformers import get_linear_schedule_with_warmup\n",
        "from sklearn.metrics import f1_score, accuracy_score\n",
        "\n",
        "# select device\n",
        "if torch.cuda.is_available():        \n",
        "    device = torch.device(\"cuda\")\n",
        "else:\n",
        "    device = torch.device(\"cpu\")\n",
        "\n",
        "print(\"device:\", device)"
      ],
      "execution_count": null,
      "outputs": [
        {
          "output_type": "stream",
          "name": "stdout",
          "text": [
            "Collecting transformers\n",
            "  Downloading transformers-4.10.2-py3-none-any.whl (2.8 MB)\n",
            "\u001b[K     |████████████████████████████████| 2.8 MB 5.3 MB/s \n",
            "\u001b[?25hRequirement already satisfied: packaging in /usr/local/lib/python3.7/dist-packages (from transformers) (21.0)\n",
            "Collecting tokenizers<0.11,>=0.10.1\n",
            "  Downloading tokenizers-0.10.3-cp37-cp37m-manylinux_2_5_x86_64.manylinux1_x86_64.manylinux_2_12_x86_64.manylinux2010_x86_64.whl (3.3 MB)\n",
            "\u001b[K     |████████████████████████████████| 3.3 MB 39.4 MB/s \n",
            "\u001b[?25hRequirement already satisfied: tqdm>=4.27 in /usr/local/lib/python3.7/dist-packages (from transformers) (4.62.0)\n",
            "Requirement already satisfied: importlib-metadata in /usr/local/lib/python3.7/dist-packages (from transformers) (4.6.4)\n",
            "Collecting huggingface-hub>=0.0.12\n",
            "  Downloading huggingface_hub-0.0.17-py3-none-any.whl (52 kB)\n",
            "\u001b[K     |████████████████████████████████| 52 kB 1.6 MB/s \n",
            "\u001b[?25hRequirement already satisfied: requests in /usr/local/lib/python3.7/dist-packages (from transformers) (2.23.0)\n",
            "Collecting sacremoses\n",
            "  Downloading sacremoses-0.0.45-py3-none-any.whl (895 kB)\n",
            "\u001b[K     |████████████████████████████████| 895 kB 40.1 MB/s \n",
            "\u001b[?25hRequirement already satisfied: filelock in /usr/local/lib/python3.7/dist-packages (from transformers) (3.0.12)\n",
            "Requirement already satisfied: numpy>=1.17 in /usr/local/lib/python3.7/dist-packages (from transformers) (1.19.5)\n",
            "Collecting pyyaml>=5.1\n",
            "  Downloading PyYAML-5.4.1-cp37-cp37m-manylinux1_x86_64.whl (636 kB)\n",
            "\u001b[K     |████████████████████████████████| 636 kB 46.8 MB/s \n",
            "\u001b[?25hRequirement already satisfied: regex!=2019.12.17 in /usr/local/lib/python3.7/dist-packages (from transformers) (2019.12.20)\n",
            "Requirement already satisfied: typing-extensions in /usr/local/lib/python3.7/dist-packages (from huggingface-hub>=0.0.12->transformers) (3.7.4.3)\n",
            "Requirement already satisfied: pyparsing>=2.0.2 in /usr/local/lib/python3.7/dist-packages (from packaging->transformers) (2.4.7)\n",
            "Requirement already satisfied: zipp>=0.5 in /usr/local/lib/python3.7/dist-packages (from importlib-metadata->transformers) (3.5.0)\n",
            "Requirement already satisfied: certifi>=2017.4.17 in /usr/local/lib/python3.7/dist-packages (from requests->transformers) (2021.5.30)\n",
            "Requirement already satisfied: idna<3,>=2.5 in /usr/local/lib/python3.7/dist-packages (from requests->transformers) (2.10)\n",
            "Requirement already satisfied: urllib3!=1.25.0,!=1.25.1,<1.26,>=1.21.1 in /usr/local/lib/python3.7/dist-packages (from requests->transformers) (1.24.3)\n",
            "Requirement already satisfied: chardet<4,>=3.0.2 in /usr/local/lib/python3.7/dist-packages (from requests->transformers) (3.0.4)\n",
            "Requirement already satisfied: joblib in /usr/local/lib/python3.7/dist-packages (from sacremoses->transformers) (1.0.1)\n",
            "Requirement already satisfied: six in /usr/local/lib/python3.7/dist-packages (from sacremoses->transformers) (1.15.0)\n",
            "Requirement already satisfied: click in /usr/local/lib/python3.7/dist-packages (from sacremoses->transformers) (7.1.2)\n",
            "Installing collected packages: tokenizers, sacremoses, pyyaml, huggingface-hub, transformers\n",
            "  Attempting uninstall: pyyaml\n",
            "    Found existing installation: PyYAML 3.13\n",
            "    Uninstalling PyYAML-3.13:\n",
            "      Successfully uninstalled PyYAML-3.13\n",
            "Successfully installed huggingface-hub-0.0.17 pyyaml-5.4.1 sacremoses-0.0.45 tokenizers-0.10.3 transformers-4.10.2\n",
            "device: cuda\n"
          ]
        }
      ]
    },
    {
      "cell_type": "markdown",
      "metadata": {
        "id": "AOPFdZVugB2c"
      },
      "source": [
        "Caricamento dei 3 insiemi di dati da google drive."
      ]
    },
    {
      "cell_type": "code",
      "metadata": {
        "id": "citYB9MGQIj-",
        "colab": {
          "base_uri": "https://localhost:8080/"
        },
        "outputId": "18c0d9f4-c4e5-4b92-ad00-2e5b4fe80184"
      },
      "source": [
        "if use_drive:\n",
        "  drive_name = '/content/drive'\n",
        "  drive.mount(drive_name)\n",
        "  drive_folder = 'Colab Notebooks/Twitter fn' # Files location in Google Drive\n",
        "  drive_location = drive_name + '/My Drive/' + drive_folder + '/'\n",
        "else:\n",
        "  drive_location = './'\n",
        " \n",
        "TRAIN_PATH = drive_location + 'datasets/train.csv'\n",
        "TEST_PATH = drive_location + 'datasets/test.csv'\n",
        "SUBMISSION_PATH = drive_location + 'datasets/sample_submission.csv'\n",
        "RESULT_PATH = drive_location + 'datasets/resultsNLP - resultsNLP (2).csv'\n",
        " \n",
        "train = pd.read_csv(TRAIN_PATH).loc[:,[\"text\",\"target\"]]\n",
        "train_full = pd.read_csv(TRAIN_PATH)\n",
        "test = pd.read_csv(TEST_PATH)[\"text\"]\n",
        "test_full = pd.read_csv(TEST_PATH)\n",
        "sample_submission = pd.read_csv(SUBMISSION_PATH, index_col='id')\n",
        "results = pd.read_csv(RESULT_PATH)"
      ],
      "execution_count": null,
      "outputs": [
        {
          "output_type": "stream",
          "name": "stdout",
          "text": [
            "Mounted at /content/drive\n"
          ]
        }
      ]
    },
    {
      "cell_type": "code",
      "metadata": {
        "id": "u9KRfLmIXNWJ",
        "colab": {
          "base_uri": "https://localhost:8080/",
          "height": 204
        },
        "outputId": "650743c3-8ed0-469f-b517-d913517f1756"
      },
      "source": [
        "train_full.head()"
      ],
      "execution_count": null,
      "outputs": [
        {
          "output_type": "execute_result",
          "data": {
            "text/html": [
              "<div>\n",
              "<style scoped>\n",
              "    .dataframe tbody tr th:only-of-type {\n",
              "        vertical-align: middle;\n",
              "    }\n",
              "\n",
              "    .dataframe tbody tr th {\n",
              "        vertical-align: top;\n",
              "    }\n",
              "\n",
              "    .dataframe thead th {\n",
              "        text-align: right;\n",
              "    }\n",
              "</style>\n",
              "<table border=\"1\" class=\"dataframe\">\n",
              "  <thead>\n",
              "    <tr style=\"text-align: right;\">\n",
              "      <th></th>\n",
              "      <th>id</th>\n",
              "      <th>keyword</th>\n",
              "      <th>location</th>\n",
              "      <th>text</th>\n",
              "      <th>target</th>\n",
              "    </tr>\n",
              "  </thead>\n",
              "  <tbody>\n",
              "    <tr>\n",
              "      <th>0</th>\n",
              "      <td>1</td>\n",
              "      <td>NaN</td>\n",
              "      <td>NaN</td>\n",
              "      <td>Our Deeds are the Reason of this #earthquake M...</td>\n",
              "      <td>1</td>\n",
              "    </tr>\n",
              "    <tr>\n",
              "      <th>1</th>\n",
              "      <td>4</td>\n",
              "      <td>NaN</td>\n",
              "      <td>NaN</td>\n",
              "      <td>Forest fire near La Ronge Sask. Canada</td>\n",
              "      <td>1</td>\n",
              "    </tr>\n",
              "    <tr>\n",
              "      <th>2</th>\n",
              "      <td>5</td>\n",
              "      <td>NaN</td>\n",
              "      <td>NaN</td>\n",
              "      <td>All residents asked to 'shelter in place' are ...</td>\n",
              "      <td>1</td>\n",
              "    </tr>\n",
              "    <tr>\n",
              "      <th>3</th>\n",
              "      <td>6</td>\n",
              "      <td>NaN</td>\n",
              "      <td>NaN</td>\n",
              "      <td>13,000 people receive #wildfires evacuation or...</td>\n",
              "      <td>1</td>\n",
              "    </tr>\n",
              "    <tr>\n",
              "      <th>4</th>\n",
              "      <td>7</td>\n",
              "      <td>NaN</td>\n",
              "      <td>NaN</td>\n",
              "      <td>Just got sent this photo from Ruby #Alaska as ...</td>\n",
              "      <td>1</td>\n",
              "    </tr>\n",
              "  </tbody>\n",
              "</table>\n",
              "</div>"
            ],
            "text/plain": [
              "   id keyword  ...                                               text target\n",
              "0   1     NaN  ...  Our Deeds are the Reason of this #earthquake M...      1\n",
              "1   4     NaN  ...             Forest fire near La Ronge Sask. Canada      1\n",
              "2   5     NaN  ...  All residents asked to 'shelter in place' are ...      1\n",
              "3   6     NaN  ...  13,000 people receive #wildfires evacuation or...      1\n",
              "4   7     NaN  ...  Just got sent this photo from Ruby #Alaska as ...      1\n",
              "\n",
              "[5 rows x 5 columns]"
            ]
          },
          "metadata": {},
          "execution_count": 10
        }
      ]
    },
    {
      "cell_type": "code",
      "metadata": {
        "id": "zfSqgG1RYYjj",
        "colab": {
          "base_uri": "https://localhost:8080/",
          "height": 204
        },
        "outputId": "91c21d4d-2592-403f-bb17-7c8229183ea7"
      },
      "source": [
        "test_full.head()"
      ],
      "execution_count": null,
      "outputs": [
        {
          "output_type": "execute_result",
          "data": {
            "text/html": [
              "<div>\n",
              "<style scoped>\n",
              "    .dataframe tbody tr th:only-of-type {\n",
              "        vertical-align: middle;\n",
              "    }\n",
              "\n",
              "    .dataframe tbody tr th {\n",
              "        vertical-align: top;\n",
              "    }\n",
              "\n",
              "    .dataframe thead th {\n",
              "        text-align: right;\n",
              "    }\n",
              "</style>\n",
              "<table border=\"1\" class=\"dataframe\">\n",
              "  <thead>\n",
              "    <tr style=\"text-align: right;\">\n",
              "      <th></th>\n",
              "      <th>id</th>\n",
              "      <th>keyword</th>\n",
              "      <th>location</th>\n",
              "      <th>text</th>\n",
              "    </tr>\n",
              "  </thead>\n",
              "  <tbody>\n",
              "    <tr>\n",
              "      <th>0</th>\n",
              "      <td>0</td>\n",
              "      <td>NaN</td>\n",
              "      <td>NaN</td>\n",
              "      <td>Just happened a terrible car crash</td>\n",
              "    </tr>\n",
              "    <tr>\n",
              "      <th>1</th>\n",
              "      <td>2</td>\n",
              "      <td>NaN</td>\n",
              "      <td>NaN</td>\n",
              "      <td>Heard about #earthquake is different cities, s...</td>\n",
              "    </tr>\n",
              "    <tr>\n",
              "      <th>2</th>\n",
              "      <td>3</td>\n",
              "      <td>NaN</td>\n",
              "      <td>NaN</td>\n",
              "      <td>there is a forest fire at spot pond, geese are...</td>\n",
              "    </tr>\n",
              "    <tr>\n",
              "      <th>3</th>\n",
              "      <td>9</td>\n",
              "      <td>NaN</td>\n",
              "      <td>NaN</td>\n",
              "      <td>Apocalypse lighting. #Spokane #wildfires</td>\n",
              "    </tr>\n",
              "    <tr>\n",
              "      <th>4</th>\n",
              "      <td>11</td>\n",
              "      <td>NaN</td>\n",
              "      <td>NaN</td>\n",
              "      <td>Typhoon Soudelor kills 28 in China and Taiwan</td>\n",
              "    </tr>\n",
              "  </tbody>\n",
              "</table>\n",
              "</div>"
            ],
            "text/plain": [
              "   id keyword location                                               text\n",
              "0   0     NaN      NaN                 Just happened a terrible car crash\n",
              "1   2     NaN      NaN  Heard about #earthquake is different cities, s...\n",
              "2   3     NaN      NaN  there is a forest fire at spot pond, geese are...\n",
              "3   9     NaN      NaN           Apocalypse lighting. #Spokane #wildfires\n",
              "4  11     NaN      NaN      Typhoon Soudelor kills 28 in China and Taiwan"
            ]
          },
          "metadata": {},
          "execution_count": 11
        }
      ]
    },
    {
      "cell_type": "markdown",
      "metadata": {
        "id": "bmDV191qJBXQ"
      },
      "source": [
        "# Exploratory Data Analysis"
      ]
    },
    {
      "cell_type": "markdown",
      "metadata": {
        "id": "cYuQ4iFTKFqa"
      },
      "source": [
        "Cominciamo andando ad esplorare il contenuto del dataset. In riferimento alla descrizione dei dati forniti dalla competizione abbiamo: il training set composto da un singolo file train.csv, che si compone dei segenti attributi:\n",
        "\n",
        "- `ID` - identificatore unico dei tweet\n",
        "- `text` - testo del tweet\n",
        "- `location` - la posizione dove il tweet è stato condiviso (può essere vuoto)\n",
        "- `keyword` - è una keyword particolare di un tweet (può essere vuoto)\n",
        "- `target` - solo nel file train.csv, questo indica se un tweet è un disastro (1) o no (0)"
      ]
    },
    {
      "cell_type": "markdown",
      "metadata": {
        "id": "WL_7fHBvY9pH"
      },
      "source": [
        "## Count missing values in columns"
      ]
    },
    {
      "cell_type": "markdown",
      "metadata": {
        "id": "tYUOYBloilsl"
      },
      "source": [
        "\n",
        "Andiamo a vedere alcune informazioni riguardanti i dati di training:"
      ]
    },
    {
      "cell_type": "code",
      "metadata": {
        "id": "oTYNapnsUyGA",
        "colab": {
          "base_uri": "https://localhost:8080/"
        },
        "outputId": "dbe31593-aa74-4ff5-8d41-92e38d2cf920"
      },
      "source": [
        "print(\"\\n-----------Informations-----------\")\n",
        "print(train_full.info())\n",
        "print(\"\\n----------Null values-----------\")\n",
        "print(train_full.isnull().sum())\n",
        "print(\"\\n----------Shape of Data----------\")\n",
        "print(train.shape)"
      ],
      "execution_count": null,
      "outputs": [
        {
          "output_type": "stream",
          "name": "stdout",
          "text": [
            "\n",
            "-----------Informations-----------\n",
            "<class 'pandas.core.frame.DataFrame'>\n",
            "RangeIndex: 7613 entries, 0 to 7612\n",
            "Data columns (total 5 columns):\n",
            " #   Column    Non-Null Count  Dtype \n",
            "---  ------    --------------  ----- \n",
            " 0   id        7613 non-null   int64 \n",
            " 1   keyword   7552 non-null   object\n",
            " 2   location  5080 non-null   object\n",
            " 3   text      7613 non-null   object\n",
            " 4   target    7613 non-null   int64 \n",
            "dtypes: int64(2), object(3)\n",
            "memory usage: 297.5+ KB\n",
            "None\n",
            "\n",
            "----------Null values-----------\n",
            "id             0\n",
            "keyword       61\n",
            "location    2533\n",
            "text           0\n",
            "target         0\n",
            "dtype: int64\n",
            "\n",
            "----------Shape of Data----------\n",
            "(7613, 2)\n"
          ]
        }
      ]
    },
    {
      "cell_type": "markdown",
      "metadata": {
        "id": "8CLn9ayNsSJW"
      },
      "source": [
        "Si può osservare come i dati siano quasi completi per tutte le features tranne `location` che ha più di un terzo dei valori mancanti.\n",
        "\n",
        "Non sembra necessario effettuare il downcasting, il training set non risulta molto ampio, ha solo 7613 entry."
      ]
    },
    {
      "cell_type": "markdown",
      "metadata": {
        "id": "ABBYmyRMjKCU"
      },
      "source": [
        "\n",
        "## Target analysis"
      ]
    },
    {
      "cell_type": "markdown",
      "metadata": {
        "id": "HPfEB-DzbA_F"
      },
      "source": [
        "Visualizzando le classificazioni dei tweet si nota come il dataset sia leggermente sbilanciato verso la classe 0 (circa il 57%), ma non in modo abbastanza significativo da inficiare i risultati."
      ]
    },
    {
      "cell_type": "code",
      "metadata": {
        "id": "bBu-TOWJwRiV",
        "colab": {
          "base_uri": "https://localhost:8080/",
          "height": 279
        },
        "outputId": "5146c6f6-d504-484f-8fb7-ef316f2ab8c9"
      },
      "source": [
        "# Class balance\n",
        "sns.countplot(y=train.target);"
      ],
      "execution_count": null,
      "outputs": [
        {
          "output_type": "display_data",
          "data": {
            "image/png": "[encoded data removed]",
            "text/plain": [
              "<Figure size 432x288 with 1 Axes>"
            ]
          },
          "metadata": {
            "needs_background": "light"
          }
        }
      ]
    },
    {
      "cell_type": "code",
      "metadata": {
        "id": "gNm6zXiJmHSN",
        "colab": {
          "base_uri": "https://localhost:8080/"
        },
        "outputId": "dcabf30c-f781-4beb-f886-d5cf5b13405d"
      },
      "source": [
        "train_full['target'].value_counts(normalize=1)[0:1] "
      ],
      "execution_count": null,
      "outputs": [
        {
          "output_type": "execute_result",
          "data": {
            "text/plain": [
              "0    0.57034\n",
              "Name: target, dtype: float64"
            ]
          },
          "metadata": {},
          "execution_count": 15
        }
      ]
    },
    {
      "cell_type": "markdown",
      "metadata": {
        "id": "_eZPwigNz_mO"
      },
      "source": [
        "## Keyword analysis"
      ]
    },
    {
      "cell_type": "code",
      "metadata": {
        "id": "rhofL-9Ayple",
        "colab": {
          "base_uri": "https://localhost:8080/"
        },
        "outputId": "d93d0367-2484-439d-9f13-a3693a78b2d5"
      },
      "source": [
        "# Check number of unique keywords\n",
        "print (train_full.keyword.nunique())"
      ],
      "execution_count": null,
      "outputs": [
        {
          "output_type": "stream",
          "name": "stdout",
          "text": [
            "221\n"
          ]
        }
      ]
    },
    {
      "cell_type": "markdown",
      "metadata": {
        "id": "DgAEdlgsxNrO"
      },
      "source": [
        "Vediamo quali sono le `keywords` più diffuse:"
      ]
    },
    {
      "cell_type": "code",
      "metadata": {
        "id": "VXIelLqoxOTD",
        "colab": {
          "base_uri": "https://localhost:8080/",
          "height": 404
        },
        "outputId": "d2bcb934-a391-4d1d-c101-4733225b2a0e"
      },
      "source": [
        "plt.figure(figsize=(9,6))\n",
        "sns.countplot(y=train_full.keyword, order = train_full.keyword.value_counts().iloc[:15].index)\n",
        "plt.title('Top 15 keywords')\n",
        "plt.show()"
      ],
      "execution_count": null,
      "outputs": [
        {
          "output_type": "display_data",
          "data": {
            "image/png": "[encoded data removed]",
            "text/plain": [
              "<Figure size 648x432 with 1 Axes>"
            ]
          },
          "metadata": {
            "needs_background": "light"
          }
        }
      ]
    },
    {
      "cell_type": "markdown",
      "metadata": {
        "id": "wzGY8IlXyALJ"
      },
      "source": [
        "Le 10 `keywords` più frequenti nei tweet che riportano un evento catastrofico:"
      ]
    },
    {
      "cell_type": "code",
      "metadata": {
        "id": "vXAePS0qyB91",
        "colab": {
          "base_uri": "https://localhost:8080/",
          "height": 383
        },
        "outputId": "80f845a5-ea4d-4ecb-c823-2c13bdfac93c"
      },
      "source": [
        "kw_d = train_full[train_full.target==1].keyword.value_counts().head(10)\n",
        "\n",
        "sns.barplot(kw_d, kw_d.index, color='c')\n",
        "plt.title('Top keywords for disaster tweets')\n",
        "plt.show()\n"
      ],
      "execution_count": null,
      "outputs": [
        {
          "output_type": "stream",
          "name": "stderr",
          "text": [
            "/usr/local/lib/python3.7/dist-packages/seaborn/_decorators.py:43: FutureWarning:\n",
            "\n",
            "Pass the following variables as keyword args: x, y. From version 0.12, the only valid positional argument will be `data`, and passing other arguments without an explicit keyword will result in an error or misinterpretation.\n",
            "\n"
          ]
        },
        {
          "output_type": "display_data",
          "data": {
            "image/png": "[encoded data removed]",
            "text/plain": [
              "<Figure size 432x288 with 1 Axes>"
            ]
          },
          "metadata": {
            "needs_background": "light"
          }
        }
      ]
    },
    {
      "cell_type": "markdown",
      "metadata": {
        "id": "oHG04vCjxYV0"
      },
      "source": [
        "Le 10 `keywords` più frequenti nei tweet che riportano un evento NON catastrofico:"
      ]
    },
    {
      "cell_type": "code",
      "metadata": {
        "id": "Kqd0-cXVxQ5X",
        "colab": {
          "base_uri": "https://localhost:8080/",
          "height": 383
        },
        "outputId": "f45f1616-0773-4fab-8f60-9fe7b4ffe7d0"
      },
      "source": [
        "kw_nd = train_full[train_full.target==0].keyword.value_counts().head(10)\n",
        "\n",
        "sns.barplot(kw_nd, kw_nd.index, color='y')\n",
        "plt.title('Top keywords for non-disaster tweets')\n",
        "plt.show()"
      ],
      "execution_count": null,
      "outputs": [
        {
          "output_type": "stream",
          "name": "stderr",
          "text": [
            "/usr/local/lib/python3.7/dist-packages/seaborn/_decorators.py:43: FutureWarning:\n",
            "\n",
            "Pass the following variables as keyword args: x, y. From version 0.12, the only valid positional argument will be `data`, and passing other arguments without an explicit keyword will result in an error or misinterpretation.\n",
            "\n"
          ]
        },
        {
          "output_type": "display_data",
          "data": {
            "image/png": "[encoded data removed]",
            "text/plain": [
              "<Figure size 432x288 with 1 Axes>"
            ]
          },
          "metadata": {
            "needs_background": "light"
          }
        }
      ]
    },
    {
      "cell_type": "markdown",
      "metadata": {
        "id": "MZqVZjczyP_Y"
      },
      "source": [
        "Non ci sono parole comuni nei due grafici.\n"
      ]
    },
    {
      "cell_type": "code",
      "metadata": {
        "id": "HpiDLJWPlcCl",
        "colab": {
          "base_uri": "https://localhost:8080/"
        },
        "outputId": "c69c91da-f523-49e0-b906-376c5e9e768f"
      },
      "source": [
        "armageddon_key= train_full[train_full.keyword=='armageddon']\n",
        "arm0=armageddon_key[armageddon_key.target==0].shape\n",
        "arm1=armageddon_key[armageddon_key.target==1].shape\n",
        "perc_arm0=arm0[0]/(arm0[0]+arm1[0])\n",
        "print('Percentuale di occorrenze della keyword armageddon in tweet NON catastrofici: ',perc_arm0*100,'%')"
      ],
      "execution_count": null,
      "outputs": [
        {
          "output_type": "stream",
          "name": "stdout",
          "text": [
            "Percentuale di occorrenze della keyword armageddon in tweet NON catastrofici:  88.09523809523809 %\n"
          ]
        }
      ]
    },
    {
      "cell_type": "code",
      "metadata": {
        "id": "NOyVeYcHnDjU",
        "colab": {
          "base_uri": "https://localhost:8080/"
        },
        "outputId": "b827d6db-da87-4a89-a53b-bfc9c0340866"
      },
      "source": [
        "explode_key= train_full[train_full.keyword=='explode']\n",
        "ex0=explode_key[explode_key.target==0].shape\n",
        "ex1=explode_key[explode_key.target==1].shape\n",
        "perc_ex0=ex0[0]/(ex0[0]+ex1[0])\n",
        "print('Percentuale di occorrenze della keyword explode in tweet NON catastrofici: ',perc_ex0*100,'%')"
      ],
      "execution_count": null,
      "outputs": [
        {
          "output_type": "stream",
          "name": "stdout",
          "text": [
            "Percentuale di occorrenze della keyword explode in tweet NON catastrofici:  92.10526315789474 %\n"
          ]
        }
      ]
    },
    {
      "cell_type": "markdown",
      "metadata": {
        "id": "joxhAVf4ndEM"
      },
      "source": [
        "Andando ad analizzare le 2 parole *armageddon* ed *explode*, che dal punto di vista del significato sembrano stonare rispetto alla loro posizione fra le keyword con maggiori classi negative, ci si è resi conto che non sono keyword su cui fare affidamento in fase di classificazione di nuovi tweet in quanto, seppur parole con un accezione negativa, nel nostro dataset hanno rispettivamente l'88% ed il 92% di occorrenze in tweet non associati a disastri, potrebbe essere dovuto al fatto che le persone tendono ad usare termini più euforici o fuori contesto che vengono poi selezionati come keyword. \n",
        "Un esempio è la keyword *explode* usata con la frase 'It's cold and my head wants to explode...'. Anche la parola *armageddon* viene spesso associata videogiochi, film e tag riferiti a username di altri utenti. "
      ]
    },
    {
      "cell_type": "markdown",
      "metadata": {
        "id": "QyGNq-jWms8S"
      },
      "source": [
        "\n",
        "Vediamo quindi le keyword con una % maggiore di comparsa in tweet catastrofici e NON catsatrofici:"
      ]
    },
    {
      "cell_type": "code",
      "metadata": {
        "id": "0qkcFNl4yrxJ",
        "colab": {
          "base_uri": "https://localhost:8080/",
          "height": 729
        },
        "outputId": "3dff0981-7902-42c6-f8c5-244196d36c1d"
      },
      "source": [
        "top_d = train_full.groupby('keyword').mean()['target'].sort_values(ascending=False).head(10)\n",
        "top_nd = train_full.groupby('keyword').mean()['target'].sort_values().head(10)\n",
        "\n",
        "sns.barplot(top_d, top_d.index, color='red')\n",
        "plt.title('Keywords with highest % of disaster tweets')\n",
        "plt.show()\n",
        "sns.barplot(top_nd, top_nd.index, color='green')\n",
        "plt.title('Keywords with lowest % of disaster tweets')\n",
        "plt.show()"
      ],
      "execution_count": null,
      "outputs": [
        {
          "output_type": "stream",
          "name": "stderr",
          "text": [
            "/usr/local/lib/python3.7/dist-packages/seaborn/_decorators.py:43: FutureWarning:\n",
            "\n",
            "Pass the following variables as keyword args: x, y. From version 0.12, the only valid positional argument will be `data`, and passing other arguments without an explicit keyword will result in an error or misinterpretation.\n",
            "\n"
          ]
        },
        {
          "output_type": "display_data",
          "data": {
            "image/png": "[encoded data removed]",
            "text/plain": [
              "<Figure size 432x288 with 1 Axes>"
            ]
          },
          "metadata": {
            "needs_background": "light"
          }
        },
        {
          "output_type": "stream",
          "name": "stderr",
          "text": [
            "/usr/local/lib/python3.7/dist-packages/seaborn/_decorators.py:43: FutureWarning:\n",
            "\n",
            "Pass the following variables as keyword args: x, y. From version 0.12, the only valid positional argument will be `data`, and passing other arguments without an explicit keyword will result in an error or misinterpretation.\n",
            "\n"
          ]
        },
        {
          "output_type": "display_data",
          "data": {
            "image/png": "[encoded data removed]",
            "text/plain": [
              "<Figure size 432x288 with 1 Axes>"
            ]
          },
          "metadata": {
            "needs_background": "light"
          }
        }
      ]
    },
    {
      "cell_type": "markdown",
      "metadata": {
        "id": "FwQx8tSf0F-j"
      },
      "source": [
        "## Location analysis"
      ]
    },
    {
      "cell_type": "code",
      "metadata": {
        "id": "y7vnRTFMy6bR",
        "colab": {
          "base_uri": "https://localhost:8080/"
        },
        "outputId": "0d29097b-c913-4fd2-a02a-3ce34969e6b1"
      },
      "source": [
        "# Check number of unique locations\n",
        "print (train_full.location.nunique())"
      ],
      "execution_count": null,
      "outputs": [
        {
          "output_type": "stream",
          "name": "stdout",
          "text": [
            "3341\n"
          ]
        }
      ]
    },
    {
      "cell_type": "code",
      "metadata": {
        "id": "WZs_YfCDzJUe",
        "colab": {
          "base_uri": "https://localhost:8080/",
          "height": 241
        },
        "outputId": "87ea43ad-dbf0-4d6c-8a9d-57d2056d571f"
      },
      "source": [
        "# Most common locations\n",
        "plt.figure(figsize=(9,3))\n",
        "sns.countplot(y=train_full.location, order = train_full.location.value_counts().iloc[:10].index)\n",
        "plt.title('Top 10 locations')\n",
        "plt.show()"
      ],
      "execution_count": null,
      "outputs": [
        {
          "output_type": "display_data",
          "data": {
            "image/png": "[encoded data removed]",
            "text/plain": [
              "<Figure size 648x216 with 1 Axes>"
            ]
          },
          "metadata": {
            "needs_background": "light"
          }
        }
      ]
    },
    {
      "cell_type": "markdown",
      "metadata": {
        "id": "R481OsiEzfbo"
      },
      "source": [
        "Possiamo immediatamente notare come l'attributo `location` soffre del problema che non è pulito, potremmo trovare valori diversi come 'USA' e 'Stati Uniti' che indicano lo stesso luogo ma vengono considerati diversi. \n",
        "\n",
        "Vediamo i luoghi più frequenti in percentuale dei tweet dove si è verificato un disatro."
      ]
    },
    {
      "cell_type": "code",
      "metadata": {
        "id": "AejHmC0fzf6s",
        "colab": {
          "base_uri": "https://localhost:8080/",
          "height": 467
        },
        "outputId": "4b03bf66-9409-4a2a-817d-e311aec47dec"
      },
      "source": [
        "raw_loc = train_full.location.value_counts()\n",
        "top_loc = list(raw_loc[raw_loc>=10].index)\n",
        "top_only = train_full[train_full.location.isin(top_loc)]\n",
        "\n",
        "top_l = top_only.groupby('location').mean()['target'].sort_values(ascending=False)\n",
        "plt.figure(figsize=(14,6))\n",
        "sns.barplot(x=top_l.index, y=top_l)\n",
        "plt.axhline(np.mean(train_full.target))\n",
        "plt.xticks(rotation=80)\n",
        "plt.show()"
      ],
      "execution_count": null,
      "outputs": [
        {
          "output_type": "display_data",
          "data": {
            "image/png": "[encoded data removed]",
            "text/plain": [
              "<Figure size 1008x432 with 1 Axes>"
            ]
          },
          "metadata": {
            "needs_background": "light"
          }
        }
      ]
    },
    {
      "cell_type": "markdown",
      "metadata": {
        "id": "x5ggPydSkHcj"
      },
      "source": [
        "#Feature Engineering"
      ]
    },
    {
      "cell_type": "markdown",
      "metadata": {
        "id": "p4x-QhjV1eYf"
      },
      "source": [
        "Le tecniche di *feature engineering* riportate di seguito sono possibilità che abbiamo testato nei vari modelli provati. Si noti che non tutte hanno dato i risultati sperati, anzi, ognuna è risultata utile per un gruppo limitato di modelli."
      ]
    },
    {
      "cell_type": "markdown",
      "metadata": {
        "id": "pfShv2faiz9D"
      },
      "source": [
        "## Duplicate elimination"
      ]
    },
    {
      "cell_type": "markdown",
      "metadata": {
        "id": "mqTGdOl_lCgx"
      },
      "source": [
        "La rimozione dei duplicati viene effettuata andando ad analizzare solamente gli attributi `text` e `target`"
      ]
    },
    {
      "cell_type": "code",
      "metadata": {
        "id": "t2yiLqHSqxWN",
        "colab": {
          "base_uri": "https://localhost:8080/",
          "height": 453
        },
        "outputId": "6b934c20-dfc7-464f-8857-b5d09ec82bd6"
      },
      "source": [
        "dupli_sum = train.duplicated().sum()\n",
        "if(dupli_sum>0):\n",
        "    print(dupli_sum, \" duplicates found\\nremoving...\")\n",
        "    train = train.loc[False==train.duplicated(), :]\n",
        "else:\n",
        "    print(\"no duplicates found\")\n",
        "train\n"
      ],
      "execution_count": null,
      "outputs": [
        {
          "output_type": "stream",
          "name": "stdout",
          "text": [
            "92  duplicates found\n",
            "removing...\n"
          ]
        },
        {
          "output_type": "execute_result",
          "data": {
            "text/html": [
              "<div>\n",
              "<style scoped>\n",
              "    .dataframe tbody tr th:only-of-type {\n",
              "        vertical-align: middle;\n",
              "    }\n",
              "\n",
              "    .dataframe tbody tr th {\n",
              "        vertical-align: top;\n",
              "    }\n",
              "\n",
              "    .dataframe thead th {\n",
              "        text-align: right;\n",
              "    }\n",
              "</style>\n",
              "<table border=\"1\" class=\"dataframe\">\n",
              "  <thead>\n",
              "    <tr style=\"text-align: right;\">\n",
              "      <th></th>\n",
              "      <th>text</th>\n",
              "      <th>target</th>\n",
              "    </tr>\n",
              "  </thead>\n",
              "  <tbody>\n",
              "    <tr>\n",
              "      <th>0</th>\n",
              "      <td>Our Deeds are the Reason of this #earthquake M...</td>\n",
              "      <td>1</td>\n",
              "    </tr>\n",
              "    <tr>\n",
              "      <th>1</th>\n",
              "      <td>Forest fire near La Ronge Sask. Canada</td>\n",
              "      <td>1</td>\n",
              "    </tr>\n",
              "    <tr>\n",
              "      <th>2</th>\n",
              "      <td>All residents asked to 'shelter in place' are ...</td>\n",
              "      <td>1</td>\n",
              "    </tr>\n",
              "    <tr>\n",
              "      <th>3</th>\n",
              "      <td>13,000 people receive #wildfires evacuation or...</td>\n",
              "      <td>1</td>\n",
              "    </tr>\n",
              "    <tr>\n",
              "      <th>4</th>\n",
              "      <td>Just got sent this photo from Ruby #Alaska as ...</td>\n",
              "      <td>1</td>\n",
              "    </tr>\n",
              "    <tr>\n",
              "      <th>...</th>\n",
              "      <td>...</td>\n",
              "      <td>...</td>\n",
              "    </tr>\n",
              "    <tr>\n",
              "      <th>7604</th>\n",
              "      <td>#WorldNews Fallen powerlines on G:link tram: U...</td>\n",
              "      <td>1</td>\n",
              "    </tr>\n",
              "    <tr>\n",
              "      <th>7605</th>\n",
              "      <td>on the flip side I'm at Walmart and there is a...</td>\n",
              "      <td>1</td>\n",
              "    </tr>\n",
              "    <tr>\n",
              "      <th>7606</th>\n",
              "      <td>Suicide bomber kills 15 in Saudi security site...</td>\n",
              "      <td>1</td>\n",
              "    </tr>\n",
              "    <tr>\n",
              "      <th>7608</th>\n",
              "      <td>Two giant cranes holding a bridge collapse int...</td>\n",
              "      <td>1</td>\n",
              "    </tr>\n",
              "    <tr>\n",
              "      <th>7612</th>\n",
              "      <td>The Latest: More Homes Razed by Northern Calif...</td>\n",
              "      <td>1</td>\n",
              "    </tr>\n",
              "  </tbody>\n",
              "</table>\n",
              "<p>7521 rows × 2 columns</p>\n",
              "</div>"
            ],
            "text/plain": [
              "                                                   text  target\n",
              "0     Our Deeds are the Reason of this #earthquake M...       1\n",
              "1                Forest fire near La Ronge Sask. Canada       1\n",
              "2     All residents asked to 'shelter in place' are ...       1\n",
              "3     13,000 people receive #wildfires evacuation or...       1\n",
              "4     Just got sent this photo from Ruby #Alaska as ...       1\n",
              "...                                                 ...     ...\n",
              "7604  #WorldNews Fallen powerlines on G:link tram: U...       1\n",
              "7605  on the flip side I'm at Walmart and there is a...       1\n",
              "7606  Suicide bomber kills 15 in Saudi security site...       1\n",
              "7608  Two giant cranes holding a bridge collapse int...       1\n",
              "7612  The Latest: More Homes Razed by Northern Calif...       1\n",
              "\n",
              "[7521 rows x 2 columns]"
            ]
          },
          "metadata": {},
          "execution_count": 29
        }
      ]
    },
    {
      "cell_type": "markdown",
      "metadata": {
        "id": "dsSTmP-TGGpk"
      },
      "source": [
        "## Cleaning"
      ]
    },
    {
      "cell_type": "markdown",
      "metadata": {
        "id": "vl7dDI94hrmO"
      },
      "source": [
        "In questa fase di cleaning (non sempre eseguita) siamo andati a sostituire alcune parole che potessero essere scritte in forma non contratta o si sono sostituiti dei modi di scrivere appartenenti alla lingua inglese in formato comprensibile a una persona che non conosce certe combinazioni di caratteri.\n",
        "Inoltre, viene eseguito un *to_lower_case* sull'attributo `text`.\n",
        "Questa pulizia viene effettuata sia sul training set sia sul test set."
      ]
    },
    {
      "cell_type": "code",
      "metadata": {
        "id": "-QSetDBehvZI",
        "colab": {
          "base_uri": "https://localhost:8080/",
          "height": 204
        },
        "outputId": "877e84ae-7807-4d53-f4de-63293ee14246"
      },
      "source": [
        "x = (train['text']\n",
        "     .str.lower()     \n",
        "     .str.replace('\\x89Ûª|Ûª', \"'\")\n",
        "     .str.replace('\\n|\\x89.|\\x9d *', ' ')\n",
        "     .str.replace('&gt;', \">\")\n",
        "     .str.replace('&lt;', \"<\")\n",
        "     .str.replace('&amp;', \" and \")\n",
        "     .str.replace('won\\'t', 'will not')\n",
        "     .str.replace('can\\'t', 'cannot')\n",
        "     .str.replace('i\\'m', 'i am')\n",
        "     .str.replace('ain\\'t', 'is not')\n",
        "     .str.replace('hwy.', 'highway')\n",
        "     .str.replace('(\\w+)\\'ll', '\\g<1> will')\n",
        "     .str.replace('(\\w+)n\\'t', '\\g<1> not')\n",
        "     .str.replace('(\\w+)\\'ve', '\\g<1> have')\n",
        "     .str.replace('(\\w+)\\'s', '\\g<1> is')\n",
        "     .str.replace('(\\w+)\\'re', '\\g<1> are')\n",
        "     .str.replace('(\\w+)\\'d', '\\g<1> would')     \n",
        "     .str.replace('(\\w+)\\'m', '\\g<1> am')\n",
        "     .str.replace('<3', 'love')\n",
        "     .str.replace('w/e', 'whatever')\n",
        "     .str.replace('w/', 'with')    \n",
        "     .str.replace('\\b', ' ')\n",
        "     .str.replace('-', ' ')\n",
        "     .str.replace('  *', ' ')\n",
        "     .str.replace(\"couldn't\" , \"could not\")\n",
        "     .str.replace(\"couldnt\" , \"could not\")\n",
        "     .str.replace(\"didn't\" , \"did not\")\n",
        "     .str.replace(\"doesn't\" , \"does not\")\n",
        "     .str.replace(\"doesnt\" , \"does not\")\n",
        "     .str.replace(\"don't\" , \"do not\")\n",
        "     .str.replace(\"hadn't\" , \"had not\")\n",
        "     .str.replace(\"hasn't\" , \"has not\")\n",
        "     .str.replace(\"haven't\" , \"have not\")\n",
        "     .str.replace(\"he'd\" , \"he would\")\n",
        "     .str.replace(\"he'll\" , \"he will\")\n",
        "     .str.replace(\"he's\" , \"he is\")\n",
        "     .str.replace(\"i'd\" , \"I would\")\n",
        "     .str.replace(\"i'd\" , \"I had\")\n",
        "     .str.replace(\"i'll\" , \"I will\")\n",
        "     .str.replace(\"i'm\" , \"I am\")\n",
        "     .str.replace(\"isn't\" , \"is not\")\n",
        "     .str.replace(\"it's\" , \"it is\")\n",
        "     .str.replace(\"it'll\",\"it will\")\n",
        "     .str.replace(\"i've\" , \"I have\")\n",
        "     .str.replace(\"let's\" , \"let us\")\n",
        "     .str.replace(\"mightn't\" , \"might not\")\n",
        "     .str.replace(\"mustn't\" , \"must not\")\n",
        "     .str.replace(\"shan't\" , \"shall not\")\n",
        "     .str.replace(\"she'd\" , \"she would\")\n",
        "     .str.replace(\"she'll\" , \"she will\")\n",
        "     .str.replace(\"she's\" , \"she is\")\n",
        "     .str.replace(\"shouldn't\" , \"should not\")\n",
        "     .str.replace(\"shouldnt\" , \"should not\")\n",
        "     .str.replace(\"that's\" , \"that is\")\n",
        "     .str.replace(\"there's\" , \"there is\")\n",
        "     .str.replace(\"theres\" , \"there is\")\n",
        "     .str.replace(\"they'd\" , \"they would\")\n",
        "     .str.replace(\"they'll\" , \"they will\")\n",
        "     .str.replace(\"they're\" , \"they are\")\n",
        "     .str.replace(\"theyre\",  \"they are\")\n",
        "     .str.replace(\"they've\" , \"they have\")\n",
        "     .str.replace(\"we'd\" , \"we would\")\n",
        "     .str.replace(\"we're\" , \"we are\")\n",
        "     .str.replace(\"weren't\" , \"were not\")\n",
        "     .str.replace(\"we've\" , \"we have\")\n",
        "     .str.replace(\"what'll\" , \"what will\")\n",
        "     .str.replace(\"what're\" , \"what are\")\n",
        "     .str.replace(\"what's\" , \"what is\")\n",
        "     .str.replace(\"what've\" , \"what have\")\n",
        "     .str.replace(\"where's\" , \"where is\")\n",
        "     .str.replace(\"who'd\" , \"who would\")\n",
        "     .str.replace(\"who'll\" , \"who will\")\n",
        "     .str.replace(\"who're\" , \"who are\")\n",
        "     .str.replace(\"who's\" , \"who is\")\n",
        "     .str.replace(\"who've\" , \"who have\")\n",
        "     .str.replace(\"won't\" , \"will not\")\n",
        "     .str.replace(\"wouldn't\" , \"would not\")\n",
        "     .str.replace(\"you'd\" , \"you would\")\n",
        "     .str.replace(\"you'll\" , \"you will\")\n",
        "     .str.replace(\"you're\" , \"you are\")\n",
        "     .str.replace(\"you've\" , \"you have\")\n",
        "     .str.replace(\"'re\", \" are\")\n",
        "     .str.replace(\"wasn't\", \"was not\")\n",
        "     .str.replace(\"we'll\",\" will\")\n",
        "     .str.replace(\"didn't\", \"did not\")\n",
        "     .str.strip()\n",
        "     .to_numpy()\n",
        "    )\n",
        "\n",
        "train['text']=x\n",
        "#train_full['text']=x\n",
        "train_full.head()"
      ],
      "execution_count": null,
      "outputs": [
        {
          "output_type": "execute_result",
          "data": {
            "text/html": [
              "<div>\n",
              "<style scoped>\n",
              "    .dataframe tbody tr th:only-of-type {\n",
              "        vertical-align: middle;\n",
              "    }\n",
              "\n",
              "    .dataframe tbody tr th {\n",
              "        vertical-align: top;\n",
              "    }\n",
              "\n",
              "    .dataframe thead th {\n",
              "        text-align: right;\n",
              "    }\n",
              "</style>\n",
              "<table border=\"1\" class=\"dataframe\">\n",
              "  <thead>\n",
              "    <tr style=\"text-align: right;\">\n",
              "      <th></th>\n",
              "      <th>id</th>\n",
              "      <th>keyword</th>\n",
              "      <th>location</th>\n",
              "      <th>text</th>\n",
              "      <th>target</th>\n",
              "    </tr>\n",
              "  </thead>\n",
              "  <tbody>\n",
              "    <tr>\n",
              "      <th>0</th>\n",
              "      <td>1</td>\n",
              "      <td>NaN</td>\n",
              "      <td>NaN</td>\n",
              "      <td>Our Deeds are the Reason of this #earthquake M...</td>\n",
              "      <td>1</td>\n",
              "    </tr>\n",
              "    <tr>\n",
              "      <th>1</th>\n",
              "      <td>4</td>\n",
              "      <td>NaN</td>\n",
              "      <td>NaN</td>\n",
              "      <td>Forest fire near La Ronge Sask. Canada</td>\n",
              "      <td>1</td>\n",
              "    </tr>\n",
              "    <tr>\n",
              "      <th>2</th>\n",
              "      <td>5</td>\n",
              "      <td>NaN</td>\n",
              "      <td>NaN</td>\n",
              "      <td>All residents asked to 'shelter in place' are ...</td>\n",
              "      <td>1</td>\n",
              "    </tr>\n",
              "    <tr>\n",
              "      <th>3</th>\n",
              "      <td>6</td>\n",
              "      <td>NaN</td>\n",
              "      <td>NaN</td>\n",
              "      <td>13,000 people receive #wildfires evacuation or...</td>\n",
              "      <td>1</td>\n",
              "    </tr>\n",
              "    <tr>\n",
              "      <th>4</th>\n",
              "      <td>7</td>\n",
              "      <td>NaN</td>\n",
              "      <td>NaN</td>\n",
              "      <td>Just got sent this photo from Ruby #Alaska as ...</td>\n",
              "      <td>1</td>\n",
              "    </tr>\n",
              "  </tbody>\n",
              "</table>\n",
              "</div>"
            ],
            "text/plain": [
              "   id keyword  ...                                               text target\n",
              "0   1     NaN  ...  Our Deeds are the Reason of this #earthquake M...      1\n",
              "1   4     NaN  ...             Forest fire near La Ronge Sask. Canada      1\n",
              "2   5     NaN  ...  All residents asked to 'shelter in place' are ...      1\n",
              "3   6     NaN  ...  13,000 people receive #wildfires evacuation or...      1\n",
              "4   7     NaN  ...  Just got sent this photo from Ruby #Alaska as ...      1\n",
              "\n",
              "[5 rows x 5 columns]"
            ]
          },
          "metadata": {},
          "execution_count": 33
        }
      ]
    },
    {
      "cell_type": "markdown",
      "metadata": {
        "id": "Dke-30fCnB06"
      },
      "source": [
        "Cleaning sul test set"
      ]
    },
    {
      "cell_type": "code",
      "metadata": {
        "id": "QW2lrCJBmNYX",
        "colab": {
          "base_uri": "https://localhost:8080/",
          "height": 204
        },
        "outputId": "dd832d46-bdf1-448b-faf9-66913f0253da"
      },
      "source": [
        "y = (test_full['text']\n",
        "     .str.lower()     \n",
        "     .str.replace('\\x89Ûª|Ûª', \"'\")\n",
        "     .str.replace('\\n|\\x89.|\\x9d *', ' ')\n",
        "     .str.replace('&gt;', \">\")\n",
        "     .str.replace('&lt;', \"<\")\n",
        "     .str.replace('&amp;', \" and \")\n",
        "     .str.replace('won\\'t', 'will not')\n",
        "     .str.replace('can\\'t', 'cannot')\n",
        "     .str.replace('i\\'m', 'i am')\n",
        "     .str.replace('ain\\'t', 'is not')\n",
        "     .str.replace('hwy.', 'highway')\n",
        "     .str.replace('(\\w+)\\'ll', '\\g<1> will')\n",
        "     .str.replace('(\\w+)n\\'t', '\\g<1> not')\n",
        "     .str.replace('(\\w+)\\'ve', '\\g<1> have')\n",
        "     .str.replace('(\\w+)\\'s', '\\g<1> is')\n",
        "     .str.replace('(\\w+)\\'re', '\\g<1> are')\n",
        "     .str.replace('(\\w+)\\'d', '\\g<1> would')     \n",
        "     .str.replace('(\\w+)\\'m', '\\g<1> am')\n",
        "     .str.replace('<3', 'love')\n",
        "     .str.replace('w/e', 'whatever')\n",
        "     .str.replace('w/', 'with')    \n",
        "     .str.replace('\\b', ' ')\n",
        "     .str.replace('-', ' ')\n",
        "     .str.replace('  *', ' ')\n",
        "     .str.replace(\"couldn't\" , \"could not\")\n",
        "     .str.replace(\"couldnt\" , \"could not\")\n",
        "     .str.replace(\"didn't\" , \"did not\")\n",
        "     .str.replace(\"doesn't\" , \"does not\")\n",
        "     .str.replace(\"doesnt\" , \"does not\")\n",
        "     .str.replace(\"don't\" , \"do not\")\n",
        "     .str.replace(\"hadn't\" , \"had not\")\n",
        "     .str.replace(\"hasn't\" , \"has not\")\n",
        "     .str.replace(\"haven't\" , \"have not\")\n",
        "     .str.replace(\"he'd\" , \"he would\")\n",
        "     .str.replace(\"he'll\" , \"he will\")\n",
        "     .str.replace(\"he's\" , \"he is\")\n",
        "     .str.replace(\"i'd\" , \"I would\")\n",
        "     .str.replace(\"i'd\" , \"I had\")\n",
        "     .str.replace(\"i'll\" , \"I will\")\n",
        "     .str.replace(\"i'm\" , \"I am\")\n",
        "     .str.replace(\"isn't\" , \"is not\")\n",
        "     .str.replace(\"it's\" , \"it is\")\n",
        "     .str.replace(\"it'll\",\"it will\")\n",
        "     .str.replace(\"i've\" , \"I have\")\n",
        "     .str.replace(\"let's\" , \"let us\")\n",
        "     .str.replace(\"mightn't\" , \"might not\")\n",
        "     .str.replace(\"mustn't\" , \"must not\")\n",
        "     .str.replace(\"shan't\" , \"shall not\")\n",
        "     .str.replace(\"she'd\" , \"she would\")\n",
        "     .str.replace(\"she'll\" , \"she will\")\n",
        "     .str.replace(\"she's\" , \"she is\")\n",
        "     .str.replace(\"shouldn't\" , \"should not\")\n",
        "     .str.replace(\"shouldnt\" , \"should not\")\n",
        "     .str.replace(\"that's\" , \"that is\")\n",
        "     .str.replace(\"there's\" , \"there is\")\n",
        "     .str.replace(\"theres\" , \"there is\")\n",
        "     .str.replace(\"they'd\" , \"they would\")\n",
        "     .str.replace(\"they'll\" , \"they will\")\n",
        "     .str.replace(\"they're\" , \"they are\")\n",
        "     .str.replace(\"theyre\",  \"they are\")\n",
        "     .str.replace(\"they've\" , \"they have\")\n",
        "     .str.replace(\"we'd\" , \"we would\")\n",
        "     .str.replace(\"we're\" , \"we are\")\n",
        "     .str.replace(\"weren't\" , \"were not\")\n",
        "     .str.replace(\"we've\" , \"we have\")\n",
        "     .str.replace(\"what'll\" , \"what will\")\n",
        "     .str.replace(\"what're\" , \"what are\")\n",
        "     .str.replace(\"what's\" , \"what is\")\n",
        "     .str.replace(\"what've\" , \"what have\")\n",
        "     .str.replace(\"where's\" , \"where is\")\n",
        "     .str.replace(\"who'd\" , \"who would\")\n",
        "     .str.replace(\"who'll\" , \"who will\")\n",
        "     .str.replace(\"who're\" , \"who are\")\n",
        "     .str.replace(\"who's\" , \"who is\")\n",
        "     .str.replace(\"who've\" , \"who have\")\n",
        "     .str.replace(\"won't\" , \"will not\")\n",
        "     .str.replace(\"wouldn't\" , \"would not\")\n",
        "     .str.replace(\"you'd\" , \"you would\")\n",
        "     .str.replace(\"you'll\" , \"you will\")\n",
        "     .str.replace(\"you're\" , \"you are\")\n",
        "     .str.replace(\"you've\" , \"you have\")\n",
        "     .str.replace(\"'re\", \" are\")\n",
        "     .str.replace(\"wasn't\", \"was not\")\n",
        "     .str.replace(\"we'll\",\" will\")\n",
        "     .str.replace(\"didn't\", \"did not\")\n",
        "     .str.strip()\n",
        "     .to_numpy()\n",
        "    )\n",
        "\n",
        "test=y\n",
        "test_full['text']=y\n",
        "test_full.head()"
      ],
      "execution_count": null,
      "outputs": [
        {
          "output_type": "execute_result",
          "data": {
            "text/html": [
              "<div>\n",
              "<style scoped>\n",
              "    .dataframe tbody tr th:only-of-type {\n",
              "        vertical-align: middle;\n",
              "    }\n",
              "\n",
              "    .dataframe tbody tr th {\n",
              "        vertical-align: top;\n",
              "    }\n",
              "\n",
              "    .dataframe thead th {\n",
              "        text-align: right;\n",
              "    }\n",
              "</style>\n",
              "<table border=\"1\" class=\"dataframe\">\n",
              "  <thead>\n",
              "    <tr style=\"text-align: right;\">\n",
              "      <th></th>\n",
              "      <th>id</th>\n",
              "      <th>keyword</th>\n",
              "      <th>location</th>\n",
              "      <th>text</th>\n",
              "    </tr>\n",
              "  </thead>\n",
              "  <tbody>\n",
              "    <tr>\n",
              "      <th>0</th>\n",
              "      <td>0</td>\n",
              "      <td>NaN</td>\n",
              "      <td>NaN</td>\n",
              "      <td>just happened a terrible car crash</td>\n",
              "    </tr>\n",
              "    <tr>\n",
              "      <th>1</th>\n",
              "      <td>2</td>\n",
              "      <td>NaN</td>\n",
              "      <td>NaN</td>\n",
              "      <td>heard about #earthquake is different cities, s...</td>\n",
              "    </tr>\n",
              "    <tr>\n",
              "      <th>2</th>\n",
              "      <td>3</td>\n",
              "      <td>NaN</td>\n",
              "      <td>NaN</td>\n",
              "      <td>there is a forest fire at spot pond, geese are...</td>\n",
              "    </tr>\n",
              "    <tr>\n",
              "      <th>3</th>\n",
              "      <td>9</td>\n",
              "      <td>NaN</td>\n",
              "      <td>NaN</td>\n",
              "      <td>apocalypse lighting. #spokane #wildfires</td>\n",
              "    </tr>\n",
              "    <tr>\n",
              "      <th>4</th>\n",
              "      <td>11</td>\n",
              "      <td>NaN</td>\n",
              "      <td>NaN</td>\n",
              "      <td>typhoon soudelor kills 28 in china and taiwan</td>\n",
              "    </tr>\n",
              "  </tbody>\n",
              "</table>\n",
              "</div>"
            ],
            "text/plain": [
              "   id keyword location                                               text\n",
              "0   0     NaN      NaN                 just happened a terrible car crash\n",
              "1   2     NaN      NaN  heard about #earthquake is different cities, s...\n",
              "2   3     NaN      NaN  there is a forest fire at spot pond, geese are...\n",
              "3   9     NaN      NaN           apocalypse lighting. #spokane #wildfires\n",
              "4  11     NaN      NaN      typhoon soudelor kills 28 in china and taiwan"
            ]
          },
          "metadata": {},
          "execution_count": 34
        }
      ]
    },
    {
      "cell_type": "markdown",
      "metadata": {
        "id": "_CEYUR4eEHqK"
      },
      "source": [
        "# Linear Classifier"
      ]
    },
    {
      "cell_type": "markdown",
      "metadata": {
        "id": "eV7cPnpMF37W"
      },
      "source": [
        "Il primo modello che viene implementato per la risoluzione del problema è un **classificatore lineare** a due dimensioni. Vengono riportati i dataset di training e testing."
      ]
    },
    {
      "cell_type": "code",
      "metadata": {
        "id": "ggs3M5EVEyW2"
      },
      "source": [
        "from sklearn import feature_extraction, linear_model, model_selection, preprocessing\n",
        "\n",
        "train_df = train\n",
        "test_df = pd.read_csv(TEST_PATH)"
      ],
      "execution_count": null,
      "outputs": []
    },
    {
      "cell_type": "markdown",
      "metadata": {
        "id": "R1cKpjt1ENwW"
      },
      "source": [
        "## Tokenization"
      ]
    },
    {
      "cell_type": "markdown",
      "metadata": {
        "id": "2JbmAFRfIT_S"
      },
      "source": [
        "I file di testo sono una serie di parole ordinate e per essere date in pasto agli algoritmi di ML è necessario convertirli in vettori numerici. Per questi primi modelli viene usata la tecnica *bag of words*, ovvero ogni file viene diviso usando gli spazi come caratteri separatori. Ogni parola costituisce un token. \n",
        "Si conta poi quante volte una parola compare all'interno di ogni tweet e le viene assegnato un ID.\n",
        "Viene così creato un dizionario all'interno del quale ogni parola è univoca e corrisponde ad una feature.\n",
        "\n",
        "*Scikit-learn* permette di usare *CountVectorizer* che si occupa di svolgere questo processo ad alto livello."
      ]
    },
    {
      "cell_type": "code",
      "metadata": {
        "id": "pSBf6u9BERmF"
      },
      "source": [
        "count_vectorizer = feature_extraction.text.CountVectorizer()\n",
        "\n",
        "train_vectors = count_vectorizer.fit_transform(train_df[\"text\"])\n",
        "test_vectors = count_vectorizer.transform(test_df[\"text\"])\n"
      ],
      "execution_count": null,
      "outputs": []
    },
    {
      "cell_type": "markdown",
      "metadata": {
        "id": "SH0OzOhdKJCr"
      },
      "source": [
        "Dopo aver eseguito il codice *train_vectors* sarà una matrice di dimensione [n_samples, n_features].\n",
        "\n",
        "Si noti che quando viene eseguita la tokenization sul testset non si usa *.fit_transform()*, ma semplicemente *.transform()* per fare in modo che i token ottenuti dal vettore di training siano i soli presenti anche nel vettore di test. Infatti, si vuole che testset e trainset usino lo stesso dizionario e quindi lo stesso insieme di token. "
      ]
    },
    {
      "cell_type": "markdown",
      "metadata": {
        "id": "YPpqZtnhFC50"
      },
      "source": [
        "## Model"
      ]
    },
    {
      "cell_type": "code",
      "metadata": {
        "id": "gR2_ugFBFCc3"
      },
      "source": [
        "clf = linear_model.RidgeClassifier()"
      ],
      "execution_count": null,
      "outputs": []
    },
    {
      "cell_type": "code",
      "metadata": {
        "id": "Sqt46zyPFQi6",
        "colab": {
          "base_uri": "https://localhost:8080/"
        },
        "outputId": "f74d4bf6-9c16-4f97-adc9-2969a22f63b0"
      },
      "source": [
        "scores = model_selection.cross_val_score(clf, train_vectors, train_df[\"target\"], cv=3, scoring=\"f1\")\n",
        "scores"
      ],
      "execution_count": null,
      "outputs": [
        {
          "output_type": "execute_result",
          "data": {
            "text/plain": [
              "array([0.58525853, 0.55963764, 0.64529058])"
            ]
          },
          "metadata": {},
          "execution_count": 38
        }
      ]
    },
    {
      "cell_type": "code",
      "metadata": {
        "id": "NlD475p-HXIY",
        "colab": {
          "base_uri": "https://localhost:8080/"
        },
        "outputId": "b80bd6c2-8156-4998-ad65-9225ed9b398f"
      },
      "source": [
        "clf.fit(train_vectors, train_df[\"target\"])"
      ],
      "execution_count": null,
      "outputs": [
        {
          "output_type": "execute_result",
          "data": {
            "text/plain": [
              "RidgeClassifier(alpha=1.0, class_weight=None, copy_X=True, fit_intercept=True,\n",
              "                max_iter=None, normalize=False, random_state=None,\n",
              "                solver='auto', tol=0.001)"
            ]
          },
          "metadata": {},
          "execution_count": 40
        }
      ]
    },
    {
      "cell_type": "markdown",
      "metadata": {
        "id": "iMpjnhguImTy"
      },
      "source": [
        "## Testing and submission"
      ]
    },
    {
      "cell_type": "code",
      "metadata": {
        "id": "sDYKDG8LHhNc"
      },
      "source": [
        "sample_submission = pd.read_csv(SUBMISSION_PATH)\n",
        "sample_submission[\"target\"] = clf.predict(test_vectors)"
      ],
      "execution_count": null,
      "outputs": []
    },
    {
      "cell_type": "code",
      "metadata": {
        "id": "-5tFKJiAcJa7",
        "colab": {
          "base_uri": "https://localhost:8080/",
          "height": 419
        },
        "outputId": "4c244ab4-01e4-4228-f1fc-100064e30637"
      },
      "source": [
        "sample_submission.to_csv(\"submissionLinear.csv\", index=False)\n",
        "sample_submission"
      ],
      "execution_count": null,
      "outputs": [
        {
          "output_type": "execute_result",
          "data": {
            "text/html": [
              "<div>\n",
              "<style scoped>\n",
              "    .dataframe tbody tr th:only-of-type {\n",
              "        vertical-align: middle;\n",
              "    }\n",
              "\n",
              "    .dataframe tbody tr th {\n",
              "        vertical-align: top;\n",
              "    }\n",
              "\n",
              "    .dataframe thead th {\n",
              "        text-align: right;\n",
              "    }\n",
              "</style>\n",
              "<table border=\"1\" class=\"dataframe\">\n",
              "  <thead>\n",
              "    <tr style=\"text-align: right;\">\n",
              "      <th></th>\n",
              "      <th>id</th>\n",
              "      <th>target</th>\n",
              "    </tr>\n",
              "  </thead>\n",
              "  <tbody>\n",
              "    <tr>\n",
              "      <th>0</th>\n",
              "      <td>0</td>\n",
              "      <td>0</td>\n",
              "    </tr>\n",
              "    <tr>\n",
              "      <th>1</th>\n",
              "      <td>2</td>\n",
              "      <td>1</td>\n",
              "    </tr>\n",
              "    <tr>\n",
              "      <th>2</th>\n",
              "      <td>3</td>\n",
              "      <td>1</td>\n",
              "    </tr>\n",
              "    <tr>\n",
              "      <th>3</th>\n",
              "      <td>9</td>\n",
              "      <td>0</td>\n",
              "    </tr>\n",
              "    <tr>\n",
              "      <th>4</th>\n",
              "      <td>11</td>\n",
              "      <td>1</td>\n",
              "    </tr>\n",
              "    <tr>\n",
              "      <th>...</th>\n",
              "      <td>...</td>\n",
              "      <td>...</td>\n",
              "    </tr>\n",
              "    <tr>\n",
              "      <th>3258</th>\n",
              "      <td>10861</td>\n",
              "      <td>1</td>\n",
              "    </tr>\n",
              "    <tr>\n",
              "      <th>3259</th>\n",
              "      <td>10865</td>\n",
              "      <td>1</td>\n",
              "    </tr>\n",
              "    <tr>\n",
              "      <th>3260</th>\n",
              "      <td>10868</td>\n",
              "      <td>1</td>\n",
              "    </tr>\n",
              "    <tr>\n",
              "      <th>3261</th>\n",
              "      <td>10874</td>\n",
              "      <td>1</td>\n",
              "    </tr>\n",
              "    <tr>\n",
              "      <th>3262</th>\n",
              "      <td>10875</td>\n",
              "      <td>0</td>\n",
              "    </tr>\n",
              "  </tbody>\n",
              "</table>\n",
              "<p>3263 rows × 2 columns</p>\n",
              "</div>"
            ],
            "text/plain": [
              "         id  target\n",
              "0         0       0\n",
              "1         2       1\n",
              "2         3       1\n",
              "3         9       0\n",
              "4        11       1\n",
              "...     ...     ...\n",
              "3258  10861       1\n",
              "3259  10865       1\n",
              "3260  10868       1\n",
              "3261  10874       1\n",
              "3262  10875       0\n",
              "\n",
              "[3263 rows x 2 columns]"
            ]
          },
          "metadata": {},
          "execution_count": 43
        }
      ]
    },
    {
      "cell_type": "markdown",
      "metadata": {
        "id": "Z1t8GMlCRfwZ"
      },
      "source": [
        "Il Linear Classifier ha ottenuto uno score di **0.78057** con l'utilizzo di quanto riportato nella sezione *Cleaning*, mentre senza il punteggio si è abbassato a **0.78026**. \n",
        "Si può dire quindi che tale operazione risulta trascurabile per questo modello."
      ]
    },
    {
      "cell_type": "markdown",
      "metadata": {
        "id": "K6r4OXU4k7IZ"
      },
      "source": [
        "# Naive Bayes (NBClassifier)"
      ]
    },
    {
      "cell_type": "markdown",
      "metadata": {
        "id": "-k6lCtCKO_J-"
      },
      "source": [
        "Il Naive Bayes è un algoritmo classificatore basato sul teorema di Bayes. Per usare il classificatore bayesano occorre conoscere o stimare le probabilità a priori e condizionali del problema.\n",
        "E' detto \"naive\" perché le ipotesi di partenza sono molto semplificate. In particolar modo, si considerano indipendenti tra loro le varie features del modello."
      ]
    },
    {
      "cell_type": "markdown",
      "metadata": {
        "id": "su4TiqJxA82g"
      },
      "source": [
        "## Extracting features from text-file"
      ]
    },
    {
      "cell_type": "markdown",
      "metadata": {
        "id": "_2U_SWhxPwcV"
      },
      "source": [
        "Nel modello precedente è stato usato TF (Term Frequency) che conta solo il numero di parole nel documento. Il problema sta nel fatto che così viene dato più peso ai tweet lunghi poichè contenenti molte parole."
      ]
    },
    {
      "cell_type": "code",
      "metadata": {
        "id": "xA_tJ5sQlJNU",
        "colab": {
          "base_uri": "https://localhost:8080/"
        },
        "outputId": "7aaa518a-7add-43d2-88b6-a4b4ccb1bf91"
      },
      "source": [
        "from sklearn.feature_extraction.text import CountVectorizer\n",
        "\n",
        "train_nb = train\n",
        "test_nb = pd.read_csv(TEST_PATH)\n",
        "\n",
        "count_vect = CountVectorizer()\n",
        "X_train_counts = count_vect.fit_transform(train_nb[\"text\"])\n",
        "#X_train_counts = count_vect.fit_transform(train_nb[\"cleaned_text\"])\n",
        "X_train_counts.shape"
      ],
      "execution_count": null,
      "outputs": [
        {
          "output_type": "execute_result",
          "data": {
            "text/plain": [
              "(7521, 21646)"
            ]
          },
          "metadata": {},
          "execution_count": 44
        }
      ]
    },
    {
      "cell_type": "markdown",
      "metadata": {
        "id": "1HutIoRsQ_SN"
      },
      "source": [
        "Da questo modello viene usato, invece, TF-IDF (Term Frequency times inverse document frequency) che permette di bilanciare i pesi riducendo anche quello delle parole più comuni (the, is, an, ...)."
      ]
    },
    {
      "cell_type": "code",
      "metadata": {
        "id": "iBJIDEsanLl-",
        "colab": {
          "base_uri": "https://localhost:8080/"
        },
        "outputId": "a6dfa9e1-31b3-4d7c-dc1f-b8f985242149"
      },
      "source": [
        "from sklearn.feature_extraction.text import TfidfTransformer\n",
        "tfidf_transformer = TfidfTransformer()\n",
        "X_train_tfidf = tfidf_transformer.fit_transform(X_train_counts)\n",
        "X_train_tfidf.shape"
      ],
      "execution_count": null,
      "outputs": [
        {
          "output_type": "execute_result",
          "data": {
            "text/plain": [
              "(7521, 21646)"
            ]
          },
          "metadata": {},
          "execution_count": 45
        }
      ]
    },
    {
      "cell_type": "markdown",
      "metadata": {
        "id": "peoiNWPcRByX"
      },
      "source": [
        "L'ultima riga fornisce in output la dimensione della matrice risultante."
      ]
    },
    {
      "cell_type": "markdown",
      "metadata": {
        "id": "jNl3L8rJBPia"
      },
      "source": [
        "## Model training"
      ]
    },
    {
      "cell_type": "markdown",
      "metadata": {
        "id": "i34aT-zSR46J"
      },
      "source": [
        "Il modello viene creato usando una pipeline che permette di scrivere meno codice e riassume quanto fatto in precedenza inserendolo nella creazione del modello.\n",
        "\n",
        "Esiste la possibilità di eliminare le *stop words*, ovvero le parole più comuni, ma di scarso valore tramite una semplice opzione da esplicitare in *CountVectorizer()*. Si noti però che non sempre tali parole sono inutili per il problema e quindi si potrebbe avere un detecremento delle prestazioni. Queste valutazioni verranno riprese in seguito."
      ]
    },
    {
      "cell_type": "code",
      "metadata": {
        "id": "hBjgNvOoqc1h"
      },
      "source": [
        "# Training Naive Bayes (NB) classifier on training data.\n",
        "from sklearn.naive_bayes import MultinomialNB\n",
        "\n",
        "# Building a pipeline: We can write less code and do all of the above, by building a pipeline as follows:\n",
        "# The names ‘vect’ , ‘tfidf’ and ‘clf’ are arbitrary but will be used later.\n",
        "# We will be using the 'text_clf' going forward.\n",
        "from sklearn.pipeline import Pipeline\n",
        "\n",
        "# Removing stop words: (the, then etc) from the data. \n",
        "# You should do this only when stop words are not useful for the underlying problem. \n",
        "# In most of the text classification problems, this is indeed not useful. \n",
        "# Let’s see if removing stop words increases the accuracy adding the parameter stop_words='english' in CountVectorizer()\n",
        "text_clf = Pipeline([('vect', CountVectorizer(stop_words='english')), ('tfidf', TfidfTransformer()), ('clf', MultinomialNB())])\n",
        "\n",
        "#text_clf = text_clf.fit(train_nb.cleaned_text, train_nb.target)\n",
        "text_clf = text_clf.fit(train_nb.text, train_nb.target)"
      ],
      "execution_count": null,
      "outputs": []
    },
    {
      "cell_type": "markdown",
      "metadata": {
        "id": "ziIrxw_RB20h"
      },
      "source": [
        "## Testing and submission"
      ]
    },
    {
      "cell_type": "code",
      "metadata": {
        "id": "7iPfl7JhoWPk"
      },
      "source": [
        "# Performance of NB Classifier\n",
        "import numpy as np\n",
        "predicted = text_clf.predict(test_nb.text)"
      ],
      "execution_count": null,
      "outputs": []
    },
    {
      "cell_type": "code",
      "metadata": {
        "id": "BL7W-U09rxua",
        "colab": {
          "base_uri": "https://localhost:8080/",
          "height": 419
        },
        "outputId": "de9a145b-734d-496e-eee7-07a451b941ea"
      },
      "source": [
        "sample_submission = pd.read_csv(SUBMISSION_PATH)\n",
        "sample_submission[\"target\"] = predicted\n",
        "sample_submission.to_csv(\"submissionNBClassifier.csv\", index=False)\n",
        "sample_submission"
      ],
      "execution_count": null,
      "outputs": [
        {
          "output_type": "execute_result",
          "data": {
            "text/html": [
              "<div>\n",
              "<style scoped>\n",
              "    .dataframe tbody tr th:only-of-type {\n",
              "        vertical-align: middle;\n",
              "    }\n",
              "\n",
              "    .dataframe tbody tr th {\n",
              "        vertical-align: top;\n",
              "    }\n",
              "\n",
              "    .dataframe thead th {\n",
              "        text-align: right;\n",
              "    }\n",
              "</style>\n",
              "<table border=\"1\" class=\"dataframe\">\n",
              "  <thead>\n",
              "    <tr style=\"text-align: right;\">\n",
              "      <th></th>\n",
              "      <th>id</th>\n",
              "      <th>target</th>\n",
              "    </tr>\n",
              "  </thead>\n",
              "  <tbody>\n",
              "    <tr>\n",
              "      <th>0</th>\n",
              "      <td>0</td>\n",
              "      <td>0</td>\n",
              "    </tr>\n",
              "    <tr>\n",
              "      <th>1</th>\n",
              "      <td>2</td>\n",
              "      <td>1</td>\n",
              "    </tr>\n",
              "    <tr>\n",
              "      <th>2</th>\n",
              "      <td>3</td>\n",
              "      <td>1</td>\n",
              "    </tr>\n",
              "    <tr>\n",
              "      <th>3</th>\n",
              "      <td>9</td>\n",
              "      <td>1</td>\n",
              "    </tr>\n",
              "    <tr>\n",
              "      <th>4</th>\n",
              "      <td>11</td>\n",
              "      <td>1</td>\n",
              "    </tr>\n",
              "    <tr>\n",
              "      <th>...</th>\n",
              "      <td>...</td>\n",
              "      <td>...</td>\n",
              "    </tr>\n",
              "    <tr>\n",
              "      <th>3258</th>\n",
              "      <td>10861</td>\n",
              "      <td>1</td>\n",
              "    </tr>\n",
              "    <tr>\n",
              "      <th>3259</th>\n",
              "      <td>10865</td>\n",
              "      <td>1</td>\n",
              "    </tr>\n",
              "    <tr>\n",
              "      <th>3260</th>\n",
              "      <td>10868</td>\n",
              "      <td>1</td>\n",
              "    </tr>\n",
              "    <tr>\n",
              "      <th>3261</th>\n",
              "      <td>10874</td>\n",
              "      <td>1</td>\n",
              "    </tr>\n",
              "    <tr>\n",
              "      <th>3262</th>\n",
              "      <td>10875</td>\n",
              "      <td>1</td>\n",
              "    </tr>\n",
              "  </tbody>\n",
              "</table>\n",
              "<p>3263 rows × 2 columns</p>\n",
              "</div>"
            ],
            "text/plain": [
              "         id  target\n",
              "0         0       0\n",
              "1         2       1\n",
              "2         3       1\n",
              "3         9       1\n",
              "4        11       1\n",
              "...     ...     ...\n",
              "3258  10861       1\n",
              "3259  10865       1\n",
              "3260  10868       1\n",
              "3261  10874       1\n",
              "3262  10875       1\n",
              "\n",
              "[3263 rows x 2 columns]"
            ]
          },
          "metadata": {},
          "execution_count": 48
        }
      ]
    },
    {
      "cell_type": "markdown",
      "metadata": {
        "id": "ZsW8CMHoSOz0"
      },
      "source": [
        "Il modello con *NBClassifier* ha ottenuto uno score di **0.79344** in fase di testing, risultando essere migliore del classificatore lineare. Inoltre implementando la rimozione delle stop words si è riscontrato un miglioramento delle prestazioni minimo, ma comunque significativo (**0.79619**). Anche qui tutte le operazioni di *Cleaning* sono risultate superflue."
      ]
    },
    {
      "cell_type": "markdown",
      "metadata": {
        "id": "QybzvQ7etIum"
      },
      "source": [
        "# SVM"
      ]
    },
    {
      "cell_type": "markdown",
      "metadata": {
        "id": "aT9wWBqFTuzY"
      },
      "source": [
        "Questo modello viene costruito in modo molto simile al precedente usando una pipeline. \n",
        "Viene usato il classificatore lineare *SGDClassifier* che di default lavora con SVM e implementa una discesa del gradiente stocastica (SGD).\n",
        "I parametri utilizzati sono:\n",
        "\n",
        "\n",
        "*   `loss` definisce la loss function utilizzata. di default è SVM;\n",
        "*   `penalty` definisce il termine di regolarizzazione;\n",
        "*   `alpha` definisce la costante per cui il termine di regolarizzazione viene moltiplicato\n",
        "*   `max_iter` definisce il numero massimo di passi (epoche) sul training set;\n",
        "*   `random_state` usato per lo shuffle dei dati\n",
        "\n"
      ]
    },
    {
      "cell_type": "code",
      "metadata": {
        "id": "68eNQjrgtLVd",
        "colab": {
          "base_uri": "https://localhost:8080/"
        },
        "outputId": "254a3357-4341-4028-b02b-c5c5bf63e4b7"
      },
      "source": [
        "# Training Support Vector Machines - SVM and calculating its performance\n",
        "\n",
        "from sklearn.linear_model import SGDClassifier\n",
        "text_clf_svm = Pipeline([('vect', CountVectorizer()), ('tfidf', TfidfTransformer()),\n",
        "                         ('clf-svm', SGDClassifier(loss='hinge', penalty='l2',alpha=1e-3, max_iter=15, random_state=42))])\n",
        "\n",
        "text_clf_svm = text_clf_svm.fit(train_nb.text, train_nb.target)\n",
        "predicted_svm = text_clf_svm.predict(test_nb.text)"
      ],
      "execution_count": null,
      "outputs": [
        {
          "output_type": "stream",
          "name": "stderr",
          "text": [
            "/usr/local/lib/python3.7/dist-packages/sklearn/linear_model/_stochastic_gradient.py:557: ConvergenceWarning:\n",
            "\n",
            "Maximum number of iteration reached before convergence. Consider increasing max_iter to improve the fit.\n",
            "\n"
          ]
        }
      ]
    },
    {
      "cell_type": "code",
      "metadata": {
        "id": "qNnwSflbuDEl",
        "colab": {
          "base_uri": "https://localhost:8080/",
          "height": 419
        },
        "outputId": "acdd9320-2bfd-4470-92e0-c0402d39043b"
      },
      "source": [
        "sample_submission = pd.read_csv(SUBMISSION_PATH)\n",
        "sample_submission[\"target\"] = predicted_svm\n",
        "sample_submission.to_csv(\"submissionSVM.csv\", index=False)\n",
        "sample_submission"
      ],
      "execution_count": null,
      "outputs": [
        {
          "output_type": "execute_result",
          "data": {
            "text/html": [
              "<div>\n",
              "<style scoped>\n",
              "    .dataframe tbody tr th:only-of-type {\n",
              "        vertical-align: middle;\n",
              "    }\n",
              "\n",
              "    .dataframe tbody tr th {\n",
              "        vertical-align: top;\n",
              "    }\n",
              "\n",
              "    .dataframe thead th {\n",
              "        text-align: right;\n",
              "    }\n",
              "</style>\n",
              "<table border=\"1\" class=\"dataframe\">\n",
              "  <thead>\n",
              "    <tr style=\"text-align: right;\">\n",
              "      <th></th>\n",
              "      <th>id</th>\n",
              "      <th>target</th>\n",
              "    </tr>\n",
              "  </thead>\n",
              "  <tbody>\n",
              "    <tr>\n",
              "      <th>0</th>\n",
              "      <td>0</td>\n",
              "      <td>0</td>\n",
              "    </tr>\n",
              "    <tr>\n",
              "      <th>1</th>\n",
              "      <td>2</td>\n",
              "      <td>0</td>\n",
              "    </tr>\n",
              "    <tr>\n",
              "      <th>2</th>\n",
              "      <td>3</td>\n",
              "      <td>1</td>\n",
              "    </tr>\n",
              "    <tr>\n",
              "      <th>3</th>\n",
              "      <td>9</td>\n",
              "      <td>0</td>\n",
              "    </tr>\n",
              "    <tr>\n",
              "      <th>4</th>\n",
              "      <td>11</td>\n",
              "      <td>1</td>\n",
              "    </tr>\n",
              "    <tr>\n",
              "      <th>...</th>\n",
              "      <td>...</td>\n",
              "      <td>...</td>\n",
              "    </tr>\n",
              "    <tr>\n",
              "      <th>3258</th>\n",
              "      <td>10861</td>\n",
              "      <td>0</td>\n",
              "    </tr>\n",
              "    <tr>\n",
              "      <th>3259</th>\n",
              "      <td>10865</td>\n",
              "      <td>0</td>\n",
              "    </tr>\n",
              "    <tr>\n",
              "      <th>3260</th>\n",
              "      <td>10868</td>\n",
              "      <td>1</td>\n",
              "    </tr>\n",
              "    <tr>\n",
              "      <th>3261</th>\n",
              "      <td>10874</td>\n",
              "      <td>1</td>\n",
              "    </tr>\n",
              "    <tr>\n",
              "      <th>3262</th>\n",
              "      <td>10875</td>\n",
              "      <td>0</td>\n",
              "    </tr>\n",
              "  </tbody>\n",
              "</table>\n",
              "<p>3263 rows × 2 columns</p>\n",
              "</div>"
            ],
            "text/plain": [
              "         id  target\n",
              "0         0       0\n",
              "1         2       0\n",
              "2         3       1\n",
              "3         9       0\n",
              "4        11       1\n",
              "...     ...     ...\n",
              "3258  10861       0\n",
              "3259  10865       0\n",
              "3260  10868       1\n",
              "3261  10874       1\n",
              "3262  10875       0\n",
              "\n",
              "[3263 rows x 2 columns]"
            ]
          },
          "metadata": {},
          "execution_count": 50
        }
      ]
    },
    {
      "cell_type": "markdown",
      "metadata": {
        "id": "oH6IVN2kTV_Q"
      },
      "source": [
        "Il classificatore SVM *SGDClassifier* ha totalizzato uno score di **0.77076** in fase di testing, collocandosi alle spalle del classificatore lineare come prestazioni. \n",
        "Nessuna modifica ai parametri o alle operazioni di preprocessing hanno portato a miglioramenti nelle prestazioni di questo modello. La nostra ipotesi è che potrebbe essere necessario usare un classificatore diverso per implementare SVM."
      ]
    },
    {
      "cell_type": "markdown",
      "metadata": {
        "id": "Zs4q0YGZvM22"
      },
      "source": [
        "#Grid Search"
      ]
    },
    {
      "cell_type": "markdown",
      "metadata": {
        "id": "TNE7pkNMYusx"
      },
      "source": [
        "Scikit fornisce il tool *GridSearchCV* per effettuare una ricerca golosa e permettere di settare manualmente alcuni parametri di diversi classificatori in modo da cercare velocemente soluzioni sub-ottimali.\n",
        "\n",
        "Di seguito viene creata una lista di parametri per cui vogliamo eseguire del *performance tuning*:\n",
        "\n",
        "\n",
        "*   `vect__ngram_range`\n",
        "*   `tfidf__use_idf`\n",
        "*   `clf__alpha`\n",
        "\n"
      ]
    },
    {
      "cell_type": "code",
      "metadata": {
        "id": "1ZTt8rdKvOt0"
      },
      "source": [
        "parameters = {'vect__ngram_range': [(1, 1), (1, 2), (1, 3)], 'tfidf__use_idf': (True, False), 'clf__alpha': (1, 0.8, 0.7, 0.3, 1e-1, 1e-2, 1e-3)}"
      ],
      "execution_count": null,
      "outputs": []
    },
    {
      "cell_type": "markdown",
      "metadata": {
        "id": "RB2Fl_XnZ6sM"
      },
      "source": [
        "Di seguito viene creata un'istanza di GridSearch fornendo l'NBClassifier usato in precedenza (è possibile fare lo stesso anche per il classificatore SVM usando i parametri adeguati). Il parametro `n_jobs=-1` indica alla macchina di usare più core."
      ]
    },
    {
      "cell_type": "code",
      "metadata": {
        "id": "aBrOgwArvRB-"
      },
      "source": [
        "gs_clf = GridSearchCV(text_clf, parameters, n_jobs=-1)\n",
        "gs_clf = gs_clf.fit(train_nb.text, train_nb.target)"
      ],
      "execution_count": null,
      "outputs": []
    },
    {
      "cell_type": "markdown",
      "metadata": {
        "id": "6XyZ7A4wbQND"
      },
      "source": [
        "E' possibile osservare il migliore score ottenuto dalle varie combinazioni di parametri..."
      ]
    },
    {
      "cell_type": "code",
      "metadata": {
        "id": "Er3z03mGxDOr",
        "colab": {
          "base_uri": "https://localhost:8080/"
        },
        "outputId": "e20d29c3-b30f-4cf4-c04a-83a7a62ada6e"
      },
      "source": [
        "gs_clf.best_score_"
      ],
      "execution_count": null,
      "outputs": [
        {
          "output_type": "execute_result",
          "data": {
            "text/plain": [
              "0.7191868417332297"
            ]
          },
          "metadata": {},
          "execution_count": 53
        }
      ]
    },
    {
      "cell_type": "markdown",
      "metadata": {
        "id": "2hdQYr8_bbJn"
      },
      "source": [
        "...e anche qual è la combinazione che ha dato i risultati ottimali."
      ]
    },
    {
      "cell_type": "code",
      "metadata": {
        "id": "ekOBRLL6vaU8",
        "colab": {
          "base_uri": "https://localhost:8080/"
        },
        "outputId": "4e1b5cdb-b742-49ed-8b99-7ecf5225844b"
      },
      "source": [
        "gs_clf.best_params_"
      ],
      "execution_count": null,
      "outputs": [
        {
          "output_type": "execute_result",
          "data": {
            "text/plain": [
              "{'clf__alpha': 0.8, 'tfidf__use_idf': True, 'vect__ngram_range': (1, 3)}"
            ]
          },
          "metadata": {},
          "execution_count": 54
        }
      ]
    },
    {
      "cell_type": "code",
      "metadata": {
        "id": "w7wMFT3U4qne",
        "colab": {
          "base_uri": "https://localhost:8080/",
          "height": 419
        },
        "outputId": "74343341-e7cd-4557-a1ea-16ed07beba2d"
      },
      "source": [
        "sample_submission = pd.read_csv(SUBMISSION_PATH)\n",
        "sample_submission[\"target\"] = gs_clf.predict(test_nb.text)\n",
        "sample_submission.to_csv(\"submissionGridNB.csv\", index=False)\n",
        "sample_submission"
      ],
      "execution_count": null,
      "outputs": [
        {
          "output_type": "execute_result",
          "data": {
            "text/html": [
              "<div>\n",
              "<style scoped>\n",
              "    .dataframe tbody tr th:only-of-type {\n",
              "        vertical-align: middle;\n",
              "    }\n",
              "\n",
              "    .dataframe tbody tr th {\n",
              "        vertical-align: top;\n",
              "    }\n",
              "\n",
              "    .dataframe thead th {\n",
              "        text-align: right;\n",
              "    }\n",
              "</style>\n",
              "<table border=\"1\" class=\"dataframe\">\n",
              "  <thead>\n",
              "    <tr style=\"text-align: right;\">\n",
              "      <th></th>\n",
              "      <th>id</th>\n",
              "      <th>target</th>\n",
              "    </tr>\n",
              "  </thead>\n",
              "  <tbody>\n",
              "    <tr>\n",
              "      <th>0</th>\n",
              "      <td>0</td>\n",
              "      <td>0</td>\n",
              "    </tr>\n",
              "    <tr>\n",
              "      <th>1</th>\n",
              "      <td>2</td>\n",
              "      <td>0</td>\n",
              "    </tr>\n",
              "    <tr>\n",
              "      <th>2</th>\n",
              "      <td>3</td>\n",
              "      <td>1</td>\n",
              "    </tr>\n",
              "    <tr>\n",
              "      <th>3</th>\n",
              "      <td>9</td>\n",
              "      <td>1</td>\n",
              "    </tr>\n",
              "    <tr>\n",
              "      <th>4</th>\n",
              "      <td>11</td>\n",
              "      <td>1</td>\n",
              "    </tr>\n",
              "    <tr>\n",
              "      <th>...</th>\n",
              "      <td>...</td>\n",
              "      <td>...</td>\n",
              "    </tr>\n",
              "    <tr>\n",
              "      <th>3258</th>\n",
              "      <td>10861</td>\n",
              "      <td>1</td>\n",
              "    </tr>\n",
              "    <tr>\n",
              "      <th>3259</th>\n",
              "      <td>10865</td>\n",
              "      <td>1</td>\n",
              "    </tr>\n",
              "    <tr>\n",
              "      <th>3260</th>\n",
              "      <td>10868</td>\n",
              "      <td>1</td>\n",
              "    </tr>\n",
              "    <tr>\n",
              "      <th>3261</th>\n",
              "      <td>10874</td>\n",
              "      <td>1</td>\n",
              "    </tr>\n",
              "    <tr>\n",
              "      <th>3262</th>\n",
              "      <td>10875</td>\n",
              "      <td>1</td>\n",
              "    </tr>\n",
              "  </tbody>\n",
              "</table>\n",
              "<p>3263 rows × 2 columns</p>\n",
              "</div>"
            ],
            "text/plain": [
              "         id  target\n",
              "0         0       0\n",
              "1         2       0\n",
              "2         3       1\n",
              "3         9       1\n",
              "4        11       1\n",
              "...     ...     ...\n",
              "3258  10861       1\n",
              "3259  10865       1\n",
              "3260  10868       1\n",
              "3261  10874       1\n",
              "3262  10875       1\n",
              "\n",
              "[3263 rows x 2 columns]"
            ]
          },
          "metadata": {},
          "execution_count": 55
        }
      ]
    },
    {
      "cell_type": "markdown",
      "metadata": {
        "id": "f-YXtl-kW3rE"
      },
      "source": [
        "Il modello Grid Search applicato al *NBClassifier* ha ottenuto uno score di **0.79436** in fase di testing risultando essere allineato al punteggio ottenuto in precedenza dal classificatore base. Ciò ci fa capire come i parametri con cui era stato impostato il classificatore fossero già quelli ottimali per il nostro problema. Un'altra possibilità è che la soluzione ottimale sia al di fuori di quelle provate nella nostra ricerca."
      ]
    },
    {
      "cell_type": "markdown",
      "metadata": {
        "id": "cQO6uG8MU63X"
      },
      "source": [
        "# Random Forest"
      ]
    },
    {
      "cell_type": "markdown",
      "metadata": {
        "id": "grhCZ7WZU63Y"
      },
      "source": [
        "Il prossimo modello che viene testato è relativo a **Random Forest** ed **Extra Trees**. Come prima cosa, anche in questo caso, viene riportato il dataset."
      ]
    },
    {
      "cell_type": "code",
      "metadata": {
        "id": "mcbQYSWbU63Y"
      },
      "source": [
        "train_rf = train_full\n",
        "test_rf = test_full"
      ],
      "execution_count": null,
      "outputs": []
    },
    {
      "cell_type": "markdown",
      "metadata": {
        "id": "DoV2sRpQ7Hfa"
      },
      "source": [
        "Per questo modello vengono eseguite delle operazioni di feature engineering simili agli altri, ma leggermente diversi per necessità del modello stesso."
      ]
    },
    {
      "cell_type": "code",
      "metadata": {
        "id": "8oiWcDAlebqq"
      },
      "source": [
        "#Removing Duplicated rows\n",
        "train_rf.drop_duplicates(subset=['keyword', 'text', 'target'],keep='first', inplace=True)\n",
        "\n",
        "#Replacing null with 'null'\n",
        "train_rf['location'].fillna('null9999', inplace=True) \n",
        "train_rf['keyword'].fillna('null9999', inplace=True)\n",
        "test_rf['location'].fillna('null9999', inplace=True) \n",
        "test_rf['keyword'].fillna('null9999', inplace=True)"
      ],
      "execution_count": null,
      "outputs": []
    },
    {
      "cell_type": "markdown",
      "metadata": {
        "id": "8paVol1Z7gAN"
      },
      "source": [
        "Al termine, il dataset si presenta come segue:"
      ]
    },
    {
      "cell_type": "code",
      "metadata": {
        "id": "2f7h6ejTcYBt",
        "colab": {
          "base_uri": "https://localhost:8080/",
          "height": 204
        },
        "outputId": "7eaac25f-e303-4a92-8abc-ba62856d521f"
      },
      "source": [
        "train_rf.head()"
      ],
      "execution_count": null,
      "outputs": [
        {
          "output_type": "execute_result",
          "data": {
            "text/html": [
              "<div>\n",
              "<style scoped>\n",
              "    .dataframe tbody tr th:only-of-type {\n",
              "        vertical-align: middle;\n",
              "    }\n",
              "\n",
              "    .dataframe tbody tr th {\n",
              "        vertical-align: top;\n",
              "    }\n",
              "\n",
              "    .dataframe thead th {\n",
              "        text-align: right;\n",
              "    }\n",
              "</style>\n",
              "<table border=\"1\" class=\"dataframe\">\n",
              "  <thead>\n",
              "    <tr style=\"text-align: right;\">\n",
              "      <th></th>\n",
              "      <th>id</th>\n",
              "      <th>keyword</th>\n",
              "      <th>location</th>\n",
              "      <th>text</th>\n",
              "      <th>target</th>\n",
              "    </tr>\n",
              "  </thead>\n",
              "  <tbody>\n",
              "    <tr>\n",
              "      <th>0</th>\n",
              "      <td>1</td>\n",
              "      <td>null9999</td>\n",
              "      <td>null9999</td>\n",
              "      <td>Our Deeds are the Reason of this #earthquake M...</td>\n",
              "      <td>1</td>\n",
              "    </tr>\n",
              "    <tr>\n",
              "      <th>1</th>\n",
              "      <td>4</td>\n",
              "      <td>null9999</td>\n",
              "      <td>null9999</td>\n",
              "      <td>Forest fire near La Ronge Sask. Canada</td>\n",
              "      <td>1</td>\n",
              "    </tr>\n",
              "    <tr>\n",
              "      <th>2</th>\n",
              "      <td>5</td>\n",
              "      <td>null9999</td>\n",
              "      <td>null9999</td>\n",
              "      <td>All residents asked to 'shelter in place' are ...</td>\n",
              "      <td>1</td>\n",
              "    </tr>\n",
              "    <tr>\n",
              "      <th>3</th>\n",
              "      <td>6</td>\n",
              "      <td>null9999</td>\n",
              "      <td>null9999</td>\n",
              "      <td>13,000 people receive #wildfires evacuation or...</td>\n",
              "      <td>1</td>\n",
              "    </tr>\n",
              "    <tr>\n",
              "      <th>4</th>\n",
              "      <td>7</td>\n",
              "      <td>null9999</td>\n",
              "      <td>null9999</td>\n",
              "      <td>Just got sent this photo from Ruby #Alaska as ...</td>\n",
              "      <td>1</td>\n",
              "    </tr>\n",
              "  </tbody>\n",
              "</table>\n",
              "</div>"
            ],
            "text/plain": [
              "   id   keyword  ...                                               text target\n",
              "0   1  null9999  ...  Our Deeds are the Reason of this #earthquake M...      1\n",
              "1   4  null9999  ...             Forest fire near La Ronge Sask. Canada      1\n",
              "2   5  null9999  ...  All residents asked to 'shelter in place' are ...      1\n",
              "3   6  null9999  ...  13,000 people receive #wildfires evacuation or...      1\n",
              "4   7  null9999  ...  Just got sent this photo from Ruby #Alaska as ...      1\n",
              "\n",
              "[5 rows x 5 columns]"
            ]
          },
          "metadata": {},
          "execution_count": 58
        }
      ]
    },
    {
      "cell_type": "code",
      "metadata": {
        "id": "gJz4LnOmdR1J",
        "colab": {
          "base_uri": "https://localhost:8080/",
          "height": 204
        },
        "outputId": "a3c0b8e1-2618-4f5f-b497-708b32c59a25"
      },
      "source": [
        "test_rf.head()"
      ],
      "execution_count": null,
      "outputs": [
        {
          "output_type": "execute_result",
          "data": {
            "text/html": [
              "<div>\n",
              "<style scoped>\n",
              "    .dataframe tbody tr th:only-of-type {\n",
              "        vertical-align: middle;\n",
              "    }\n",
              "\n",
              "    .dataframe tbody tr th {\n",
              "        vertical-align: top;\n",
              "    }\n",
              "\n",
              "    .dataframe thead th {\n",
              "        text-align: right;\n",
              "    }\n",
              "</style>\n",
              "<table border=\"1\" class=\"dataframe\">\n",
              "  <thead>\n",
              "    <tr style=\"text-align: right;\">\n",
              "      <th></th>\n",
              "      <th>id</th>\n",
              "      <th>keyword</th>\n",
              "      <th>location</th>\n",
              "      <th>text</th>\n",
              "    </tr>\n",
              "  </thead>\n",
              "  <tbody>\n",
              "    <tr>\n",
              "      <th>0</th>\n",
              "      <td>0</td>\n",
              "      <td>null9999</td>\n",
              "      <td>null9999</td>\n",
              "      <td>just happened a terrible car crash</td>\n",
              "    </tr>\n",
              "    <tr>\n",
              "      <th>1</th>\n",
              "      <td>2</td>\n",
              "      <td>null9999</td>\n",
              "      <td>null9999</td>\n",
              "      <td>heard about #earthquake is different cities, s...</td>\n",
              "    </tr>\n",
              "    <tr>\n",
              "      <th>2</th>\n",
              "      <td>3</td>\n",
              "      <td>null9999</td>\n",
              "      <td>null9999</td>\n",
              "      <td>there is a forest fire at spot pond, geese are...</td>\n",
              "    </tr>\n",
              "    <tr>\n",
              "      <th>3</th>\n",
              "      <td>9</td>\n",
              "      <td>null9999</td>\n",
              "      <td>null9999</td>\n",
              "      <td>apocalypse lighting. #spokane #wildfires</td>\n",
              "    </tr>\n",
              "    <tr>\n",
              "      <th>4</th>\n",
              "      <td>11</td>\n",
              "      <td>null9999</td>\n",
              "      <td>null9999</td>\n",
              "      <td>typhoon soudelor kills 28 in china and taiwan</td>\n",
              "    </tr>\n",
              "  </tbody>\n",
              "</table>\n",
              "</div>"
            ],
            "text/plain": [
              "   id   keyword  location                                               text\n",
              "0   0  null9999  null9999                 just happened a terrible car crash\n",
              "1   2  null9999  null9999  heard about #earthquake is different cities, s...\n",
              "2   3  null9999  null9999  there is a forest fire at spot pond, geese are...\n",
              "3   9  null9999  null9999           apocalypse lighting. #spokane #wildfires\n",
              "4  11  null9999  null9999      typhoon soudelor kills 28 in china and taiwan"
            ]
          },
          "metadata": {},
          "execution_count": 59
        }
      ]
    },
    {
      "cell_type": "markdown",
      "metadata": {
        "id": "fz3K3CDV7uLq"
      },
      "source": [
        "Decidiamo di eseguire dei test per verificare l'accuratezza del classificatore e per fare questo dividiamo il training set in modo da poter calcolare lo score."
      ]
    },
    {
      "cell_type": "code",
      "metadata": {
        "id": "DkgjW__emgCH"
      },
      "source": [
        "#Preparing data\n",
        "X = train_rf['text']\n",
        "y = train_rf['target']\n",
        "X_train, X_test, y_train, y_test = train_test_split(X,y,stratify=y,random_state=42)"
      ],
      "execution_count": null,
      "outputs": []
    },
    {
      "cell_type": "code",
      "metadata": {
        "id": "5d91Nn6xr5mi",
        "colab": {
          "base_uri": "https://localhost:8080/"
        },
        "outputId": "059ff347-4c69-45db-9893-d5067b96e436"
      },
      "source": [
        "X_train"
      ],
      "execution_count": null,
      "outputs": [
        {
          "output_type": "execute_result",
          "data": {
            "text/plain": [
              "3093    Photo: weallheartonedirection: I wouldnÛªt le...\n",
              "2664    @channelstv:That's why terrorism is not d war ...\n",
              "7221    Incredulous at continued outcry of welfare bei...\n",
              "3305    So all the store's fire alarms went off today ...\n",
              "1012    Woke up to Drake body bagging Meek again!! Mee...\n",
              "                              ...                        \n",
              "3702    cause i know every man has a fear of a strong-...\n",
              "6428    After a suicide bombing in SuruÌ¤ that killed ...\n",
              "6854    Photo: lavenderpoetrycafe: The Forgotten Histo...\n",
              "3427    what if i want to fuck the duck until explode....\n",
              "5659    Last Chance Animal Rescue has 3 new posts. htt...\n",
              "Name: text, Length: 5655, dtype: object"
            ]
          },
          "metadata": {},
          "execution_count": 61
        }
      ]
    },
    {
      "cell_type": "code",
      "metadata": {
        "id": "YLBrH3thsFyk",
        "colab": {
          "base_uri": "https://localhost:8080/"
        },
        "outputId": "030cce1b-741b-4d33-98bf-da907b147bdc"
      },
      "source": [
        "X_test"
      ],
      "execution_count": null,
      "outputs": [
        {
          "output_type": "execute_result",
          "data": {
            "text/plain": [
              "1794    If you sit and rant on snapchat to your appare...\n",
              "6746    Lily Xo is a sexy cowgirl out in the sticks ht...\n",
              "3892    Picking up flattened hay men (@ Masonite in Wa...\n",
              "1961    @roughdeal1 ante hudhud cyclone Chandrababu Va...\n",
              "3265    Why are you engulfed by low self-image? Take t...\n",
              "                              ...                        \n",
              "6735    Thunderstorm in Helsinki\\n#thunder #lightning ...\n",
              "7148    Zeal is a volcano the peak of which the grass ...\n",
              "1029    BREAKING: Fairfax County firefighter placed on...\n",
              "2331    EPA begins demolition of homes in toxic area #...\n",
              "4088    @modnao23 the hail is ruining everything. Plus...\n",
              "Name: text, Length: 1886, dtype: object"
            ]
          },
          "metadata": {},
          "execution_count": 62
        }
      ]
    },
    {
      "cell_type": "code",
      "metadata": {
        "id": "EkgSlexDsTSm",
        "colab": {
          "base_uri": "https://localhost:8080/"
        },
        "outputId": "0121af69-b182-4efb-cc2b-bf24b352c024"
      },
      "source": [
        "y_train"
      ],
      "execution_count": null,
      "outputs": [
        {
          "output_type": "execute_result",
          "data": {
            "text/plain": [
              "3093    0\n",
              "2664    1\n",
              "7221    1\n",
              "3305    1\n",
              "1012    0\n",
              "       ..\n",
              "3702    0\n",
              "6428    1\n",
              "6854    1\n",
              "3427    0\n",
              "5659    0\n",
              "Name: target, Length: 5655, dtype: int64"
            ]
          },
          "metadata": {},
          "execution_count": 63
        }
      ]
    },
    {
      "cell_type": "code",
      "metadata": {
        "id": "lTgl8IIRsWCn",
        "colab": {
          "base_uri": "https://localhost:8080/"
        },
        "outputId": "457653dd-a180-41ac-e57d-8f98acad2932"
      },
      "source": [
        "y_test"
      ],
      "execution_count": null,
      "outputs": [
        {
          "output_type": "execute_result",
          "data": {
            "text/plain": [
              "1794    0\n",
              "6746    0\n",
              "3892    0\n",
              "1961    1\n",
              "3265    0\n",
              "       ..\n",
              "6735    1\n",
              "7148    1\n",
              "1029    0\n",
              "2331    1\n",
              "4088    1\n",
              "Name: target, Length: 1886, dtype: int64"
            ]
          },
          "metadata": {},
          "execution_count": 64
        }
      ]
    },
    {
      "cell_type": "markdown",
      "metadata": {
        "id": "7otR2DgnU63Y"
      },
      "source": [
        "## Tokenization"
      ]
    },
    {
      "cell_type": "code",
      "metadata": {
        "id": "37IPBIBKvA-7"
      },
      "source": [
        "#Tokenization\n",
        "vectorizer = CountVectorizer()\n",
        "X_train_vec = vectorizer.fit_transform(X_train)\n",
        "X_test_vec = vectorizer.transform(X_test)"
      ],
      "execution_count": null,
      "outputs": []
    },
    {
      "cell_type": "markdown",
      "metadata": {
        "id": "GdOmS3RHU63Z"
      },
      "source": [
        "## Model"
      ]
    },
    {
      "cell_type": "markdown",
      "metadata": {
        "id": "BlJ4lwfh8dYs"
      },
      "source": [
        "Per creare il modello vengono provati diversi classificatori. Inizialmente si usa *RandomForestClassifier* con i parametri di default."
      ]
    },
    {
      "cell_type": "code",
      "metadata": {
        "id": "Iqq0LEhXs11j",
        "colab": {
          "base_uri": "https://localhost:8080/"
        },
        "outputId": "b32530f7-f665-438d-a28c-1ef0097ef0e8"
      },
      "source": [
        "#Random Forest\n",
        "rf = RandomForestClassifier(random_state=42)\n",
        "rf.fit(X_train_vec,y_train)\n",
        "print(\"Cross Val Score: \",cross_val_score(rf,X_train_vec,y_train,cv=5).mean())\n",
        "print(\"Train Score: \", round(rf.score(X_train_vec,y_train),4))\n",
        "print(\"Validation Score: \", round(rf.score(X_test_vec,y_test),4))"
      ],
      "execution_count": null,
      "outputs": [
        {
          "output_type": "stream",
          "name": "stdout",
          "text": [
            "Cross Val Score:  0.7793103448275862\n",
            "Train Score:  0.9979\n",
            "Validation Score:  0.7826\n"
          ]
        }
      ]
    },
    {
      "cell_type": "markdown",
      "metadata": {
        "id": "IuHzUhXW8yrH"
      },
      "source": [
        "In seguito si prova *ExtraTreesClassifier* sempre con parametri di default."
      ]
    },
    {
      "cell_type": "code",
      "metadata": {
        "id": "khDHmayGvIea",
        "colab": {
          "base_uri": "https://localhost:8080/"
        },
        "outputId": "a3193ba8-6251-4bcc-a488-1912c100fa94"
      },
      "source": [
        "#Extra Trees\n",
        "et = ExtraTreesClassifier(random_state=42)\n",
        "et.fit(X_train_vec,y_train)\n",
        "print(\"Cross Val Score: \",cross_val_score(rf,X_train_vec,y_train,cv=5).mean())\n",
        "print(\"Train Score: \", round(et.score(X_train_vec,y_train),4))\n",
        "print(\"Validation Score: \", round(et.score(X_test_vec,y_test),4))"
      ],
      "execution_count": null,
      "outputs": [
        {
          "output_type": "stream",
          "name": "stdout",
          "text": [
            "Cross Val Score:  0.7793103448275862\n",
            "Train Score:  0.9979\n",
            "Validation Score:  0.79\n"
          ]
        }
      ]
    },
    {
      "cell_type": "markdown",
      "metadata": {
        "id": "c6MxQsKM8-v7"
      },
      "source": [
        "Si passa poi ad una tecnica leggermente più complessa basata su bagging:"
      ]
    },
    {
      "cell_type": "code",
      "metadata": {
        "id": "h7xscAefwNd0",
        "colab": {
          "base_uri": "https://localhost:8080/"
        },
        "outputId": "36d59a65-03d9-4dfb-a0a1-90cc7781d10e"
      },
      "source": [
        "#Bagging Classifier\n",
        "bagged = BaggingClassifier(base_estimator=ExtraTreesClassifier(random_state=42))\n",
        "bagged.fit(X_train_vec,y_train)\n",
        "print(\"Cross Val Score: \",cross_val_score(bagged,X_train_vec,y_train,cv=5).mean())\n",
        "print(\"Train Score: \",bagged.score(X_train_vec,y_train))\n",
        "print(\"Validation Score: \",bagged.score(X_test_vec,y_test))"
      ],
      "execution_count": null,
      "outputs": [
        {
          "output_type": "stream",
          "name": "stdout",
          "text": [
            "Cross Val Score:  0.7913351016799293\n",
            "Train Score:  0.9909814323607427\n",
            "Validation Score:  0.7926829268292683\n"
          ]
        }
      ]
    },
    {
      "cell_type": "markdown",
      "metadata": {
        "id": "qk0U9CFXGTw5"
      },
      "source": [
        "## Parameters tuning"
      ]
    },
    {
      "cell_type": "markdown",
      "metadata": {
        "id": "s9J1eVnT9Vef"
      },
      "source": [
        "I modelli basati su Extra Trees e Random Forest sono chiaramente in overfitting, quindi tramite tuning dei parametri proviamo a cercare soluzioni migliori. In particolare, potrebbe essere utile inserire un limite di profondità nella ricerca.\n",
        "\n",
        "Di seguito è riportato il codice per il tuning di Random Forest, ma un procedimento simile può essere applicato su Extra Trees."
      ]
    },
    {
      "cell_type": "code",
      "metadata": {
        "id": "bZWKONOZIOKh"
      },
      "source": [
        "parameters = {'criterion': ('gini', 'entropy'), 'max_depth': (100, 120, 150), 'max_features': ('auto', 0.8, 0.4)}"
      ],
      "execution_count": null,
      "outputs": []
    },
    {
      "cell_type": "code",
      "metadata": {
        "id": "hyWM8K20DB9y",
        "colab": {
          "base_uri": "https://localhost:8080/",
          "height": 323
        },
        "outputId": "8834418e-b518-4f1e-91e6-f85c84f345b6"
      },
      "source": [
        "gs_rf = GridSearchCV(rf, parameters, n_jobs=-1)\n",
        "gs_rf = gs_rf.fit(X_train_vec,y_train)"
      ],
      "execution_count": null,
      "outputs": [
        {
          "output_type": "error",
          "ename": "KeyboardInterrupt",
          "evalue": "ignored",
          "traceback": [
            "\u001b[0;31m---------------------------------------------------------------------------\u001b[0m",
            "\u001b[0;31mKeyboardInterrupt\u001b[0m                         Traceback (most recent call last)",
            "\u001b[0;32m<ipython-input-70-8a0f0dd9472c>\u001b[0m in \u001b[0;36m<module>\u001b[0;34m()\u001b[0m\n\u001b[1;32m      1\u001b[0m \u001b[0mgs_rf\u001b[0m \u001b[0;34m=\u001b[0m \u001b[0mGridSearchCV\u001b[0m\u001b[0;34m(\u001b[0m\u001b[0mrf\u001b[0m\u001b[0;34m,\u001b[0m \u001b[0mparameters\u001b[0m\u001b[0;34m,\u001b[0m \u001b[0mn_jobs\u001b[0m\u001b[0;34m=\u001b[0m\u001b[0;34m-\u001b[0m\u001b[0;36m1\u001b[0m\u001b[0;34m)\u001b[0m\u001b[0;34m\u001b[0m\u001b[0;34m\u001b[0m\u001b[0m\n\u001b[0;32m----> 2\u001b[0;31m \u001b[0mgs_rf\u001b[0m \u001b[0;34m=\u001b[0m \u001b[0mgs_rf\u001b[0m\u001b[0;34m.\u001b[0m\u001b[0mfit\u001b[0m\u001b[0;34m(\u001b[0m\u001b[0mX_train_vec\u001b[0m\u001b[0;34m,\u001b[0m\u001b[0my_train\u001b[0m\u001b[0;34m)\u001b[0m\u001b[0;34m\u001b[0m\u001b[0;34m\u001b[0m\u001b[0m\n\u001b[0m",
            "\u001b[0;32m/usr/local/lib/python3.7/dist-packages/sklearn/model_selection/_search.py\u001b[0m in \u001b[0;36mfit\u001b[0;34m(self, X, y, groups, **fit_params)\u001b[0m\n\u001b[1;32m    708\u001b[0m                 \u001b[0;32mreturn\u001b[0m \u001b[0mresults\u001b[0m\u001b[0;34m\u001b[0m\u001b[0;34m\u001b[0m\u001b[0m\n\u001b[1;32m    709\u001b[0m \u001b[0;34m\u001b[0m\u001b[0m\n\u001b[0;32m--> 710\u001b[0;31m             \u001b[0mself\u001b[0m\u001b[0;34m.\u001b[0m\u001b[0m_run_search\u001b[0m\u001b[0;34m(\u001b[0m\u001b[0mevaluate_candidates\u001b[0m\u001b[0;34m)\u001b[0m\u001b[0;34m\u001b[0m\u001b[0;34m\u001b[0m\u001b[0m\n\u001b[0m\u001b[1;32m    711\u001b[0m \u001b[0;34m\u001b[0m\u001b[0m\n\u001b[1;32m    712\u001b[0m         \u001b[0;31m# For multi-metric evaluation, store the best_index_, best_params_ and\u001b[0m\u001b[0;34m\u001b[0m\u001b[0;34m\u001b[0m\u001b[0;34m\u001b[0m\u001b[0m\n",
            "\u001b[0;32m/usr/local/lib/python3.7/dist-packages/sklearn/model_selection/_search.py\u001b[0m in \u001b[0;36m_run_search\u001b[0;34m(self, evaluate_candidates)\u001b[0m\n\u001b[1;32m   1149\u001b[0m     \u001b[0;32mdef\u001b[0m \u001b[0m_run_search\u001b[0m\u001b[0;34m(\u001b[0m\u001b[0mself\u001b[0m\u001b[0;34m,\u001b[0m \u001b[0mevaluate_candidates\u001b[0m\u001b[0;34m)\u001b[0m\u001b[0;34m:\u001b[0m\u001b[0;34m\u001b[0m\u001b[0;34m\u001b[0m\u001b[0m\n\u001b[1;32m   1150\u001b[0m         \u001b[0;34m\"\"\"Search all candidates in param_grid\"\"\"\u001b[0m\u001b[0;34m\u001b[0m\u001b[0;34m\u001b[0m\u001b[0m\n\u001b[0;32m-> 1151\u001b[0;31m         \u001b[0mevaluate_candidates\u001b[0m\u001b[0;34m(\u001b[0m\u001b[0mParameterGrid\u001b[0m\u001b[0;34m(\u001b[0m\u001b[0mself\u001b[0m\u001b[0;34m.\u001b[0m\u001b[0mparam_grid\u001b[0m\u001b[0;34m)\u001b[0m\u001b[0;34m)\u001b[0m\u001b[0;34m\u001b[0m\u001b[0;34m\u001b[0m\u001b[0m\n\u001b[0m\u001b[1;32m   1152\u001b[0m \u001b[0;34m\u001b[0m\u001b[0m\n\u001b[1;32m   1153\u001b[0m \u001b[0;34m\u001b[0m\u001b[0m\n",
            "\u001b[0;32m/usr/local/lib/python3.7/dist-packages/sklearn/model_selection/_search.py\u001b[0m in \u001b[0;36mevaluate_candidates\u001b[0;34m(candidate_params)\u001b[0m\n\u001b[1;32m    687\u001b[0m                                \u001b[0;32mfor\u001b[0m \u001b[0mparameters\u001b[0m\u001b[0;34m,\u001b[0m \u001b[0;34m(\u001b[0m\u001b[0mtrain\u001b[0m\u001b[0;34m,\u001b[0m \u001b[0mtest\u001b[0m\u001b[0;34m)\u001b[0m\u001b[0;34m\u001b[0m\u001b[0;34m\u001b[0m\u001b[0m\n\u001b[1;32m    688\u001b[0m                                in product(candidate_params,\n\u001b[0;32m--> 689\u001b[0;31m                                           cv.split(X, y, groups)))\n\u001b[0m\u001b[1;32m    690\u001b[0m \u001b[0;34m\u001b[0m\u001b[0m\n\u001b[1;32m    691\u001b[0m                 \u001b[0;32mif\u001b[0m \u001b[0mlen\u001b[0m\u001b[0;34m(\u001b[0m\u001b[0mout\u001b[0m\u001b[0;34m)\u001b[0m \u001b[0;34m<\u001b[0m \u001b[0;36m1\u001b[0m\u001b[0;34m:\u001b[0m\u001b[0;34m\u001b[0m\u001b[0;34m\u001b[0m\u001b[0m\n",
            "\u001b[0;32m/usr/local/lib/python3.7/dist-packages/joblib/parallel.py\u001b[0m in \u001b[0;36m__call__\u001b[0;34m(self, iterable)\u001b[0m\n\u001b[1;32m   1052\u001b[0m \u001b[0;34m\u001b[0m\u001b[0m\n\u001b[1;32m   1053\u001b[0m             \u001b[0;32mwith\u001b[0m \u001b[0mself\u001b[0m\u001b[0;34m.\u001b[0m\u001b[0m_backend\u001b[0m\u001b[0;34m.\u001b[0m\u001b[0mretrieval_context\u001b[0m\u001b[0;34m(\u001b[0m\u001b[0;34m)\u001b[0m\u001b[0;34m:\u001b[0m\u001b[0;34m\u001b[0m\u001b[0;34m\u001b[0m\u001b[0m\n\u001b[0;32m-> 1054\u001b[0;31m                 \u001b[0mself\u001b[0m\u001b[0;34m.\u001b[0m\u001b[0mretrieve\u001b[0m\u001b[0;34m(\u001b[0m\u001b[0;34m)\u001b[0m\u001b[0;34m\u001b[0m\u001b[0;34m\u001b[0m\u001b[0m\n\u001b[0m\u001b[1;32m   1055\u001b[0m             \u001b[0;31m# Make sure that we get a last message telling us we are done\u001b[0m\u001b[0;34m\u001b[0m\u001b[0;34m\u001b[0m\u001b[0;34m\u001b[0m\u001b[0m\n\u001b[1;32m   1056\u001b[0m             \u001b[0melapsed_time\u001b[0m \u001b[0;34m=\u001b[0m \u001b[0mtime\u001b[0m\u001b[0;34m.\u001b[0m\u001b[0mtime\u001b[0m\u001b[0;34m(\u001b[0m\u001b[0;34m)\u001b[0m \u001b[0;34m-\u001b[0m \u001b[0mself\u001b[0m\u001b[0;34m.\u001b[0m\u001b[0m_start_time\u001b[0m\u001b[0;34m\u001b[0m\u001b[0;34m\u001b[0m\u001b[0m\n",
            "\u001b[0;32m/usr/local/lib/python3.7/dist-packages/joblib/parallel.py\u001b[0m in \u001b[0;36mretrieve\u001b[0;34m(self)\u001b[0m\n\u001b[1;32m    931\u001b[0m             \u001b[0;32mtry\u001b[0m\u001b[0;34m:\u001b[0m\u001b[0;34m\u001b[0m\u001b[0;34m\u001b[0m\u001b[0m\n\u001b[1;32m    932\u001b[0m                 \u001b[0;32mif\u001b[0m \u001b[0mgetattr\u001b[0m\u001b[0;34m(\u001b[0m\u001b[0mself\u001b[0m\u001b[0;34m.\u001b[0m\u001b[0m_backend\u001b[0m\u001b[0;34m,\u001b[0m \u001b[0;34m'supports_timeout'\u001b[0m\u001b[0;34m,\u001b[0m \u001b[0;32mFalse\u001b[0m\u001b[0;34m)\u001b[0m\u001b[0;34m:\u001b[0m\u001b[0;34m\u001b[0m\u001b[0;34m\u001b[0m\u001b[0m\n\u001b[0;32m--> 933\u001b[0;31m                     \u001b[0mself\u001b[0m\u001b[0;34m.\u001b[0m\u001b[0m_output\u001b[0m\u001b[0;34m.\u001b[0m\u001b[0mextend\u001b[0m\u001b[0;34m(\u001b[0m\u001b[0mjob\u001b[0m\u001b[0;34m.\u001b[0m\u001b[0mget\u001b[0m\u001b[0;34m(\u001b[0m\u001b[0mtimeout\u001b[0m\u001b[0;34m=\u001b[0m\u001b[0mself\u001b[0m\u001b[0;34m.\u001b[0m\u001b[0mtimeout\u001b[0m\u001b[0;34m)\u001b[0m\u001b[0;34m)\u001b[0m\u001b[0;34m\u001b[0m\u001b[0;34m\u001b[0m\u001b[0m\n\u001b[0m\u001b[1;32m    934\u001b[0m                 \u001b[0;32melse\u001b[0m\u001b[0;34m:\u001b[0m\u001b[0;34m\u001b[0m\u001b[0;34m\u001b[0m\u001b[0m\n\u001b[1;32m    935\u001b[0m                     \u001b[0mself\u001b[0m\u001b[0;34m.\u001b[0m\u001b[0m_output\u001b[0m\u001b[0;34m.\u001b[0m\u001b[0mextend\u001b[0m\u001b[0;34m(\u001b[0m\u001b[0mjob\u001b[0m\u001b[0;34m.\u001b[0m\u001b[0mget\u001b[0m\u001b[0;34m(\u001b[0m\u001b[0;34m)\u001b[0m\u001b[0;34m)\u001b[0m\u001b[0;34m\u001b[0m\u001b[0;34m\u001b[0m\u001b[0m\n",
            "\u001b[0;32m/usr/local/lib/python3.7/dist-packages/joblib/_parallel_backends.py\u001b[0m in \u001b[0;36mwrap_future_result\u001b[0;34m(future, timeout)\u001b[0m\n\u001b[1;32m    540\u001b[0m         AsyncResults.get from multiprocessing.\"\"\"\n\u001b[1;32m    541\u001b[0m         \u001b[0;32mtry\u001b[0m\u001b[0;34m:\u001b[0m\u001b[0;34m\u001b[0m\u001b[0;34m\u001b[0m\u001b[0m\n\u001b[0;32m--> 542\u001b[0;31m             \u001b[0;32mreturn\u001b[0m \u001b[0mfuture\u001b[0m\u001b[0;34m.\u001b[0m\u001b[0mresult\u001b[0m\u001b[0;34m(\u001b[0m\u001b[0mtimeout\u001b[0m\u001b[0;34m=\u001b[0m\u001b[0mtimeout\u001b[0m\u001b[0;34m)\u001b[0m\u001b[0;34m\u001b[0m\u001b[0;34m\u001b[0m\u001b[0m\n\u001b[0m\u001b[1;32m    543\u001b[0m         \u001b[0;32mexcept\u001b[0m \u001b[0mCfTimeoutError\u001b[0m \u001b[0;32mas\u001b[0m \u001b[0me\u001b[0m\u001b[0;34m:\u001b[0m\u001b[0;34m\u001b[0m\u001b[0;34m\u001b[0m\u001b[0m\n\u001b[1;32m    544\u001b[0m             \u001b[0;32mraise\u001b[0m \u001b[0mTimeoutError\u001b[0m \u001b[0;32mfrom\u001b[0m \u001b[0me\u001b[0m\u001b[0;34m\u001b[0m\u001b[0;34m\u001b[0m\u001b[0m\n",
            "\u001b[0;32m/usr/lib/python3.7/concurrent/futures/_base.py\u001b[0m in \u001b[0;36mresult\u001b[0;34m(self, timeout)\u001b[0m\n\u001b[1;32m    428\u001b[0m                 \u001b[0;32mreturn\u001b[0m \u001b[0mself\u001b[0m\u001b[0;34m.\u001b[0m\u001b[0m__get_result\u001b[0m\u001b[0;34m(\u001b[0m\u001b[0;34m)\u001b[0m\u001b[0;34m\u001b[0m\u001b[0;34m\u001b[0m\u001b[0m\n\u001b[1;32m    429\u001b[0m \u001b[0;34m\u001b[0m\u001b[0m\n\u001b[0;32m--> 430\u001b[0;31m             \u001b[0mself\u001b[0m\u001b[0;34m.\u001b[0m\u001b[0m_condition\u001b[0m\u001b[0;34m.\u001b[0m\u001b[0mwait\u001b[0m\u001b[0;34m(\u001b[0m\u001b[0mtimeout\u001b[0m\u001b[0;34m)\u001b[0m\u001b[0;34m\u001b[0m\u001b[0;34m\u001b[0m\u001b[0m\n\u001b[0m\u001b[1;32m    431\u001b[0m \u001b[0;34m\u001b[0m\u001b[0m\n\u001b[1;32m    432\u001b[0m             \u001b[0;32mif\u001b[0m \u001b[0mself\u001b[0m\u001b[0;34m.\u001b[0m\u001b[0m_state\u001b[0m \u001b[0;32min\u001b[0m \u001b[0;34m[\u001b[0m\u001b[0mCANCELLED\u001b[0m\u001b[0;34m,\u001b[0m \u001b[0mCANCELLED_AND_NOTIFIED\u001b[0m\u001b[0;34m]\u001b[0m\u001b[0;34m:\u001b[0m\u001b[0;34m\u001b[0m\u001b[0;34m\u001b[0m\u001b[0m\n",
            "\u001b[0;32m/usr/lib/python3.7/threading.py\u001b[0m in \u001b[0;36mwait\u001b[0;34m(self, timeout)\u001b[0m\n\u001b[1;32m    294\u001b[0m         \u001b[0;32mtry\u001b[0m\u001b[0;34m:\u001b[0m    \u001b[0;31m# restore state no matter what (e.g., KeyboardInterrupt)\u001b[0m\u001b[0;34m\u001b[0m\u001b[0;34m\u001b[0m\u001b[0m\n\u001b[1;32m    295\u001b[0m             \u001b[0;32mif\u001b[0m \u001b[0mtimeout\u001b[0m \u001b[0;32mis\u001b[0m \u001b[0;32mNone\u001b[0m\u001b[0;34m:\u001b[0m\u001b[0;34m\u001b[0m\u001b[0;34m\u001b[0m\u001b[0m\n\u001b[0;32m--> 296\u001b[0;31m                 \u001b[0mwaiter\u001b[0m\u001b[0;34m.\u001b[0m\u001b[0macquire\u001b[0m\u001b[0;34m(\u001b[0m\u001b[0;34m)\u001b[0m\u001b[0;34m\u001b[0m\u001b[0;34m\u001b[0m\u001b[0m\n\u001b[0m\u001b[1;32m    297\u001b[0m                 \u001b[0mgotit\u001b[0m \u001b[0;34m=\u001b[0m \u001b[0;32mTrue\u001b[0m\u001b[0;34m\u001b[0m\u001b[0;34m\u001b[0m\u001b[0m\n\u001b[1;32m    298\u001b[0m             \u001b[0;32melse\u001b[0m\u001b[0;34m:\u001b[0m\u001b[0;34m\u001b[0m\u001b[0;34m\u001b[0m\u001b[0m\n",
            "\u001b[0;31mKeyboardInterrupt\u001b[0m: "
          ]
        }
      ]
    },
    {
      "cell_type": "code",
      "metadata": {
        "id": "7n6lNmw0ELA4"
      },
      "source": [
        "gs_rf.best_params_"
      ],
      "execution_count": null,
      "outputs": []
    },
    {
      "cell_type": "code",
      "metadata": {
        "id": "FNknB7wezavT"
      },
      "source": [
        "#Running Random forest with optimal HyperParameters\n",
        "rf = RandomForestClassifier(random_state=42,criterion='entropy',max_features='auto',max_depth=120)\n",
        "rf.fit(X_train_vec,y_train)\n",
        "print(\"Cross Val Score: \",cross_val_score(rf,X_train_vec,y_train,cv=5).mean())\n",
        "print(\"Train Score: \", round(rf.score(X_train_vec,y_train),4))\n",
        "print(\"Test Score: \", round(rf.score(X_test_vec,y_test),4))"
      ],
      "execution_count": null,
      "outputs": []
    },
    {
      "cell_type": "markdown",
      "metadata": {
        "id": "pFSfZl4Y_hp5"
      },
      "source": [
        "Una volta scelti i modelli più promettenti eseguiamo l'addestramento sull'intero training set "
      ]
    },
    {
      "cell_type": "code",
      "metadata": {
        "id": "gsZefaSQU63Z",
        "colab": {
          "base_uri": "https://localhost:8080/"
        },
        "outputId": "6a61fb20-9399-418a-a1e8-8e6a581c6921"
      },
      "source": [
        "#Final model\n",
        "count_vectorizer = CountVectorizer()\n",
        "train_vectors = count_vectorizer.fit_transform(train_rf[\"text\"])\n",
        "test_vectors = count_vectorizer.transform(test_rf[\"text\"])\n",
        "#Optimal Random Forest\n",
        "rff = RandomForestClassifier(random_state=42,criterion='entropy',max_features='auto',max_depth=120)\n",
        "rff.fit(train_vectors, train_rf[\"target\"])\n",
        "#Extra Trees\n",
        "etf = ExtraTreesClassifier(random_state=42)\n",
        "etf.fit(train_vectors, train_rf[\"target\"])"
      ],
      "execution_count": null,
      "outputs": [
        {
          "output_type": "execute_result",
          "data": {
            "text/plain": [
              "ExtraTreesClassifier(bootstrap=False, ccp_alpha=0.0, class_weight=None,\n",
              "                     criterion='gini', max_depth=None, max_features='auto',\n",
              "                     max_leaf_nodes=None, max_samples=None,\n",
              "                     min_impurity_decrease=0.0, min_impurity_split=None,\n",
              "                     min_samples_leaf=1, min_samples_split=2,\n",
              "                     min_weight_fraction_leaf=0.0, n_estimators=100,\n",
              "                     n_jobs=None, oob_score=False, random_state=42, verbose=0,\n",
              "                     warm_start=False)"
            ]
          },
          "metadata": {},
          "execution_count": 7
        }
      ]
    },
    {
      "cell_type": "code",
      "metadata": {
        "id": "POxGsl95WQa1"
      },
      "source": [
        "#Bagging\n",
        "baggedf = BaggingClassifier(base_estimator=ExtraTreesClassifier(random_state=42))\n",
        "baggedf.fit(train_vectors, train_rf[\"target\"])"
      ],
      "execution_count": null,
      "outputs": []
    },
    {
      "cell_type": "markdown",
      "metadata": {
        "id": "OpMdatfJBOAU"
      },
      "source": [
        "##Feature Importance"
      ]
    },
    {
      "cell_type": "markdown",
      "metadata": {
        "id": "Lom7TZ77MZRg"
      },
      "source": [
        "Di seguito mostriamo le informazioni relative alla feature importance ricavate dal modello Random Forest. Questa è una tecnica poco utile in ambito NLP, perchè il dataframe va a formarsi di tutte le parole presenti nel dizionario che andranno poi a costituire le nuove features utilizzate. Avendo molte parole l'importanza di ognuna è molto bassa e quindi poco significativa.\n",
        "Inoltre, da queste informazioni non si può ricavare nessuno spunto per fare ulteriore feature engineering."
      ]
    },
    {
      "cell_type": "code",
      "metadata": {
        "id": "eX1DJCS1yGI-",
        "colab": {
          "base_uri": "https://localhost:8080/"
        },
        "outputId": "4016d95b-b289-4a74-c847-14fcc781c166"
      },
      "source": [
        "train_vectors.todense()\n",
        "test_vectors.todense()"
      ],
      "execution_count": null,
      "outputs": [
        {
          "output_type": "execute_result",
          "data": {
            "text/plain": [
              "matrix([[0, 0, 0, ..., 0, 0, 0],\n",
              "        [0, 0, 0, ..., 0, 0, 0],\n",
              "        [0, 0, 0, ..., 0, 0, 0],\n",
              "        ...,\n",
              "        [0, 0, 0, ..., 0, 0, 0],\n",
              "        [0, 0, 0, ..., 0, 0, 0],\n",
              "        [0, 0, 0, ..., 0, 0, 0]])"
            ]
          },
          "metadata": {},
          "execution_count": 8
        }
      ]
    },
    {
      "cell_type": "code",
      "metadata": {
        "id": "JQXpquPZuwNI"
      },
      "source": [
        "new_train_df = pd.DataFrame()\n",
        "new_test_df = pd.DataFrame()\n",
        "\n",
        "for i, col in enumerate(count_vectorizer.get_feature_names()):\n",
        "    new_train_df[col] = pd.Series(train_vectors[:, i].toarray().ravel())\n",
        "    \n",
        "for i, col in enumerate(count_vectorizer.get_feature_names()):\n",
        "    new_test_df[col] = pd.Series(test_vectors[:, i].toarray().ravel())"
      ],
      "execution_count": null,
      "outputs": []
    },
    {
      "cell_type": "code",
      "metadata": {
        "id": "-rwMvfgL4-kX"
      },
      "source": [
        "importances = rff.feature_importances_\n",
        "std = np.std([tree.feature_importances_ for tree in rff.estimators_],\n",
        "             axis=0)\n",
        "indices = np.argsort(importances)[::-1]"
      ],
      "execution_count": null,
      "outputs": []
    },
    {
      "cell_type": "code",
      "metadata": {
        "id": "A59_Nxug6Vhs",
        "colab": {
          "base_uri": "https://localhost:8080/"
        },
        "outputId": "311be419-bbb3-4a57-8e38-118a0ee2e796"
      },
      "source": [
        "# Print the feature ranking\n",
        "print(\"Feature ranking:\")\n",
        "\n",
        "for f in range(0,20): # X_train_vec.shape[1]\n",
        "    print(\"%d. feature %d (%f)\" % (f + 1, indices[f], importances[indices[f]]), new_train_df.iloc[:,indices[f]].name)"
      ],
      "execution_count": null,
      "outputs": [
        {
          "output_type": "stream",
          "name": "stdout",
          "text": [
            "Feature ranking:\n",
            "1. feature 9304 (0.023290) http\n",
            "2. feature 4517 (0.016962) co\n",
            "3. feature 9718 (0.010829) in\n",
            "4. feature 21285 (0.009060) you\n",
            "5. feature 9078 (0.007729) hiroshima\n",
            "6. feature 3797 (0.007587) california\n",
            "7. feature 12929 (0.007292) my\n",
            "8. feature 10830 (0.006280) killed\n",
            "9. feature 7439 (0.005772) fire\n",
            "10. feature 7453 (0.005233) fires\n",
            "11. feature 20606 (0.004365) wildfire\n",
            "12. feature 13681 (0.004339) of\n",
            "13. feature 18669 (0.004216) the\n",
            "14. feature 18098 (0.003855) suicide\n",
            "15. feature 17936 (0.003617) storm\n",
            "16. feature 3300 (0.003591) bombing\n",
            "17. feature 19446 (0.003487) typhoon\n",
            "18. feature 12362 (0.003424) mh370\n",
            "19. feature 18971 (0.003382) to\n",
            "20. feature 20330 (0.003372) warning\n"
          ]
        }
      ]
    },
    {
      "cell_type": "code",
      "metadata": {
        "id": "zwgpEInv3og0",
        "colab": {
          "base_uri": "https://localhost:8080/",
          "height": 326
        },
        "outputId": "6df6c9b0-e2bc-4255-f9c9-676ef943cfa9"
      },
      "source": [
        "# Make dataset\n",
        "number_features_print = 10\n",
        "height = [importances[indices[i]] for i in range(0,number_features_print)]\n",
        "bars = [new_train_df.iloc[:,indices[x]].name for x in range(0,number_features_print)]\n",
        "\n",
        "height.reverse()\n",
        "bars.reverse()\n",
        "\n",
        "y_pos = np.arange(len(bars))\n",
        " \n",
        "# Create horizontal bars\n",
        "plt.barh(y_pos, height)\n",
        " \n",
        "# Create names on the y-axis\n",
        "plt.yticks(y_pos, bars)\n",
        "plt.title('Top predictors',fontsize=19)\n",
        "plt.yticks(fontsize=13)\n",
        "plt.xticks(fontsize=13)\n",
        "plt.ylabel('Word', fontsize = 16)\n",
        "plt.xlabel('Random Forest Coeficient', fontsize = 16)\n",
        "plt.figure(figsize=(13, 13))\n",
        "\n",
        "# Show graphic\n",
        "plt.show();"
      ],
      "execution_count": null,
      "outputs": [
        {
          "output_type": "display_data",
          "data": {
            "image/png": "[encoded data removed]",
            "text/plain": [
              "<Figure size 432x288 with 1 Axes>"
            ]
          },
          "metadata": {
            "needs_background": "light"
          }
        },
        {
          "output_type": "display_data",
          "data": {
            "text/plain": [
              "<Figure size 936x936 with 0 Axes>"
            ]
          },
          "metadata": {}
        }
      ]
    },
    {
      "cell_type": "markdown",
      "metadata": {
        "id": "dwNw1oPTU63b"
      },
      "source": [
        "## Testing and submission"
      ]
    },
    {
      "cell_type": "code",
      "metadata": {
        "id": "RxwGG5eaU63b"
      },
      "source": [
        "#Optimal Random Forest\n",
        "sample_submission = pd.read_csv(SUBMISSION_PATH)\n",
        "sample_submission[\"target\"] = rff.predict(test_vectors)\n",
        "sample_submission.to_csv(\"submissionRF2.csv\", index=False)"
      ],
      "execution_count": null,
      "outputs": []
    },
    {
      "cell_type": "code",
      "metadata": {
        "id": "0_V4U0dlBxyS"
      },
      "source": [
        "#Extra Trees\n",
        "sample_submission = pd.read_csv(SUBMISSION_PATH)\n",
        "sample_submission[\"target\"] = etf.predict(test_vectors)\n",
        "sample_submission.to_csv(\"submissionET.csv\", index=False)"
      ],
      "execution_count": null,
      "outputs": []
    },
    {
      "cell_type": "code",
      "metadata": {
        "id": "4nY8pjQ0UCgq"
      },
      "source": [
        "#Bagging\n",
        "sample_submission = pd.read_csv(SUBMISSION_PATH)\n",
        "sample_submission[\"target\"] = baggedf.predict(test_vectors)\n",
        "sample_submission.to_csv(\"submissionBagging.csv\", index=False)"
      ],
      "execution_count": null,
      "outputs": []
    },
    {
      "cell_type": "markdown",
      "metadata": {
        "id": "Ao3YBxttU63c"
      },
      "source": [
        "Il Modello basato su Random forest ha ottenuto uno score di **0.78577**, mentre Extra Trees **0.79834**. Il bagging sugli Extra trees ha generato uno score di **0.79436**, quindi non ha dato particolari benefici l'utilizzo di questa tecnica."
      ]
    },
    {
      "cell_type": "markdown",
      "metadata": {
        "id": "LrxevGEDDGrG"
      },
      "source": [
        "# Neural Network with BERT Classifier "
      ]
    },
    {
      "cell_type": "markdown",
      "metadata": {
        "id": "65v2PlLWZ5b9"
      },
      "source": [
        "BERT e altre architetture di codificatori Transformer hanno avuto un enorme successo in una varietà di compiti in NLP (elaborazione del linguaggio naturale). Calcolano rappresentazioni nello spazio vettoriale del linguaggio naturale che sono adatte per l'uso in modelli di deep learning. La famiglia di modelli BERT utilizza l'architettura dell'encoder Transformer per elaborare ogni token di testo di input nel contesto completo di tutti i token prima e dopo, da cui il nome: Rappresentazioni dell'Encoder Bidirezionale da Transformers.\n",
        "\n",
        "I modelli BERT sono generalmente pre-addestrati su un ampio corpus di testo, quindi perfezionati per compiti specifici."
      ]
    },
    {
      "cell_type": "markdown",
      "metadata": {
        "id": "8OJdNz94rom1"
      },
      "source": [
        "## Tokenization\n",
        "\n"
      ]
    },
    {
      "cell_type": "markdown",
      "metadata": {
        "id": "GYvL8gEFDjks"
      },
      "source": [
        "Gli input di testo devono essere trasformati in ID token numerici e organizzati in diversi tensori prima di essere immessi in BERT. TensorFlow Hub fornisce un modello di pre-elaborazione corrispondente per ciascuno dei modelli BERT."
      ]
    },
    {
      "cell_type": "code",
      "metadata": {
        "id": "Qq3y1yTHrvO9"
      },
      "source": [
        "Text_train = train[\"text\"].values\n",
        "#Text_train = train.cleaned_text.values\n",
        "Target_train = train[\"target\"].values\n"
      ],
      "execution_count": null,
      "outputs": []
    },
    {
      "cell_type": "markdown",
      "metadata": {
        "id": "fl00iTi8FaYB"
      },
      "source": [
        "Per il nostro scopo decidiamo di usare uno dei modelli base di BERT, *BERT_base-uncased*."
      ]
    },
    {
      "cell_type": "code",
      "metadata": {
        "id": "tkKrJysbsGBF",
        "colab": {
          "base_uri": "https://localhost:8080/",
          "height": 145,
          "referenced_widgets": [
            "2cb2b3c6d0fc4c9db8e2ec6fd706e917",
            "381fb6baabb545e485d9029f5573711c",
            "368019baaf9945ae93c65466880b269e",
            "284d70c7cc204b058108215cc01ce358",
            "ac4c5442470f45bcb5459c367d9f40cd",
            "048516f5a603441b90b9df7e2e400893",
            "b4e713093ae547dbbb06acc7547d850d",
            "4cdb7bd855844927ae352e7484fee06b",
            "c624997a55f342ca9a3c17cd66339c9b",
            "519ed90ad93d455683979f81c728cb88",
            "bdb74ce7fe15449db254bc71b1ab7bc6",
            "792b6cd9d1614e67acf3042d9a59ff14",
            "17c3598f8fc14a0e83084ab28ab6620e",
            "5670c5b24f0b4107a1f2d46f19160fea",
            "428d8ef78fe642a78b3b6eec36756f9c",
            "612ad14a3063497aa4423c44949c34e6",
            "044e0192b8b54c33a6c02e52dcc32c78",
            "e73ac9d6aadb4a11a7a5810593e8fba5",
            "4ac5f77361694b6da6082c1b37c80382",
            "f80a3a0b283d48fab8dcad51dcd1a187",
            "291c1e217f1440d481361ce6e7c8dad7",
            "6a3f1ba4651d4a9dbc7cdbcbe7527e7b",
            "26970c8a2f01483e93a073f031331c67",
            "37fbcd7720524e17a843430941c49ddf",
            "b1bbbd0d98d94365bda17d8fd5bbb0dd",
            "d55c152d6dea46b29d0d098b7ca29f3f",
            "e3235a628ea84e6d94791dfad41ad0da",
            "aa7c636773094b72826c5607f7aa3b7d",
            "f31d822abac3409682ae54737ecc1d70",
            "e871fce5a20a4a9e8fdc91efeea2e06d",
            "d2e1bf81c34a4566a8dfe42e52f679be",
            "1c7a8813d61f4163959eac8661f97a5e",
            "7ea0ec31f2af4ecf8bb822f943215973",
            "c7749c5f911c477681daa34e70815574",
            "c74d2e2925eb49aa969462aa05b7149e",
            "6f592102b72f43629dc3d39d2a7ac1b9",
            "5d20aeec1b5f49779988940f227d2bce",
            "4c15e54065354dc287b86676e6cd962d",
            "b562c24a3f8a4d87971f7132196d6fe1",
            "d3c34560e8f74251ae2fb7d880a8d1de",
            "a212f2f04321453f8f4f0e23aa055ce6",
            "d636424381334a72a47c32ec24185229",
            "46c2977478be4504993e1520948cb385",
            "d7bfa5195d1647f1af107611f00f204a"
          ]
        },
        "outputId": "64a0b060-5deb-425f-d538-8314e63cf99f"
      },
      "source": [
        "tokenizer = BertTokenizer.from_pretrained('bert-base-uncased', do_lower_case=True)\n",
        "lens = []\n",
        "\n",
        "\n",
        "for text in Text_train:\n",
        "    encoded_dict = tokenizer.encode_plus(text, add_special_tokens=True, return_tensors='pt')\n",
        "    lens.append(encoded_dict['input_ids'].size()[1])\n",
        "\n"
      ],
      "execution_count": null,
      "outputs": [
        {
          "output_type": "display_data",
          "data": {
            "application/vnd.jupyter.widget-view+json": {
              "model_id": "2cb2b3c6d0fc4c9db8e2ec6fd706e917",
              "version_minor": 0,
              "version_major": 2
            },
            "text/plain": [
              "Downloading:   0%|          | 0.00/232k [00:00<?, ?B/s]"
            ]
          },
          "metadata": {}
        },
        {
          "output_type": "display_data",
          "data": {
            "application/vnd.jupyter.widget-view+json": {
              "model_id": "792b6cd9d1614e67acf3042d9a59ff14",
              "version_minor": 0,
              "version_major": 2
            },
            "text/plain": [
              "Downloading:   0%|          | 0.00/28.0 [00:00<?, ?B/s]"
            ]
          },
          "metadata": {}
        },
        {
          "output_type": "display_data",
          "data": {
            "application/vnd.jupyter.widget-view+json": {
              "model_id": "26970c8a2f01483e93a073f031331c67",
              "version_minor": 0,
              "version_major": 2
            },
            "text/plain": [
              "Downloading:   0%|          | 0.00/466k [00:00<?, ?B/s]"
            ]
          },
          "metadata": {}
        },
        {
          "output_type": "display_data",
          "data": {
            "application/vnd.jupyter.widget-view+json": {
              "model_id": "c7749c5f911c477681daa34e70815574",
              "version_minor": 0,
              "version_major": 2
            },
            "text/plain": [
              "Downloading:   0%|          | 0.00/570 [00:00<?, ?B/s]"
            ]
          },
          "metadata": {}
        }
      ]
    },
    {
      "cell_type": "code",
      "metadata": {
        "id": "jtZZ2yPgs3U_",
        "colab": {
          "base_uri": "https://localhost:8080/",
          "height": 403
        },
        "outputId": "4bacfe17-b072-40f0-82b1-b35d84921d1f"
      },
      "source": [
        "fig, ax = plt.subplots(figsize=(10,5))\n",
        "ax.set_title(\"Frequency of Tokens in the whole Dataset\")\n",
        "ax.set_xlabel(\"Token ID\")\n",
        "ax.set_ylabel(\"Frequency\")\n",
        "pd.Series(lens).value_counts().head(40).plot(kind=\"bar\");\n",
        "print(\"text length mean: \", np.array(lens).mean())\n",
        "print(\"text length median: \", np.median(lens))\n",
        "print(\"text length standard deviation: \", np.array(lens).std())"
      ],
      "execution_count": null,
      "outputs": [
        {
          "output_type": "stream",
          "name": "stdout",
          "text": [
            "text length mean:  32.41005185480654\n",
            "text length median:  32.0\n",
            "text length standard deviation:  11.871712660989116\n"
          ]
        },
        {
          "output_type": "display_data",
          "data": {
            "image/png": "[encoded data removed]",
            "text/plain": [
              "<Figure size 720x360 with 1 Axes>"
            ]
          },
          "metadata": {
            "needs_background": "light"
          }
        }
      ]
    },
    {
      "cell_type": "markdown",
      "metadata": {
        "id": "fkKnEc4wGILU"
      },
      "source": [
        "Il parametro `sequence_length` definisce la lunghezza di ogni sequenza di token e impostarlo correttamente è molto importante. Abbia osservato che la lunghezza media dei tweet si attesta sulle 32 parole (quindi 32 token) con una deviazione standard di circa 12. Di conseguenza una `sequence_length=64` potrebbe essere adeguata, poichè usando `sequence_length=32` si perderebbero delle informazioni.\n",
        "Si è comunque deciso di testare entrambe le possibilità.\n",
        "\n"
      ]
    },
    {
      "cell_type": "code",
      "metadata": {
        "id": "NkZjfyJVueUo"
      },
      "source": [
        "sequence_length = 64\n",
        "# Text_train_tokens[i] := sequence of sequence_length many tokens that represent text_{i}\n",
        "Text_train_tokens = []\n",
        "train_attention_masks = []\n",
        "\n",
        "for text in Text_train:\n",
        "    encoded_dict = tokenizer.encode_plus(text,\n",
        "                                         add_special_tokens=True, # special tokens for BERT\n",
        "                                         max_length=sequence_length,\n",
        "                                         padding=\"max_length\",\n",
        "                                         return_tensors='pt', # pytorch tensor format\n",
        "                                         truncation=True)\n",
        "    Text_train_tokens.append(encoded_dict['input_ids'])\n",
        "    train_attention_masks.append(encoded_dict[\"attention_mask\"])\n",
        "\n",
        "# pytorch expects tensors\n",
        "Text_train_tokens = torch.cat(Text_train_tokens, dim=0) # concat into one tensor\n",
        "train_attention_masks = torch.cat(train_attention_masks, dim=0)\n",
        "Target_train = torch.tensor(Target_train)"
      ],
      "execution_count": null,
      "outputs": []
    },
    {
      "cell_type": "markdown",
      "metadata": {
        "id": "2VdZ2O2KHS6v"
      },
      "source": [
        "A questo punto è stato creato l'*encoded_dictionary* e di seguito si può visualizzare come si presentano i tensori in seguito alla tokenization.\n",
        "Si noti che:\n",
        "\n",
        "*   Il token iniziale è un carattere speciale [101] che indica sempre l'inizio della sequenza;\n",
        "*   Al termine della sequenza viene inserito un carattere di terminazione [102];\n",
        "*   La sequenza viene completata con dei token a zero fino a raggiungere la dimensione definita da `sequence_length`.\n",
        "\n"
      ]
    },
    {
      "cell_type": "code",
      "metadata": {
        "id": "qWezDSxnv1C6",
        "colab": {
          "base_uri": "https://localhost:8080/"
        },
        "outputId": "ce7b1d71-5a88-4358-87fe-3011a6bbdb5f"
      },
      "source": [
        "# tokenization of the first three observations in the training set\n",
        "# zero-padding is added\n",
        "print('Original:\\n', Text_train[0])\n",
        "print('Tokenization:\\n', Text_train_tokens[0])\n",
        "print('Original:\\n', Text_train[1])\n",
        "print('Tokenization:\\n', Text_train_tokens[1])\n",
        "print('Original:\\n', Text_train[2])\n",
        "print('Tokenization:\\n', Text_train_tokens[2])"
      ],
      "execution_count": null,
      "outputs": [
        {
          "output_type": "stream",
          "name": "stdout",
          "text": [
            "Original:\n",
            " our deeds are the reason of this #earthquake may allah forgive us all\n",
            "Tokenization:\n",
            " tensor([  101,  2256, 15616,  2024,  1996,  3114,  1997,  2023,  1001,  8372,\n",
            "         2089, 16455,  9641,  2149,  2035,   102,     0,     0,     0,     0,\n",
            "            0,     0,     0,     0,     0,     0,     0,     0,     0,     0,\n",
            "            0,     0,     0,     0,     0,     0,     0,     0,     0,     0,\n",
            "            0,     0,     0,     0,     0,     0,     0,     0,     0,     0,\n",
            "            0,     0,     0,     0,     0,     0,     0,     0,     0,     0,\n",
            "            0,     0,     0,     0])\n",
            "Original:\n",
            " forest fire near la ronge sask. canada\n",
            "Tokenization:\n",
            " tensor([  101,  3224,  2543,  2379,  2474,  6902,  3351, 21871,  2243,  1012,\n",
            "         2710,   102,     0,     0,     0,     0,     0,     0,     0,     0,\n",
            "            0,     0,     0,     0,     0,     0,     0,     0,     0,     0,\n",
            "            0,     0,     0,     0,     0,     0,     0,     0,     0,     0,\n",
            "            0,     0,     0,     0,     0,     0,     0,     0,     0,     0,\n",
            "            0,     0,     0,     0,     0,     0,     0,     0,     0,     0,\n",
            "            0,     0,     0,     0])\n",
            "Original:\n",
            " all residents asked to 'shelter in place' are being notified by officers. no other evacuation or shelter in place orders are expected\n",
            "Tokenization:\n",
            " tensor([  101,  2035,  3901,  2356,  2000,  1005,  7713,  1999,  2173,  1005,\n",
            "         2024,  2108, 19488,  2011,  3738,  1012,  2053,  2060, 13982,  2030,\n",
            "         7713,  1999,  2173,  4449,  2024,  3517,   102,     0,     0,     0,\n",
            "            0,     0,     0,     0,     0,     0,     0,     0,     0,     0,\n",
            "            0,     0,     0,     0,     0,     0,     0,     0,     0,     0,\n",
            "            0,     0,     0,     0,     0,     0,     0,     0,     0,     0,\n",
            "            0,     0,     0,     0])\n"
          ]
        }
      ]
    },
    {
      "cell_type": "markdown",
      "metadata": {
        "id": "sTHSDyTgyoXo"
      },
      "source": [
        "## Dataloader"
      ]
    },
    {
      "cell_type": "markdown",
      "metadata": {
        "id": "DlOD5Iyp3nMI"
      },
      "source": [
        "A questo punto vengono usati dei *Dataloaders* per definire delle batches dai dati. Decidiamo di provare `batch_size = 16` inizialmente, ovvero ogni batch contenente 16 tweet.\n",
        "In seguito ci siamo accorti che usando `batch_size = 32` si ottenevano prestazioni migliori."
      ]
    },
    {
      "cell_type": "code",
      "metadata": {
        "id": "5OTekiwGyviM"
      },
      "source": [
        "batch_size = 32\n",
        "# split into training and validation data\n",
        "dataset = TensorDataset(Text_train_tokens.to(device), \n",
        "                        Target_train.float().to(device), \n",
        "                        train_attention_masks.to(device))\n",
        "train_size = int(0.8 * len(dataset))\n",
        "val_size = len(dataset) - train_size\n",
        "train_set, val_set = random_split(dataset, [train_size, val_size])\n",
        "train_dataloader = DataLoader(train_set, \n",
        "                              sampler=RandomSampler(train_set), \n",
        "                              batch_size=batch_size)\n",
        "\n",
        "validation_dataloader = DataLoader(val_set, \n",
        "                                   sampler=RandomSampler(val_set), \n",
        "                                   batch_size=batch_size)"
      ],
      "execution_count": null,
      "outputs": []
    },
    {
      "cell_type": "markdown",
      "metadata": {
        "id": "K7oSeYpZKHhE"
      },
      "source": [
        " Si è deciso di dividere il dataset in due parti, una per il training e una per la validazione. L'80% del dataset è stato usato come training set e il restante 20% come validation. In seguito si sono provate anche distribuzioni diverse ottenendo risultati peggiori. \n",
        " Per la divisione viene usato un `random_split()`.\n",
        "\n",
        "Un Dataloader è usato per creare le batches per il training, l'altro per la fase di validazione. Ogni sottogruppo viene creato campionando senza reinserimento.\n",
        "\n",
        "In sostanza viene eseguito il seguente procedimento:\n",
        "\n",
        "1.   Creazione di training set e validation set;\n",
        "2.   Creazione di un Dataloader per ognuno dei set e definizione delle regole di campionamento e della dimensione delle batch."
      ]
    },
    {
      "cell_type": "code",
      "metadata": {
        "id": "ocZcke4M0usj",
        "colab": {
          "base_uri": "https://localhost:8080/"
        },
        "outputId": "af765b84-3baa-4e2a-9aed-69056258a230"
      },
      "source": [
        "example_batch = next(iter(train_dataloader))\n",
        "\n",
        "print(\"what is drawn from our dataloader? \", type(example_batch))\n",
        "print(\"\\nfirst entry: \", example_batch[0].size(), type(example_batch[0]), example_batch[0].dtype)\n",
        "print(\"\\nsecond entry: \", example_batch[1].size(), type(example_batch[1]), example_batch[1].dtype)"
      ],
      "execution_count": null,
      "outputs": [
        {
          "output_type": "stream",
          "name": "stdout",
          "text": [
            "what is drawn from our dataloader?  <class 'list'>\n",
            "\n",
            "first entry:  torch.Size([32, 64]) <class 'torch.Tensor'> torch.int64\n",
            "\n",
            "second entry:  torch.Size([32]) <class 'torch.Tensor'> torch.float32\n"
          ]
        }
      ]
    },
    {
      "cell_type": "markdown",
      "metadata": {
        "id": "0kEMPnHv2qCx"
      },
      "source": [
        "## Model creation"
      ]
    },
    {
      "cell_type": "markdown",
      "metadata": {
        "id": "8Be5oAB6AyTQ"
      },
      "source": [
        "Nella creazione del modello BERT si fa uso di una rete neurale già preallenata del tipo *bert-base-uncased* con le seguenti caratteristiche:\n",
        "\n",
        "\n",
        "*   12 livelli\n",
        "*   768 neuroni nello strato nascosto\n",
        "*   110M parametri\n",
        "*   allenata su testi inglesi in formato minuscolo\n",
        "\n",
        "\n",
        "\n",
        "\n",
        "\n"
      ]
    },
    {
      "cell_type": "code",
      "metadata": {
        "id": "wR0P8mSf43K1",
        "colab": {
          "base_uri": "https://localhost:8080/",
          "height": 171,
          "referenced_widgets": [
            "bdc036dec6704850bf018d7f34a4e725",
            "d7b7f319c6b84760b3b40c3fd89d47f8",
            "65394173d9174e8b9b0e7ece01702de5",
            "fd0617348450489dad5cd9dbdf8d5de3",
            "21dcdd7317a64c00ad10df8e383580b2",
            "937d2d01b04f4ffcbad74e93d7fbfeb8",
            "f79c7ab4a65b4ac09fced6155dbd5240",
            "90b74c8350cb4bce9700f5a9f4563b7e",
            "bb6bcf7280eb4673b9a44bf29e2db983",
            "b19265598b9e4f24a3a9ee46232a588c",
            "fde1b3caa1c449738c0bcc7ea28c5dd2"
          ]
        },
        "outputId": "de369c84-4535-4b3b-b815-070e6addc306"
      },
      "source": [
        "bert = BertModel.from_pretrained(\"bert-base-uncased\")\n",
        "bert.to(device)\n",
        "\n",
        "batch_features = example_batch[0].to(device)\n",
        "bert_output = bert(input_ids=batch_features) \n",
        "print(\"bert output: \", type(bert_output), len(bert_output))\n",
        "print(\"first entry: \", type(bert_output[0]), bert_output[0].size())\n",
        "print(\"second entry: \", type(bert_output[1]), bert_output[1].size())"
      ],
      "execution_count": null,
      "outputs": [
        {
          "output_type": "display_data",
          "data": {
            "application/vnd.jupyter.widget-view+json": {
              "model_id": "bdc036dec6704850bf018d7f34a4e725",
              "version_minor": 0,
              "version_major": 2
            },
            "text/plain": [
              "Downloading:   0%|          | 0.00/440M [00:00<?, ?B/s]"
            ]
          },
          "metadata": {}
        },
        {
          "output_type": "stream",
          "name": "stderr",
          "text": [
            "Some weights of the model checkpoint at bert-base-uncased were not used when initializing BertModel: ['cls.predictions.transform.LayerNorm.bias', 'cls.predictions.bias', 'cls.predictions.transform.dense.weight', 'cls.seq_relationship.bias', 'cls.predictions.transform.LayerNorm.weight', 'cls.predictions.transform.dense.bias', 'cls.predictions.decoder.weight', 'cls.seq_relationship.weight']\n",
            "- This IS expected if you are initializing BertModel from the checkpoint of a model trained on another task or with another architecture (e.g. initializing a BertForSequenceClassification model from a BertForPreTraining model).\n",
            "- This IS NOT expected if you are initializing BertModel from the checkpoint of a model that you expect to be exactly identical (initializing a BertForSequenceClassification model from a BertForSequenceClassification model).\n"
          ]
        },
        {
          "output_type": "stream",
          "name": "stdout",
          "text": [
            "bert output:  <class 'transformers.modeling_outputs.BaseModelOutputWithPoolingAndCrossAttentions'> 2\n",
            "first entry:  <class 'torch.Tensor'> torch.Size([32, 64, 768])\n",
            "second entry:  <class 'torch.Tensor'> torch.Size([32, 768])\n"
          ]
        }
      ]
    },
    {
      "cell_type": "markdown",
      "metadata": {
        "id": "XRkKUW9mDPiE"
      },
      "source": [
        "Creazione della classe BertClassifier con i relativi attributi: \n",
        "\n",
        "* `bert`: modello bert-base-uncased\n",
        "* `dropout`: funzione per diminuire il rischio di overfitting\n",
        "* `linear`: applica una trasformazione lineare del tipo : y = xA'+b\n",
        "* `batchnorm`: applica la normalizzazione di una matrice o tensore\n",
        "* `sigmoid`: funzione di attivazione adottata\n",
        "\n",
        "\n",
        "Il metodo *forward()* serve a regolare la parte feed forward.\n",
        "\n",
        "Sono presenti i metodi di *freeze()* ed *unfreeze()* per consentire effettivamente di decidere quali livelli specifici della rete neurale si  desidera addestrare in una determinata epoca.\n",
        "\n",
        "*freeze()* imposterà tutti i livelli tranne l'ultimo come non addestrabili, questo per impedire che i pesi dei livelli più generici di rete neurale vengano modificati durante la backward propagation, questo blocco serve a ridurre la quantità di calcolo nel passaggio all'indietro e per ridurre il tempo di allenamento. \n",
        "\n",
        "*unfreeze()* sbloccherà tutti i livelli del modello, quindi si andrà ad allenare sia i primi livelli sia l'ultimo e si riprenderà con il calcolo del gradiente e la propagazione all'indietro dei pesi.\n",
        "\n",
        "Questa è una tecnica comune in NLP o Computer Vision, quando si lavora su piccoli set di dati in quanto di solito riduce le possibilità che il modello vada in overfitting.\n"
      ]
    },
    {
      "cell_type": "code",
      "metadata": {
        "id": "Q_noqHO547KE"
      },
      "source": [
        "class BertClassifier(nn.Module):\n",
        "    def __init__(self, linear_size):\n",
        "        super(BertClassifier, self).__init__()\n",
        "        self.bert = BertModel.from_pretrained('bert-base-uncased')\n",
        "        self.dropout1 = nn.Dropout()\n",
        "        self.linear1 = nn.Linear(in_features=768, out_features=linear_size)\n",
        "        #self.dropout2 = nn.Dropout(p=0.8)\n",
        "        self.dropout2 = nn.Dropout(p=0.25)\n",
        "        self.batch_norm1 = nn.BatchNorm1d(num_features=linear_size)\n",
        "        self.linear2 = nn.Linear(in_features=linear_size, out_features=1)\n",
        "        self.batch_norm2 = nn.BatchNorm1d(num_features=1)\n",
        "        self.sigmoid = nn.Sigmoid() # activation function to obtain probabilities\n",
        "    \n",
        "    def forward(self, tokens, attention_mask):\n",
        "        bert_output = self.bert(input_ids=tokens, attention_mask=attention_mask)\n",
        "        x = self.dropout1(bert_output[1])\n",
        "        x = self.linear1(x)\n",
        "        x = self.dropout2(x)\n",
        "        x = self.batch_norm1(x)\n",
        "        x = self.linear2(x)\n",
        "        x = self.batch_norm2(x)\n",
        "        proba = self.sigmoid(x)\n",
        "        return proba\n",
        "      \n",
        "    def freeze_bert(self):\n",
        "        for param in self.bert.named_parameters():\n",
        "            param[1].requires_grad=False\n",
        "            \n",
        "    def unfreeze_bert(self):\n",
        "        for param in self.bert.named_parameters():\n",
        "            param[1].requires_grad=True"
      ],
      "execution_count": null,
      "outputs": []
    },
    {
      "cell_type": "markdown",
      "metadata": {
        "id": "RYdzg6ct7VpL"
      },
      "source": [
        "## Training and validation"
      ]
    },
    {
      "cell_type": "markdown",
      "metadata": {
        "id": "7ZIN19EJD1Tv"
      },
      "source": [
        "Il metodo *eval()* delle prestazioni viene calcolato secondo 2 metriche prese da sklearn (accuracy_score e f1_score) calcolate andando a vedere le differenze fra i valori predetti del batch e l'effettivo valore reale di classe del batch.\n",
        "\n",
        "Il metodo di train applica un pre ottimizzatore (adamW) che richiede in ingresso i parametri del modello, il learning rate (lr) e un termine di depolarizzazione (eps).\n",
        "Come loss function viene usata la BCEloss.\n",
        "Lo scheduler viene impostato in maniera dinamica in modo tale da poter adattare il learning rate nel caso ci fossero dei plateau.\n",
        "\n",
        "Per ogni epoca vengono stampate delle informazioni sommarie, si cambia la modalità tra freeze e d unfreeze a seconda del loro numero, per poi passare all'applicazione del gradiente effettivo con l'allenamento della rete.\n",
        "\n",
        "Una volta finita la fase di allenamento si passa alla fase di validazione ed in seguito si calcolano le metriche di accuratezza.\n"
      ]
    },
    {
      "cell_type": "code",
      "metadata": {
        "id": "kv4rPUVT7cPh"
      },
      "source": [
        "def eval(y_batch, probas):\n",
        "    preds_batch_np = np.round(probas.cpu().detach().numpy())\n",
        "    y_batch_np = y_batch.cpu().detach().numpy()\n",
        "    acc = accuracy_score(y_true=y_batch_np, y_pred=preds_batch_np)\n",
        "    f1 = f1_score(y_true=y_batch_np, y_pred=preds_batch_np, average='weighted')\n",
        "    return acc, f1\n",
        "\n",
        "    \n",
        "def train(model, epochs, freeze_epochs, unfreeze_epochs):\n",
        "    optimizer = AdamW(model.parameters(), lr=2e-5, eps=1e-8)\n",
        "    #optimizer = AdamW(model.parameters(), lr=1e-5, eps=5e-6)\n",
        "    loss_func = nn.BCELoss()\n",
        "    scheduler = lr_scheduler.ReduceLROnPlateau(optimizer=optimizer, patience=2)\n",
        "    history = []\n",
        "    best_acc = 0\n",
        "    for epoch in range(1, epochs + 1):\n",
        "        print(\"=== Epoch: \", epoch, \" / \", epochs, \" ===\")\n",
        "        print(\"LR:\", optimizer.state_dict()[\"param_groups\"][0][\"lr\"])\n",
        "        if epoch in freeze_epochs:  # stop training bert\n",
        "            print(\"Freeze BERT\")\n",
        "            model.freeze_bert()\n",
        "\n",
        "        if epoch in unfreeze_epochs:  # train bert\n",
        "            print(\"Unfreeze BERT\")\n",
        "            model.unfreeze_bert()\n",
        "        \n",
        "        # ===== train =====\n",
        "        model.train()  # train mode\n",
        "        \n",
        "        for batch in train_dataloader: \n",
        "            x_batch, y_batch, attention_mask = batch\n",
        "            probas = torch.flatten(model(tokens=x_batch, attention_mask=attention_mask))\n",
        "            model.zero_grad()  # reset the gradients\n",
        "            batch_loss = loss_func(probas, y_batch)\n",
        "            batch_loss.backward()  # calculate gradient per (learnable) weight\n",
        "            optimizer.step()  # update (learnable) weights\n",
        "\n",
        "        # ===== validate =====\n",
        "        model.eval()  # evaluation mode\n",
        "        acc_val_total = 0\n",
        "        f1_val_total = 0\n",
        "        acc_train_total = 0\n",
        "        f1_train_total = 0\n",
        "        \n",
        "        # metrics on train\n",
        "        for batch in train_dataloader:\n",
        "            x_batch, y_batch, attention_mask = batch\n",
        "            with torch.no_grad(): # no gradients, because no update is performed\n",
        "                probas = torch.flatten(model(tokens=x_batch, attention_mask=attention_mask))\n",
        "            acc, f1 = eval(y_batch, probas)\n",
        "            acc_train_total, f1_train_total = acc_train_total + acc, f1_train_total + f1\n",
        "        acc_train_total = acc_train_total/len(train_dataloader)\n",
        "        f1_train_total = f1_train_total/len(train_dataloader)\n",
        "        \n",
        "        # metrics on val\n",
        "        accumulated_val_loss = 0 \n",
        "        for batch in validation_dataloader:\n",
        "            x_batch, y_batch, attention_mask = batch\n",
        "            with torch.no_grad(): # no gradients, because no update is performed\n",
        "                probas = torch.flatten(model(tokens=x_batch, attention_mask=attention_mask))\n",
        "            loss = loss_func(probas, y_batch)\n",
        "            accumulated_val_loss += loss\n",
        "            acc, f1 = eval(y_batch, probas)\n",
        "            acc_val_total, f1_val_total = acc_val_total + acc, f1_val_total + f1\n",
        "        avg_val_loss = accumulated_val_loss / len(validation_dataloader)\n",
        "        scheduler.step(avg_val_loss) # adjust the learning rate via val\n",
        "        acc_val_total = acc_val_total/len(validation_dataloader)\n",
        "        f1_val_total = f1_val_total/len(validation_dataloader)\n",
        "        \n",
        "        print(\"Train Acc:\", acc_train_total)\n",
        "        print(\"Val Acc:\", acc_val_total, \"\\n\")\n",
        "        if acc_val_total > best_acc:\n",
        "            best_acc = acc_val_total\n",
        "            torch.save(model, \"best.pt\")\n",
        "\n",
        "        history.append({\"acc_train\": acc_train_total, \n",
        "                        \"f1_train\": f1_train_total, \n",
        "                        \"acc_val\": acc_val_total, \n",
        "                        \"f1_val\": f1_val_total})\n",
        "    return torch.load(\"best.pt\"), history"
      ],
      "execution_count": null,
      "outputs": []
    },
    {
      "cell_type": "markdown",
      "metadata": {
        "id": "kSUXYAcWSVKw"
      },
      "source": [
        "La fase di allenamento della rete, come già detto in precedenza richiede la definizione del numero di epoche, i vettori freeze e unfreeze ed il modello creato in precedenza.\n",
        "Come output si vede per ogni epoca il learning rate utilizzato, il valore di accuratezza del training set e del validation set."
      ]
    },
    {
      "cell_type": "code",
      "metadata": {
        "colab": {
          "base_uri": "https://localhost:8080/"
        },
        "id": "UZmG6BA672LD",
        "outputId": "8c6110b1-0c04-4596-98b2-9239faabfe21"
      },
      "source": [
        "epochs = 10\n",
        "freeze_epochs = [2, 4, 6 ,8, 10, 12, 14, 16, 18]\n",
        "unfreeze_epochs = [3, 5, 7, 9, 11, 13, 15, 17, 19]\n",
        "\n",
        "bert_clf = BertClassifier(linear_size=16).to(device)\n",
        "\n",
        "bert_clf, history = train(model=bert_clf, \n",
        "                          epochs=epochs, \n",
        "                          freeze_epochs=freeze_epochs, \n",
        "                          unfreeze_epochs=unfreeze_epochs)"
      ],
      "execution_count": null,
      "outputs": [
        {
          "output_type": "stream",
          "name": "stderr",
          "text": [
            "Some weights of the model checkpoint at bert-base-uncased were not used when initializing BertModel: ['cls.predictions.transform.LayerNorm.bias', 'cls.predictions.bias', 'cls.predictions.transform.dense.weight', 'cls.seq_relationship.bias', 'cls.predictions.transform.LayerNorm.weight', 'cls.predictions.transform.dense.bias', 'cls.predictions.decoder.weight', 'cls.seq_relationship.weight']\n",
            "- This IS expected if you are initializing BertModel from the checkpoint of a model trained on another task or with another architecture (e.g. initializing a BertForSequenceClassification model from a BertForPreTraining model).\n",
            "- This IS NOT expected if you are initializing BertModel from the checkpoint of a model that you expect to be exactly identical (initializing a BertForSequenceClassification model from a BertForSequenceClassification model).\n"
          ]
        },
        {
          "output_type": "stream",
          "name": "stdout",
          "text": [
            "=== Epoch:  1  /  10  ===\n",
            "LR: 2e-05\n",
            "Train Acc: 0.8671875\n",
            "Val Acc: 0.8463541666666666 \n",
            "\n",
            "=== Epoch:  2  /  10  ===\n",
            "LR: 2e-05\n",
            "Freeze BERT\n",
            "Train Acc: 0.8608710106382979\n",
            "Val Acc: 0.8385416666666666 \n",
            "\n",
            "=== Epoch:  3  /  10  ===\n",
            "LR: 2e-05\n",
            "Unfreeze BERT\n",
            "Train Acc: 0.9119015957446809\n",
            "Val Acc: 0.8411458333333334 \n",
            "\n",
            "=== Epoch:  4  /  10  ===\n",
            "LR: 2e-05\n",
            "Freeze BERT\n",
            "Train Acc: 0.910904255319149\n",
            "Val Acc: 0.8515625 \n",
            "\n",
            "=== Epoch:  5  /  10  ===\n",
            "LR: 2.0000000000000003e-06\n",
            "Unfreeze BERT\n",
            "Train Acc: 0.9207114361702128\n",
            "Val Acc: 0.8352864583333334 \n",
            "\n",
            "=== Epoch:  6  /  10  ===\n",
            "LR: 2.0000000000000003e-06\n",
            "Freeze BERT\n",
            "Train Acc: 0.9198803191489362\n",
            "Val Acc: 0.8385416666666666 \n",
            "\n",
            "=== Epoch:  7  /  10  ===\n",
            "LR: 2.0000000000000003e-06\n",
            "Unfreeze BERT\n",
            "Train Acc: 0.9288563829787234\n",
            "Val Acc: 0.8483072916666666 \n",
            "\n",
            "=== Epoch:  8  /  10  ===\n",
            "LR: 2.0000000000000004e-07\n",
            "Freeze BERT\n",
            "Train Acc: 0.9290226063829787\n",
            "Val Acc: 0.84765625 \n",
            "\n",
            "=== Epoch:  9  /  10  ===\n",
            "LR: 2.0000000000000004e-07\n",
            "Unfreeze BERT\n",
            "Train Acc: 0.9305186170212766\n",
            "Val Acc: 0.841796875 \n",
            "\n",
            "=== Epoch:  10  /  10  ===\n",
            "LR: 2.0000000000000004e-07\n",
            "Freeze BERT\n",
            "Train Acc: 0.930186170212766\n",
            "Val Acc: 0.841796875 \n",
            "\n"
          ]
        }
      ]
    },
    {
      "cell_type": "markdown",
      "metadata": {
        "id": "nfTSsLCSTrkK"
      },
      "source": [
        "Sotto è riportata una tabella riassuntiva che riporta per ogni epoca(valore prima colonna +1) il relativo risultato di 2 funzioni di accuratezza sia per il training, sia per il validation set."
      ]
    },
    {
      "cell_type": "code",
      "metadata": {
        "id": "6D7mS38iQE7F",
        "colab": {
          "base_uri": "https://localhost:8080/",
          "height": 359
        },
        "outputId": "662dc103-ef8e-4ade-fa68-7fbf62b1efb4"
      },
      "source": [
        "history_df = pd.DataFrame(history)\n",
        "history_df"
      ],
      "execution_count": null,
      "outputs": [
        {
          "output_type": "execute_result",
          "data": {
            "text/html": [
              "<div>\n",
              "<style scoped>\n",
              "    .dataframe tbody tr th:only-of-type {\n",
              "        vertical-align: middle;\n",
              "    }\n",
              "\n",
              "    .dataframe tbody tr th {\n",
              "        vertical-align: top;\n",
              "    }\n",
              "\n",
              "    .dataframe thead th {\n",
              "        text-align: right;\n",
              "    }\n",
              "</style>\n",
              "<table border=\"1\" class=\"dataframe\">\n",
              "  <thead>\n",
              "    <tr style=\"text-align: right;\">\n",
              "      <th></th>\n",
              "      <th>acc_train</th>\n",
              "      <th>f1_train</th>\n",
              "      <th>acc_val</th>\n",
              "      <th>f1_val</th>\n",
              "    </tr>\n",
              "  </thead>\n",
              "  <tbody>\n",
              "    <tr>\n",
              "      <th>0</th>\n",
              "      <td>0.867188</td>\n",
              "      <td>0.865975</td>\n",
              "      <td>0.846354</td>\n",
              "      <td>0.844237</td>\n",
              "    </tr>\n",
              "    <tr>\n",
              "      <th>1</th>\n",
              "      <td>0.860871</td>\n",
              "      <td>0.860609</td>\n",
              "      <td>0.838542</td>\n",
              "      <td>0.838729</td>\n",
              "    </tr>\n",
              "    <tr>\n",
              "      <th>2</th>\n",
              "      <td>0.911902</td>\n",
              "      <td>0.911581</td>\n",
              "      <td>0.841146</td>\n",
              "      <td>0.841402</td>\n",
              "    </tr>\n",
              "    <tr>\n",
              "      <th>3</th>\n",
              "      <td>0.910904</td>\n",
              "      <td>0.910184</td>\n",
              "      <td>0.851562</td>\n",
              "      <td>0.851332</td>\n",
              "    </tr>\n",
              "    <tr>\n",
              "      <th>4</th>\n",
              "      <td>0.920711</td>\n",
              "      <td>0.920500</td>\n",
              "      <td>0.835286</td>\n",
              "      <td>0.836026</td>\n",
              "    </tr>\n",
              "    <tr>\n",
              "      <th>5</th>\n",
              "      <td>0.919880</td>\n",
              "      <td>0.919674</td>\n",
              "      <td>0.838542</td>\n",
              "      <td>0.839293</td>\n",
              "    </tr>\n",
              "    <tr>\n",
              "      <th>6</th>\n",
              "      <td>0.928856</td>\n",
              "      <td>0.928605</td>\n",
              "      <td>0.848307</td>\n",
              "      <td>0.848348</td>\n",
              "    </tr>\n",
              "    <tr>\n",
              "      <th>7</th>\n",
              "      <td>0.929023</td>\n",
              "      <td>0.928553</td>\n",
              "      <td>0.847656</td>\n",
              "      <td>0.847688</td>\n",
              "    </tr>\n",
              "    <tr>\n",
              "      <th>8</th>\n",
              "      <td>0.930519</td>\n",
              "      <td>0.930227</td>\n",
              "      <td>0.841797</td>\n",
              "      <td>0.842605</td>\n",
              "    </tr>\n",
              "    <tr>\n",
              "      <th>9</th>\n",
              "      <td>0.930186</td>\n",
              "      <td>0.929983</td>\n",
              "      <td>0.841797</td>\n",
              "      <td>0.842261</td>\n",
              "    </tr>\n",
              "  </tbody>\n",
              "</table>\n",
              "</div>"
            ],
            "text/plain": [
              "   acc_train  f1_train   acc_val    f1_val\n",
              "0   0.867188  0.865975  0.846354  0.844237\n",
              "1   0.860871  0.860609  0.838542  0.838729\n",
              "2   0.911902  0.911581  0.841146  0.841402\n",
              "3   0.910904  0.910184  0.851562  0.851332\n",
              "4   0.920711  0.920500  0.835286  0.836026\n",
              "5   0.919880  0.919674  0.838542  0.839293\n",
              "6   0.928856  0.928605  0.848307  0.848348\n",
              "7   0.929023  0.928553  0.847656  0.847688\n",
              "8   0.930519  0.930227  0.841797  0.842605\n",
              "9   0.930186  0.929983  0.841797  0.842261"
            ]
          },
          "metadata": {},
          "execution_count": 82
        }
      ]
    },
    {
      "cell_type": "markdown",
      "metadata": {
        "id": "NbrJgrKRUuIL"
      },
      "source": [
        "Visualizzazione grafica della variazione del *F1_score* del training set al variare delle epoche."
      ]
    },
    {
      "cell_type": "code",
      "metadata": {
        "id": "BZcUyf76b63p",
        "colab": {
          "base_uri": "https://localhost:8080/",
          "height": 295
        },
        "outputId": "9b86960a-9b32-4b17-a196-401f31c43dee"
      },
      "source": [
        "fig, ax = plt.subplots()\n",
        "ax.set_title(\"f1 history\")\n",
        "ax.set_ylabel(\"f1\")\n",
        "ax.set_xlabel(\"epoch\")\n",
        "plt.xticks(ticks=np.arange(0, epochs), labels=np.arange(1, epochs + 1))\n",
        "history_df.loc[:,['f1_train', 'f1_val']].plot(ax=ax)\n",
        "plt.savefig(\"f1.png\")"
      ],
      "execution_count": null,
      "outputs": [
        {
          "output_type": "display_data",
          "data": {
            "image/png": "[encoded data removed]",
            "text/plain": [
              "<Figure size 432x288 with 1 Axes>"
            ]
          },
          "metadata": {
            "needs_background": "light"
          }
        }
      ]
    },
    {
      "cell_type": "markdown",
      "metadata": {
        "id": "JO4-C0_SU5hb"
      },
      "source": [
        "Visualizzazione grafica della variazione dell'*accuracy_score* sul validation set al variare delle epoche."
      ]
    },
    {
      "cell_type": "code",
      "metadata": {
        "id": "Q19YzFxBcIIg",
        "colab": {
          "base_uri": "https://localhost:8080/",
          "height": 295
        },
        "outputId": "5682c8b4-1115-4959-fef0-5b7cc72f4c5d"
      },
      "source": [
        "fig, ax = plt.subplots()\n",
        "ax.set_title(\"accuracy history\")\n",
        "ax.set_ylabel(\"accuracy\")\n",
        "ax.set_xlabel(\"epoch\")\n",
        "plt.xticks(ticks=np.arange(0, epochs), labels=np.arange(1, epochs + 1))\n",
        "history_df.loc[:,['acc_train', 'acc_val']].plot(ax=ax)\n",
        "plt.savefig(\"acc.png\") "
      ],
      "execution_count": null,
      "outputs": [
        {
          "output_type": "display_data",
          "data": {
            "image/png": "[encoded data removed]",
            "text/plain": [
              "<Figure size 432x288 with 1 Axes>"
            ]
          },
          "metadata": {
            "needs_background": "light"
          }
        }
      ]
    },
    {
      "cell_type": "markdown",
      "metadata": {
        "id": "3iQt1tYB7qOW"
      },
      "source": [
        "La classificazione basata su BERT in genere ottiene ottimi risultati dopo poche epoche, questo è evidente dai 2 grafici (accuratezza training set e validation set), le prestazioni del nostro modello sul validation set sono già meglio rispetto ai precedenti modelli con 3 iterazioni."
      ]
    },
    {
      "cell_type": "markdown",
      "metadata": {
        "id": "ZNrJgQRzzNrF"
      },
      "source": [
        "## Testing and submission"
      ]
    },
    {
      "cell_type": "markdown",
      "metadata": {
        "id": "QvBkxAFpPhXN"
      },
      "source": [
        "Tokenizzazione del test set e applicazione del Dataloader in modo analogo a quanto fatto per il training set."
      ]
    },
    {
      "cell_type": "code",
      "metadata": {
        "id": "dmkD0OrPzQQo"
      },
      "source": [
        "test_tokens = []\n",
        "test_attention_masks = []\n",
        "\n",
        "for text in test:\n",
        "    encoded_dict = tokenizer.encode_plus(text,\n",
        "                                         add_special_tokens=True,\n",
        "                                         max_length=sequence_length,\n",
        "                                         padding=\"max_length\",\n",
        "                                         return_tensors='pt',\n",
        "                                         truncation=True)\n",
        "    test_tokens.append(encoded_dict['input_ids'])\n",
        "    test_attention_masks.append(encoded_dict['attention_mask'])\n",
        "test_tokens = torch.cat(test_tokens, dim=0).to(device)\n",
        "test_attention_masks = torch.cat(test_attention_masks, dim=0).to(device)\n",
        "\n",
        "\n",
        "test_set = TensorDataset(test_tokens, test_attention_masks)\n",
        "test_dataloader = DataLoader(test_set, \n",
        "                             sampler=SequentialSampler(test_set), \n",
        "                             batch_size=batch_size)"
      ],
      "execution_count": null,
      "outputs": []
    },
    {
      "cell_type": "markdown",
      "metadata": {
        "id": "4z9J1Z3dQh_b"
      },
      "source": [
        "Fase di predizione fatta per ogni batch nel Dataloader, infine si sono unite tutte le previsioni all'interno del vettore `all_preds`"
      ]
    },
    {
      "cell_type": "code",
      "metadata": {
        "id": "VtFbLDdx1exx"
      },
      "source": [
        "all_preds = []\n",
        "\n",
        "for batch in test_dataloader:\n",
        "    x_batch, attention_mask = batch\n",
        "    with torch.no_grad():\n",
        "        probas = bert_clf(tokens=x_batch, attention_mask=attention_mask)\n",
        "    preds = np.round(probas.cpu().detach().numpy()).astype(int).flatten()\n",
        "    all_preds.extend(preds)"
      ],
      "execution_count": null,
      "outputs": []
    },
    {
      "cell_type": "markdown",
      "metadata": {
        "id": "_hYkdN91RxZS"
      },
      "source": [
        "Salvataggio delle previsioni su un file .csv"
      ]
    },
    {
      "cell_type": "code",
      "metadata": {
        "id": "2TF6I2Yj1hB6"
      },
      "source": [
        "challenge_pred = pd.concat([pd.read_csv(\"/content/drive/MyDrive/Colab Notebooks/Twitter fn/datasets/sample_submission.csv\")[\"id\"], pd.Series(all_preds)], axis=1)\n",
        "challenge_pred.columns = ['id','target']\n",
        "challenge_pred.to_csv(\"submissionBERT.csv\", index=False)"
      ],
      "execution_count": null,
      "outputs": []
    },
    {
      "cell_type": "markdown",
      "metadata": {
        "id": "iB41mMnc7Ri4"
      },
      "source": [
        "## BERT results"
      ]
    },
    {
      "cell_type": "markdown",
      "metadata": {
        "id": "d7p9pJsO7W5P"
      },
      "source": [
        "Dopo esserci resi conto che questo modello è il più performante tra quelli testati ci siamo concentrati sul tuning dei parametri per ottenere una massimizzazione dello score finale. Inoltre abbiamo inserito diverse operazioni di feature engineering sul dataset finalizzate allo stesso obiettivo.\n",
        "\n",
        "Di seguito vengono riportate le diverse configurazioni testate con i relativi risultati ottenuti:\n",
        "\n",
        "> *Tentativo 1:*\n",
        "*  `sequence_length = 64`\n",
        "*  `batch_size = 16` \n",
        "*  *Cleaning* = No \n",
        "*  *Training_Dimension* = 0.8 \n",
        "*  `Learning_rate = 2e-5`\n",
        "*  *epochs* = 20\n",
        "*  `dropout = 0.8`\n",
        "*  **score = 0.83604**\n",
        "\n",
        "> *Tentativo 2:*\n",
        "*  `sequence_length = 64`\n",
        "*  `batch_size = 16` \n",
        "*  *Cleaning* = No \n",
        "*  *Training_Dimension* = 0.75 \n",
        "*  `Learning_rate = 2e-5`\n",
        "*  *epochs* = 20\n",
        "*  `dropout = 0.8`\n",
        "*  **score = 0.82653**\n",
        "\n",
        "> *Tentativo 3:*\n",
        "*  `sequence_length = 64`\n",
        "*  `batch_size = 16` \n",
        "*  *Cleaning* = Yes \n",
        "*  *Training_Dimension* = 0.8 \n",
        "*  `Learning_rate = 2e-5`\n",
        "*  *epochs* = 10\n",
        "*  `dropout = 0.8`\n",
        "*  **score = 0.83328**\n",
        "\n",
        "> *Tentativo 4:*\n",
        "*  `sequence_length = 64`\n",
        "*  `batch_size = 16` \n",
        "*  *Cleaning* = Yes \n",
        "*  *Training_Dimension* = 0.8 \n",
        "*  `Learning_rate = 2e-5`\n",
        "*  *epochs* = 20\n",
        "*  `dropout = 0.8`\n",
        "*  **score = 0.80876**\n",
        "\n",
        "> *Tentativo 5:*\n",
        "*  `sequence_length = 64`\n",
        "*  `batch_size = 16` \n",
        "*  *Cleaning* = Yes (con cleaning alternativo, poi eliminato)\n",
        "*  *Training_Dimension* = 0.8 \n",
        "*  `Learning_rate = 2e-5`\n",
        "*  *epochs* = 10\n",
        "*  `dropout = 0.8`\n",
        "*  **score = 0.82408**\n",
        "\n",
        "> *Tentativo 6:*\n",
        "*  `sequence_length = 64`\n",
        "*  `batch_size = 32` \n",
        "*  *Cleaning* = Yes \n",
        "*  *Training_Dimension* = 0.8 \n",
        "*  `Learning_rate = 2e-5`\n",
        "*  *epochs* = 10\n",
        "*  `dropout = 0.8`\n",
        "*  **score = 0.83818**\n",
        "\n",
        "> *Tentativo 7:*\n",
        "*  `sequence_length = 32`\n",
        "*  `batch_size = 32` \n",
        "*  *Cleaning* = Yes \n",
        "*  *Training_Dimension* = 0.8 \n",
        "*  `Learning_rate = 1e-5`\n",
        "*  *epochs* = 10\n",
        "*  `dropout = 0.8`\n",
        "*  **score = 0.83083**\n",
        "\n",
        "> *Tentativo 8:*\n",
        "*  `sequence_length = 64`\n",
        "*  `batch_size = 32` \n",
        "*  *Cleaning* = Yes \n",
        "*  *Training_Dimension* = 0.8 \n",
        "*  `Learning_rate = 2e-5`\n",
        "*  *epochs* = 10\n",
        "*  `dropout = 0.25`\n",
        "*  **score = 0.83879**\n",
        "\n",
        "> *Tentativo 9:*\n",
        "*  `sequence_length = 64`\n",
        "*  `batch_size = 32` \n",
        "*  *Cleaning* = Yes \n",
        "*  *Training_Dimension* = 0.8 \n",
        "*  `Learning_rate = 1e-5`\n",
        "*  *epochs* = 10\n",
        "*  `dropout = 0.25`\n",
        "*  **score = 0.82868**"
      ]
    },
    {
      "cell_type": "markdown",
      "metadata": {
        "id": "7wMbdQ4EEKuv"
      },
      "source": [
        "Al termine di tutti i test abbiamo ottenuto come score migliore **0.83879**, un risultato ben al di sopra degli altri modelli. Si noti però che BERT è un modello già pre-allenato e quindi questo risultato era prevedibile."
      ]
    },
    {
      "cell_type": "markdown",
      "metadata": {
        "id": "8v8E1yHwny83"
      },
      "source": [
        "# Conclusions"
      ]
    },
    {
      "cell_type": "markdown",
      "metadata": {
        "id": "POnkh3NsJbGJ"
      },
      "source": [
        "In conclusione il modello più performante è risultato essere BERT, avendo prestazioni molto superiori a tutti gli altri. Tramite tuning dei parametri siamo riusciti a migliorare i risultati ottenuti con il modello di base e posizionarci 62esimi su 961 team in competizione. Inoltre c'è da considerare che le prime 19 posizioni sono ricoperte da utenti che usando un dataset espanso ottenendo uno score perfetto (1.00), quasi impossibile da avere altrimenti. \n",
        "Consideriamo questo un buon risultato per essere la nostra prima esperienza, poichè ci troviamo nel top 6% della leaderboard.\n",
        "\n",
        "Escludendo BERT, tra gli altri modelli, le prestazioni migliori sono state ottenute da Extra trees che si è avvicinato allo score di 0.8.\n",
        "\n",
        "Di seguito viene riportato un grafico riassuntivo degli score ottenuti nella competizione dai vari modelli (i BERT sono identificati dal numero di tentativo come descritto in precedenza)."
      ]
    },
    {
      "cell_type": "code",
      "metadata": {
        "id": "djUE9j8Kn4d2",
        "colab": {
          "base_uri": "https://localhost:8080/",
          "height": 387
        },
        "outputId": "c6db4352-0e40-4ccf-bf72-cbfa22646764"
      },
      "source": [
        "df  = results\n",
        "\n",
        "df.plot(title='Testing score for all classifiers', kind='bar', x='classifier',yticks=[0.7,0.75,0.8,0.85], grid=True, ylim=[0.7,0.9])  # plots all columns against index"
      ],
      "execution_count": null,
      "outputs": [
        {
          "output_type": "execute_result",
          "data": {
            "text/plain": [
              "<matplotlib.axes._subplots.AxesSubplot at 0x7f9df81978d0>"
            ]
          },
          "metadata": {},
          "execution_count": 9
        },
        {
          "output_type": "display_data",
          "data": {
            "image/png": "[encoded data removed]",
            "text/plain": [
              "<Figure size 432x288 with 1 Axes>"
            ]
          },
          "metadata": {
            "needs_background": "light"
          }
        }
      ]
    }
  ]
}